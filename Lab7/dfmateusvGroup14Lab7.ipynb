{
  "nbformat": 4,
  "nbformat_minor": 0,
  "metadata": {
    "colab": {
      "provenance": [],
      "include_colab_link": true
    },
    "kernelspec": {
      "name": "python3",
      "display_name": "Python 3"
    },
    "language_info": {
      "name": "python"
    }
  },
  "cells": [
    {
      "cell_type": "markdown",
      "metadata": {
        "id": "view-in-github",
        "colab_type": "text"
      },
      "source": [
        "<a href=\"https://colab.research.google.com/github/matiuss/AlgorithmsUN2023II/blob/main/Lab7/dfmateusvGroup14Lab7.ipynb\" target=\"_parent\"><img src=\"https://colab.research.google.com/assets/colab-badge.svg\" alt=\"Open In Colab\"/></a>"
      ]
    },
    {
      "cell_type": "markdown",
      "source": [
        "##Group14\n",
        "##LAB 7 Gale-Shapley and Irving Algorithms (Groups)  [part of the first test]"
      ],
      "metadata": {
        "id": "3FckvA7qRwsW"
      }
    },
    {
      "cell_type": "markdown",
      "source": [
        "1) Find the best and worst cases for the Gale-Shapley and Irving (An Efficient Algorithm for the “Stable Roommates” Problem) Algorithms and run in Colab these algorithms for those cases for n=4 and 40."
      ],
      "metadata": {
        "id": "0iSfFlIpR2yN"
      }
    },
    {
      "cell_type": "markdown",
      "source": [
        "#Gale - Shapley Algorithm"
      ],
      "metadata": {
        "id": "2IynJxmRSB2K"
      }
    },
    {
      "cell_type": "code",
      "execution_count": null,
      "metadata": {
        "id": "g_uBa_KGRnAQ"
      },
      "outputs": [],
      "source": [
        "#source https://www.geeksforgeeks.org/stable-marriage-problem/\n",
        "# This function returns true if\n",
        "# woman 'w' prefers man 'm1' over man 'm'\n",
        "def wPrefersM1OverM(prefer, w, m, m1, N):\n",
        "\n",
        "    # Check if w prefers m over her\n",
        "    # current engagement m1\n",
        "    for i in range(N):\n",
        "\n",
        "        # If m1 comes before m in list of w,\n",
        "        # then w prefers her current engagement,\n",
        "        # don't do anything\n",
        "        if (prefer[w][i] == m1):\n",
        "            return True\n",
        "\n",
        "        # If m comes before m1 in w's list,\n",
        "        # then free her current engagement\n",
        "        # and engage her with m\n",
        "        if (prefer[w][i] == m):\n",
        "            return False\n",
        "\n",
        "# Prints stable matching for N boys and N girls.\n",
        "# Boys are numbered as 0 to N-1.\n",
        "# Girls are numbered as N to 2N-1.\n",
        "def gale_shapley_sma(prefer, N):\n",
        "\n",
        "    # Stores partner of women. This is our output\n",
        "    # array that stores passing information.\n",
        "    # The value of wPartner[i] indicates the partner\n",
        "    # assigned to woman N+i. Note that the woman numbers\n",
        "    # between N and 2*N-1. The value -1 indicates\n",
        "    # that (N+i)'th woman is free\n",
        "    wPartner = [-1 for i in range(N)]\n",
        "\n",
        "    # An array to store availability of men.\n",
        "    # If mFree[i] is false, then man 'i' is free,\n",
        "    # otherwise engaged.\n",
        "    mFree = [False for i in range(N)]\n",
        "\n",
        "    freeCount = N\n",
        "\n",
        "    # While there are free men\n",
        "    while (freeCount > 0):\n",
        "\n",
        "        # Pick the first free man (we could pick any)\n",
        "        m = 0\n",
        "        while (m < N):\n",
        "            if (mFree[m] == False):\n",
        "                break\n",
        "            m += 1\n",
        "\n",
        "        # One by one go to all women according to\n",
        "        # m's preferences. Here m is the picked free man\n",
        "        i = 0\n",
        "        while i < N and mFree[m] == False:\n",
        "            w = prefer[m][i]\n",
        "\n",
        "            # The woman of preference is free,\n",
        "            # w and m become partners (Note that\n",
        "            # the partnership maybe changed later).\n",
        "            # So we can say they are engaged not married\n",
        "            if (wPartner[w - N] == -1):\n",
        "                wPartner[w - N] = m\n",
        "                mFree[m] = True\n",
        "                freeCount -= 1\n",
        "\n",
        "            else:\n",
        "\n",
        "                # If w is not free\n",
        "                # Find current engagement of w\n",
        "                m1 = wPartner[w - N]\n",
        "\n",
        "                # If w prefers m over her current engagement m1,\n",
        "                # then break the engagement between w and m1 and\n",
        "                # engage m with w.\n",
        "                if (wPrefersM1OverM(prefer, w, m, m1, N) == False):\n",
        "                    wPartner[w - N] = m\n",
        "                    mFree[m] = True\n",
        "                    mFree[m1] = False\n",
        "            i += 1\n",
        "\n",
        "            # End of Else\n",
        "        # End of the for loop that goes\n",
        "        # to all women in m's list\n",
        "    # End of main while loop\n",
        "\n",
        "    # Print solution\n",
        "    print(\"Woman \", \" Man\")\n",
        "    for i in range(N):\n",
        "        print(i + N, \"\\t\", wPartner[i])"
      ]
    },
    {
      "cell_type": "code",
      "source": [
        "import numpy as np\n",
        "#N = 4\n",
        "n = 4\n",
        "mpref = [ list(map(lambda l: l + n, np.random.permutation(n))) for i in range(n) ]\n",
        "wpref = [ list(np.random.permutation(n)) for i in range(n) ]\n",
        "pref_l = mpref + wpref\n",
        "print(\"n = 4\")\n",
        "gale_shapley_sma(pref_l, n)\n",
        "print()\n",
        "\n",
        "#N = 40\n",
        "n = 40\n",
        "mpref = [ list(map(lambda l: l + n, np.random.permutation(n))) for i in range(n) ]\n",
        "wpref = [ list(np.random.permutation(n)) for i in range(n) ]\n",
        "pref_l = mpref + wpref\n",
        "print(\"n = 40\")\n",
        "gale_shapley_sma(pref_l, n)"
      ],
      "metadata": {
        "id": "PemNv44oYO-5",
        "colab": {
          "base_uri": "https://localhost:8080/"
        },
        "outputId": "1beab9c8-e476-4e94-e99e-10ba9f822fb0"
      },
      "execution_count": null,
      "outputs": [
        {
          "output_type": "stream",
          "name": "stdout",
          "text": [
            "n = 4\n",
            "Woman   Man\n",
            "4 \t 3\n",
            "5 \t 1\n",
            "6 \t 2\n",
            "7 \t 0\n",
            "\n",
            "n = 40\n",
            "Woman   Man\n",
            "40 \t 5\n",
            "41 \t 30\n",
            "42 \t 7\n",
            "43 \t 3\n",
            "44 \t 15\n",
            "45 \t 27\n",
            "46 \t 23\n",
            "47 \t 33\n",
            "48 \t 24\n",
            "49 \t 9\n",
            "50 \t 13\n",
            "51 \t 14\n",
            "52 \t 29\n",
            "53 \t 28\n",
            "54 \t 2\n",
            "55 \t 31\n",
            "56 \t 26\n",
            "57 \t 11\n",
            "58 \t 38\n",
            "59 \t 1\n",
            "60 \t 0\n",
            "61 \t 18\n",
            "62 \t 19\n",
            "63 \t 17\n",
            "64 \t 21\n",
            "65 \t 6\n",
            "66 \t 10\n",
            "67 \t 25\n",
            "68 \t 12\n",
            "69 \t 39\n",
            "70 \t 37\n",
            "71 \t 35\n",
            "72 \t 32\n",
            "73 \t 22\n",
            "74 \t 36\n",
            "75 \t 20\n",
            "76 \t 34\n",
            "77 \t 4\n",
            "78 \t 16\n",
            "79 \t 8\n"
          ]
        }
      ]
    },
    {
      "cell_type": "markdown",
      "source": [
        "#Irving Algorithm"
      ],
      "metadata": {
        "id": "-qk1TSMDfvpO"
      }
    },
    {
      "cell_type": "code",
      "source": [
        "#Inspired from \"The Stable Marriage Problem. MIT Press Gusfield D., Irving Robert W.\" code snippet.\n",
        "def irving_rhma(rpref, hpref):\n",
        "  #track of r with h. dict for indexing\n",
        "  n = len(rpref)\n",
        "  ravl = [ -1 for i in range(n) ]\n",
        "  havl = dict()\n",
        "  while ravl.count(-1) != 0:\n",
        "    for r in range(n):\n",
        "      if ravl[r] == -1:\n",
        "        h = rpref[r][0]\n",
        "        rpref[r].pop(0) #dscrd\n",
        "        if h not in havl:\n",
        "          havl[h] = r\n",
        "          ravl[r] = h\n",
        "        else:\n",
        "          dsp_r = havl[h]\n",
        "          chpref = hpref[h]\n",
        "          if chpref.index(r) < chpref.index(dsp_r):\n",
        "            havl[h] = r\n",
        "            ravl[r] = h\n",
        "            ravl[dsp_r] = -1\n",
        "  return ravl"
      ],
      "metadata": {
        "id": "Kyj6utuqf1XF"
      },
      "execution_count": null,
      "outputs": []
    },
    {
      "cell_type": "code",
      "source": [
        "import numpy as np\n",
        "#N = 4\n",
        "n = 4\n",
        "rpref = [ list(np.random.permutation(n)) for i in range(n) ]\n",
        "hpref = [ list(np.random.permutation(n)) for i in range(n) ]\n",
        "print(f\"r. match. n = 4: {irving_rhma(rpref, hpref)}\")\n",
        "\n",
        "#N = 40\n",
        "n = 40\n",
        "rpref = [ list(np.random.permutation(n)) for i in range(n) ]\n",
        "hpref = [ list(np.random.permutation(n)) for i in range(n) ]\n",
        "print(f\"r. match n = 40: {irving_rhma(rpref, hpref)}\")"
      ],
      "metadata": {
        "colab": {
          "base_uri": "https://localhost:8080/"
        },
        "id": "hUJPUixxjvYy",
        "outputId": "e59c4784-b753-4208-a07c-2c63a73c1293"
      },
      "execution_count": null,
      "outputs": [
        {
          "output_type": "stream",
          "name": "stdout",
          "text": [
            "r. match. n = 4: [1, 3, 0, 2]\n",
            "r. match n = 40: [2, 32, 30, 6, 15, 10, 22, 27, 23, 4, 37, 21, 12, 33, 35, 1, 25, 38, 5, 3, 39, 9, 11, 7, 19, 17, 16, 24, 18, 36, 28, 31, 29, 34, 8, 14, 20, 26, 0, 13]\n"
          ]
        }
      ]
    },
    {
      "cell_type": "markdown",
      "source": [
        "2) Run the Gale-Shapley Algorithm 100 times using random permutations as preference lists for n=4 and 40. Find the minimum, maximum and average number of iterations and plot the distribution of the number of iterations."
      ],
      "metadata": {
        "id": "CYj5lUk_gyp3"
      }
    },
    {
      "cell_type": "code",
      "source": [
        "#source https://www.geeksforgeeks.org/stable-marriage-problem/\n",
        "# This function returns true if\n",
        "# woman 'w' prefers man 'm1' over man 'm'\n",
        "def wPrefersM1OverM(prefer, w, m, m1, N):\n",
        "\n",
        "    # Check if w prefers m over her\n",
        "    # current engagement m1\n",
        "    for i in range(N):\n",
        "\n",
        "        # If m1 comes before m in list of w,\n",
        "        # then w prefers her current engagement,\n",
        "        # don't do anything\n",
        "        if (prefer[w][i] == m1):\n",
        "            return True\n",
        "\n",
        "        # If m comes before m1 in w's list,\n",
        "        # then free her current engagement\n",
        "        # and engage her with m\n",
        "        if (prefer[w][i] == m):\n",
        "            return False\n",
        "\n",
        "# Prints stable matching for N boys and N girls.\n",
        "# Boys are numbered as 0 to N-1.\n",
        "# Girls are numbered as N to 2N-1.\n",
        "def gale_shapley_sma_itr(prefer, N, iter):\n",
        "\n",
        "    # Stores partner of women. This is our output\n",
        "    # array that stores passing information.\n",
        "    # The value of wPartner[i] indicates the partner\n",
        "    # assigned to woman N+i. Note that the woman numbers\n",
        "    # between N and 2*N-1. The value -1 indicates\n",
        "    # that (N+i)'th woman is free\n",
        "    wPartner = [-1 for i in range(N)]\n",
        "\n",
        "    # An array to store availability of men.\n",
        "    # If mFree[i] is false, then man 'i' is free,\n",
        "    # otherwise engaged.\n",
        "    mFree = [False for i in range(N)]\n",
        "\n",
        "    freeCount = N\n",
        "    iter_i = 0\n",
        "    # While there are free men\n",
        "    while (freeCount > 0):\n",
        "\n",
        "        # Pick the first free man (we could pick any)\n",
        "        m = 0\n",
        "        while (m < N):\n",
        "            if (mFree[m] == False):\n",
        "                break\n",
        "            m += 1\n",
        "\n",
        "        # One by one go to all women according to\n",
        "        # m's preferences. Here m is the picked free man\n",
        "        i = 0\n",
        "        while i < N and mFree[m] == False:\n",
        "            w = prefer[m][i]\n",
        "\n",
        "            # The woman of preference is free,\n",
        "            # w and m become partners (Note that\n",
        "            # the partnership maybe changed later).\n",
        "            # So we can say they are engaged not married\n",
        "            if (wPartner[w - N] == -1):\n",
        "                wPartner[w - N] = m\n",
        "                mFree[m] = True\n",
        "                freeCount -= 1\n",
        "\n",
        "            else:\n",
        "\n",
        "                # If w is not free\n",
        "                # Find current engagement of w\n",
        "                m1 = wPartner[w - N]\n",
        "\n",
        "                # If w prefers m over her current engagement m1,\n",
        "                # then break the engagement between w and m1 and\n",
        "                # engage m with w.\n",
        "                if (wPrefersM1OverM(prefer, w, m, m1, N) == False):\n",
        "                    wPartner[w - N] = m\n",
        "                    mFree[m] = True\n",
        "                    mFree[m1] = False\n",
        "            i += 1\n",
        "            # End of Else\n",
        "        # End of the for loop that goes\n",
        "        # to all women in m's list\n",
        "        iter_i += 1\n",
        "    # End of main while loop\n",
        "    iter.append(iter_i)\n",
        "    return iter"
      ],
      "metadata": {
        "id": "GjwSaJcypDGi"
      },
      "execution_count": null,
      "outputs": []
    },
    {
      "cell_type": "code",
      "source": [
        "import numpy as np\n",
        "import matplotlib.pyplot as plt\n",
        "\n",
        "iter4 = []\n",
        "#N = 4\n",
        "n = 4\n",
        "for i in range(100):\n",
        "  pref_l = []\n",
        "  mpref = [ list(map(lambda l: l + n, np.random.permutation(n))) for i in range(n) ]\n",
        "  wpref = [ list(np.random.permutation(n)) for i in range(n) ]\n",
        "  pref_l = mpref + wpref\n",
        "  iter4 = gale_shapley_sma_itr(pref_l, n, iter4)\n",
        "print(f\"For n = 4:\\nMin iterations: {min(iter4)}\\nMax iterations: {max(iter4)}\\nAverage iterations: {sum(iter4) / 100}\")\n",
        "plt.hist(iter4, color=\"red\", rwidth=4)\n",
        "plt.title(\"n = 4\")\n",
        "plt.xlabel(\"iters.\")\n",
        "plt.ylabel(\"freq.\")\n",
        "plt.tight_layout()\n",
        "plt.show()\n",
        "\n",
        "#N = 40\n",
        "iter40 = []\n",
        "n = 40\n",
        "for i in range(100):\n",
        "  pref_l = []\n",
        "  mpref = [ list(map(lambda l: l + n, np.random.permutation(n))) for i in range(n) ]\n",
        "  wpref = [ list(np.random.permutation(n)) for i in range(n) ]\n",
        "  pref_l = mpref + wpref\n",
        "  iter40 = gale_shapley_sma_itr(pref_l, n, iter40)\n",
        "print(f\"For n = 40:\\nMin iterations: {min(iter40)}\\nMax iterations: {max(iter40)}\\nAverage iterations: {sum(iter40) / 100}\")\n",
        "plt.hist(iter40, color=\"cyan\", rwidth=4)\n",
        "plt.title(\"n = 40\")\n",
        "plt.xlabel(\"iters.\")\n",
        "plt.ylabel(\"freq.\")\n",
        "plt.tight_layout()\n",
        "plt.show()"
      ],
      "metadata": {
        "id": "zyKOZuhbpLbK",
        "colab": {
          "base_uri": "https://localhost:8080/",
          "height": 1000
        },
        "outputId": "b876e9f9-c937-40a4-fcfb-4ce012b19b01"
      },
      "execution_count": null,
      "outputs": [
        {
          "output_type": "stream",
          "name": "stdout",
          "text": [
            "For n = 4:\n",
            "Min iterations: 4\n",
            "Max iterations: 9\n",
            "Average iterations: 5.22\n"
          ]
        },
        {
          "output_type": "display_data",
          "data": {
            "text/plain": [
              "<Figure size 640x480 with 1 Axes>"
            ],
            "image/png": "[encoded data removed]"
          },
          "metadata": {}
        },
        {
          "output_type": "stream",
          "name": "stdout",
          "text": [
            "For n = 40:\n",
            "Min iterations: 57\n",
            "Max iterations: 102\n",
            "Average iterations: 78.18\n"
          ]
        },
        {
          "output_type": "display_data",
          "data": {
            "text/plain": [
              "<Figure size 640x480 with 1 Axes>"
            ],
            "image/png": "[encoded data removed]"
          },
          "metadata": {}
        }
      ]
    },
    {
      "cell_type": "markdown",
      "source": [
        "3) Simulate the the Gale-Shapley and Irving algorithms using random preference lists , for n=4 and 40 and generate a gift animation fo the type show in “Illustrating the Deferred Acceptance Algorithm with R"
      ],
      "metadata": {
        "id": "rYZSeEZTg8lV"
      }
    },
    {
      "cell_type": "markdown",
      "source": [
        "#Gale - Shapley Algorithm gif"
      ],
      "metadata": {
        "id": "lV8vDL8hzZUm"
      }
    },
    {
      "cell_type": "code",
      "source": [
        "#Source, in its majority, taken from https://github.com/Daniel1309-gon.\n",
        "from PIL import Image, ImageDraw\n",
        "import numpy as np\n",
        "import random\n",
        "\n",
        "def gale_shapley_animation(preferences):\n",
        "    n = len(preferences)\n",
        "    men = list(range(n))\n",
        "    women = list(range(n))\n",
        "    engagements = {}\n",
        "    snapshots = []  # Store snapshots for GIF\n",
        "\n",
        "    while len(engagements) < n:\n",
        "        snapshot = draw_snapshot(engagements, men, women, n)\n",
        "        snapshots.append(snapshot)\n",
        "\n",
        "        if not men:\n",
        "            break  # Terminate if all men are engaged\n",
        "\n",
        "        man = men.pop(0)\n",
        "        if not preferences[man]:\n",
        "            continue  # Skip if the preference list is empty\n",
        "        woman = preferences[man].pop(0)\n",
        "        current_engagement = engagements.get(woman)\n",
        "        if current_engagement is None:\n",
        "            engagements[woman] = man\n",
        "        else:\n",
        "            woman_preferences = preferences[woman]\n",
        "            if man in woman_preferences and current_engagement in woman_preferences:\n",
        "                if woman_preferences.index(man) < woman_preferences.index(current_engagement):\n",
        "                    engagements[woman] = man\n",
        "                    men.append(current_engagement)\n",
        "\n",
        "    # Ensure all women are engaged\n",
        "    for woman in women:\n",
        "        if woman not in engagements:\n",
        "            engagements[woman] = None  # Assign None to unengaged women\n",
        "\n",
        "    return snapshots\n",
        "\n",
        "def draw_snapshot(engagements, men, women, n):\n",
        "    img = Image.new(\"RGB\", (2000, 100), (178, 190, 181))\n",
        "    draw = ImageDraw.Draw(img)\n",
        "    cell_size = 50\n",
        "\n",
        "    for i in range(n):\n",
        "        draw.rectangle([(i * cell_size, 0), ((i + 1) * cell_size, cell_size)], outline=\"black\")\n",
        "        draw.rectangle([(i * cell_size, cell_size), ((i + 1) * cell_size, cell_size * 2)], outline=\"black\")\n",
        "        man = engagements.get(i)\n",
        "        if man is not None:\n",
        "            if man is not None:\n",
        "                draw.text(((i * cell_size) + 10, 10), f\"Man{man}\", fill=\"black\")\n",
        "        draw.text(((i * cell_size) + 10, cell_size + 10), f\"Woman{i}\", fill=\"red\")\n",
        "\n",
        "    return img\n",
        "\n",
        "#When n = 4 needed\n",
        "#n = 4\n",
        "#pref = [ list(np.random.permutation(n)) for i in range(n) ]\n",
        "#preferences = dict(zip(list(range(n)), pref))\n",
        "#snapshots = gale_shapley_animation(preferences)\n",
        "\n",
        "#snapshots[0].save(\n",
        "#    \"gale_shapley_animation4.gif\",\n",
        "#    save_all=True,\n",
        "#    append_images=snapshots[1:],\n",
        "#    loop=0,\n",
        "#    duration=400,\n",
        "#)\n",
        "\n",
        "n = 40\n",
        "pref = [ list(np.random.permutation(n)) for i in range(n) ]\n",
        "preferences = dict(zip(list(range(n)), pref))\n",
        "snapshots = gale_shapley_animation(preferences)\n",
        "\n",
        "snapshots[0].save(\n",
        "    \"gale_shapley_animation40.gif\",\n",
        "    save_all=True,\n",
        "    append_images=snapshots[1:],\n",
        "    loop=0,\n",
        "    duration=400,\n",
        ")"
      ],
      "metadata": {
        "id": "HVTQTGdWuzxY"
      },
      "execution_count": null,
      "outputs": []
    },
    {
      "cell_type": "code",
      "source": [
        "#gif from n = 40 Gale - Shapley algorithm\n",
        "from IPython.display import Image\n",
        "from IPython.display import display\n",
        "display(Image(filename='gale_shapley_animation40.gif'))"
      ],
      "metadata": {
        "colab": {
          "base_uri": "https://localhost:8080/",
          "height": 107
        },
        "id": "hGko1zCy1aDm",
        "outputId": "7e2c9bca-c921-4ae6-b1ad-2c8ba2825380"
      },
      "execution_count": null,
      "outputs": [
        {
          "output_type": "display_data",
          "data": {
            "image/gif": "[encoded data removed]",
            "text/plain": [
              "<IPython.core.display.Image object>"
            ]
          },
          "metadata": {}
        }
      ]
    },
    {
      "cell_type": "markdown",
      "source": [
        "#Irving Algorithm gif"
      ],
      "metadata": {
        "id": "c2DrPCjx2VTz"
      }
    },
    {
      "cell_type": "code",
      "source": [
        "#Source, in its majority, taken from https://github.com/Daniel1309-gon.\n",
        "from PIL import Image, ImageDraw\n",
        "import numpy as np\n",
        "import random\n",
        "\n",
        "def irving_animation(preferences):\n",
        "    n = len(preferences)\n",
        "    men = list(range(n))\n",
        "    women = list(range(n))\n",
        "    engagements = {}\n",
        "    proposals = {man: {} for man in men}\n",
        "    snapshots = []  # Store snapshots for GIF\n",
        "\n",
        "    while len(engagements) < n:\n",
        "        snapshot = draw_snapshot(engagements, men, women, n)\n",
        "        snapshots.append(snapshot)\n",
        "\n",
        "        if not men:\n",
        "            break  # Terminate if all men are engaged\n",
        "\n",
        "        man = men.pop(0)\n",
        "        while True:\n",
        "            woman = preferences[man].pop(0)\n",
        "            if woman not in proposals[man]:\n",
        "                proposals[man][woman] = True\n",
        "                current_engagement = engagements.get(woman)\n",
        "                if current_engagement is None:\n",
        "                    engagements[woman] = man\n",
        "                    break\n",
        "                else:\n",
        "                    woman_preferences = preferences[woman]\n",
        "                    if man in woman_preferences and current_engagement in woman_preferences:\n",
        "                        if woman_preferences.index(man) < woman_preferences.index(current_engagement):\n",
        "                            engagements[woman] = man\n",
        "                            men.append(current_engagement)\n",
        "                            break\n",
        "\n",
        "    # Ensure all women are engaged\n",
        "    for woman in women:\n",
        "        if woman not in engagements:\n",
        "            engagements[woman] = None  # Assign None to unengaged women\n",
        "\n",
        "    return snapshots\n",
        "\n",
        "def draw_snapshot(engagements, men, women, n):\n",
        "    img = Image.new(\"RGB\", (2000, 100), (77, 77, 255))\n",
        "    draw = ImageDraw.Draw(img)\n",
        "    cell_size = 50\n",
        "\n",
        "    for i in range(n):\n",
        "        draw.rectangle([(i * cell_size, 0), ((i + 1) * cell_size, cell_size)], outline=\"black\")\n",
        "        draw.rectangle([(i * cell_size, cell_size), ((i + 1) * cell_size, cell_size * 2)], outline=\"black\")\n",
        "        man = engagements.get(i)\n",
        "        if man is not None:\n",
        "            if man is not None:\n",
        "                draw.text(((i * cell_size) + 10, 10), f\"Man{man}\", fill=\"white\")\n",
        "        draw.text(((i * cell_size) + 10, cell_size + 10), f\"Woman{i}\", fill=\"black\")\n",
        "\n",
        "    return img\n",
        "\n",
        "\n",
        "#When n = 4 needed\n",
        "#n = 4\n",
        "#pref = [ list(np.random.permutation(n)) for i in range(n) ]\n",
        "#preferences = dict(zip(list(range(n)), pref))\n",
        "#snapshots = irving_animation(preferences)\n",
        "\n",
        "#snapshots[0].save(\n",
        "#    \"irving_animation4.gif\",\n",
        "#    save_all=True,\n",
        "#    append_images=snapshots[1:],\n",
        "#    loop=0,\n",
        "#    duration=400,\n",
        "#)\n",
        "\n",
        "n = 40\n",
        "pref = [ list(np.random.permutation(n)) for i in range(n) ]\n",
        "preferences = dict(zip(list(range(n)), pref))\n",
        "snapshots = irving_animation(preferences)\n",
        "\n",
        "snapshots[0].save(\n",
        "    \"irving_animation40.gif\",\n",
        "    save_all=True,\n",
        "    append_images=snapshots[1:],\n",
        "    loop=0,\n",
        "    duration=400,\n",
        ")"
      ],
      "metadata": {
        "id": "YKzmt5gN2bSp"
      },
      "execution_count": null,
      "outputs": []
    },
    {
      "cell_type": "code",
      "source": [
        "#gif from n = 40 Irving algorithm\n",
        "from IPython.display import Image\n",
        "from IPython.display import display\n",
        "display(Image(filename='irving_animation40.gif'))"
      ],
      "metadata": {
        "colab": {
          "base_uri": "https://localhost:8080/",
          "height": 107
        },
        "id": "3YzeZdBz2-3x",
        "outputId": "520dda88-7245-4074-85da-f6709bf787cf"
      },
      "execution_count": null,
      "outputs": [
        {
          "output_type": "display_data",
          "data": {
            "image/gif": "[encoded data removed]",
            "text/plain": [
              "<IPython.core.display.Image object>"
            ]
          },
          "metadata": {}
        }
      ]
    }
  ]
}