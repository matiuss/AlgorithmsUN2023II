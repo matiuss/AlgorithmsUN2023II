{
  "cells": [
    {
      "cell_type": "markdown",
      "source": [
        "[![Open In Colab](https://colab.research.google.com/assets/colab-badge.svg)](https://colab.research.google.com/drive/1bv9Di1PmgvNHiL8Ue2LWTjekvfYXEQ8k?usp=sharing)"
      ],
      "metadata": {
        "id": "A4X8DiQD6Ntj"
      }
    },
    {
      "cell_type": "code",
      "execution_count": null,
      "metadata": {
        "id": "im-VVd1__7VU",
        "colab": {
          "base_uri": "https://localhost:8080/"
        },
        "outputId": "b34002ce-d45b-48e0-ee08-8bf42d523c94"
      },
      "outputs": [
        {
          "output_type": "stream",
          "name": "stdout",
          "text": [
            "processor\t: 0\n",
            "vendor_id\t: GenuineIntel\n",
            "cpu family\t: 6\n",
            "model\t\t: 79\n",
            "model name\t: Intel(R) Xeon(R) CPU @ 2.20GHz\n",
            "stepping\t: 0\n",
            "microcode\t: 0xffffffff\n",
            "cpu MHz\t\t: 2199.998\n",
            "cache size\t: 56320 KB\n",
            "physical id\t: 0\n",
            "siblings\t: 2\n",
            "core id\t\t: 0\n",
            "cpu cores\t: 1\n",
            "apicid\t\t: 0\n",
            "initial apicid\t: 0\n",
            "fpu\t\t: yes\n",
            "fpu_exception\t: yes\n",
            "cpuid level\t: 13\n",
            "wp\t\t: yes\n",
            "flags\t\t: fpu vme de pse tsc msr pae mce cx8 apic sep mtrr pge mca cmov pat pse36 clflush mmx fxsr sse sse2 ss ht syscall nx pdpe1gb rdtscp lm constant_tsc rep_good nopl xtopology nonstop_tsc cpuid tsc_known_freq pni pclmulqdq ssse3 fma cx16 pcid sse4_1 sse4_2 x2apic movbe popcnt aes xsave avx f16c rdrand hypervisor lahf_lm abm 3dnowprefetch invpcid_single ssbd ibrs ibpb stibp fsgsbase tsc_adjust bmi1 hle avx2 smep bmi2 erms invpcid rtm rdseed adx smap xsaveopt arat md_clear arch_capabilities\n",
            "bugs\t\t: cpu_meltdown spectre_v1 spectre_v2 spec_store_bypass l1tf mds swapgs taa mmio_stale_data retbleed\n",
            "bogomips\t: 4399.99\n",
            "clflush size\t: 64\n",
            "cache_alignment\t: 64\n",
            "address sizes\t: 46 bits physical, 48 bits virtual\n",
            "power management:\n",
            "\n",
            "processor\t: 1\n",
            "vendor_id\t: GenuineIntel\n",
            "cpu family\t: 6\n",
            "model\t\t: 79\n",
            "model name\t: Intel(R) Xeon(R) CPU @ 2.20GHz\n",
            "stepping\t: 0\n",
            "microcode\t: 0xffffffff\n",
            "cpu MHz\t\t: 2199.998\n",
            "cache size\t: 56320 KB\n",
            "physical id\t: 0\n",
            "siblings\t: 2\n",
            "core id\t\t: 0\n",
            "cpu cores\t: 1\n",
            "apicid\t\t: 1\n",
            "initial apicid\t: 1\n",
            "fpu\t\t: yes\n",
            "fpu_exception\t: yes\n",
            "cpuid level\t: 13\n",
            "wp\t\t: yes\n",
            "flags\t\t: fpu vme de pse tsc msr pae mce cx8 apic sep mtrr pge mca cmov pat pse36 clflush mmx fxsr sse sse2 ss ht syscall nx pdpe1gb rdtscp lm constant_tsc rep_good nopl xtopology nonstop_tsc cpuid tsc_known_freq pni pclmulqdq ssse3 fma cx16 pcid sse4_1 sse4_2 x2apic movbe popcnt aes xsave avx f16c rdrand hypervisor lahf_lm abm 3dnowprefetch invpcid_single ssbd ibrs ibpb stibp fsgsbase tsc_adjust bmi1 hle avx2 smep bmi2 erms invpcid rtm rdseed adx smap xsaveopt arat md_clear arch_capabilities\n",
            "bugs\t\t: cpu_meltdown spectre_v1 spectre_v2 spec_store_bypass l1tf mds swapgs taa mmio_stale_data retbleed\n",
            "bogomips\t: 4399.99\n",
            "clflush size\t: 64\n",
            "cache_alignment\t: 64\n",
            "address sizes\t: 46 bits physical, 48 bits virtual\n",
            "power management:\n",
            "\n"
          ]
        }
      ],
      "source": [
        "!cat /proc/cpuinfo"
      ]
    },
    {
      "cell_type": "markdown",
      "metadata": {
        "id": "N1ok_-56OjB1"
      },
      "source": [
        "# I Solving the Sum of Two Digits Programming Challenge"
      ]
    },
    {
      "cell_type": "markdown",
      "metadata": {
        "id": "MMY7kmDSO0KM"
      },
      "source": [
        "## C++"
      ]
    },
    {
      "cell_type": "code",
      "execution_count": null,
      "metadata": {
        "colab": {
          "base_uri": "https://localhost:8080/"
        },
        "id": "2pGGf9BkPNIk",
        "outputId": "14c0c326-521a-4437-d8f6-01c5ea6d1804"
      },
      "outputs": [
        {
          "output_type": "stream",
          "name": "stdout",
          "text": [
            "Writing APlusB.cpp\n"
          ]
        }
      ],
      "source": [
        "%%writefile APlusB.cpp\n",
        "#include <iostream>\n",
        "\n",
        "int sum_of_two_digits(int first_digit, int second_digit) {\n",
        "    return first_digit + second_digit;\n",
        "}\n",
        "\n",
        "int main() {\n",
        "    int a = 0;\n",
        "    int b = 0;\n",
        "    std::cin >> a;\n",
        "    std::cin >> b;\n",
        "    std::cout << sum_of_two_digits(a, b);\n",
        "    return 0;\n",
        "}"
      ]
    },
    {
      "cell_type": "code",
      "execution_count": null,
      "metadata": {
        "id": "0G3ZKOYAPXSU",
        "colab": {
          "base_uri": "https://localhost:8080/"
        },
        "outputId": "bb422431-c36a-402b-c8aa-02b91613468f"
      },
      "outputs": [
        {
          "output_type": "stream",
          "name": "stdout",
          "text": [
            "14 88\n",
            "102"
          ]
        }
      ],
      "source": [
        "!g++ APlusB.cpp -o APlusB -std=c++11\n",
        "!./APlusB"
      ]
    },
    {
      "cell_type": "markdown",
      "metadata": {
        "id": "iNkG2HqfTl9c"
      },
      "source": [
        "### Test input output files"
      ]
    },
    {
      "cell_type": "code",
      "execution_count": null,
      "metadata": {
        "id": "aTzU2efzMxly",
        "colab": {
          "base_uri": "https://localhost:8080/"
        },
        "outputId": "e648be30-b721-4157-a076-d7fcc76779c3"
      },
      "outputs": [
        {
          "output_type": "stream",
          "name": "stdout",
          "text": [
            "Writing input1.txt\n"
          ]
        }
      ],
      "source": [
        "%%writefile input1.txt\n",
        "4 8"
      ]
    },
    {
      "cell_type": "code",
      "execution_count": null,
      "metadata": {
        "id": "zBJ0Gc0NQRet",
        "colab": {
          "base_uri": "https://localhost:8080/"
        },
        "outputId": "476325e1-9ea1-48fd-9fbd-3bc57a2b6398"
      },
      "outputs": [
        {
          "output_type": "stream",
          "name": "stdout",
          "text": [
            "Writing output1.txt\n"
          ]
        }
      ],
      "source": [
        "%%writefile output1.txt\n",
        "12"
      ]
    },
    {
      "cell_type": "code",
      "execution_count": null,
      "metadata": {
        "id": "IjEcIx63PJAN",
        "colab": {
          "base_uri": "https://localhost:8080/"
        },
        "outputId": "a5f9073e-76a4-4928-a074-a38a11b9e76b"
      },
      "outputs": [
        {
          "output_type": "stream",
          "name": "stdout",
          "text": [
            "Writing input2.txt\n"
          ]
        }
      ],
      "source": [
        "%%writefile input2.txt\n",
        "0 9"
      ]
    },
    {
      "cell_type": "code",
      "execution_count": null,
      "metadata": {
        "id": "Up9gOrxURTmd",
        "colab": {
          "base_uri": "https://localhost:8080/"
        },
        "outputId": "bbf667f2-bd3d-410d-b3bb-00a6e2a96006"
      },
      "outputs": [
        {
          "output_type": "stream",
          "name": "stdout",
          "text": [
            "Writing output2.txt\n"
          ]
        }
      ],
      "source": [
        "%%writefile output2.txt\n",
        "9"
      ]
    },
    {
      "cell_type": "code",
      "execution_count": null,
      "metadata": {
        "id": "PST6G-s-Pwgc",
        "colab": {
          "base_uri": "https://localhost:8080/"
        },
        "outputId": "6a5e769d-3010-427d-b79a-a711275bd31b"
      },
      "outputs": [
        {
          "output_type": "stream",
          "name": "stdout",
          "text": [
            "12"
          ]
        }
      ],
      "source": [
        "!./APlusB < input1.txt"
      ]
    },
    {
      "cell_type": "code",
      "execution_count": null,
      "metadata": {
        "id": "cKxZOjSlRfIN",
        "colab": {
          "base_uri": "https://localhost:8080/"
        },
        "outputId": "b192d5a0-2c03-413d-8148-42081b4df8ea"
      },
      "outputs": [
        {
          "output_type": "stream",
          "name": "stdout",
          "text": [
            "9"
          ]
        }
      ],
      "source": [
        "!./APlusB < input2.txt"
      ]
    },
    {
      "cell_type": "markdown",
      "metadata": {
        "id": "Qw2TQWCCUwqk"
      },
      "source": [
        "### Comparing files with grep\n",
        "\n",
        "https://askubuntu.com/questions/546796/comparing-two-text-files"
      ]
    },
    {
      "cell_type": "code",
      "execution_count": null,
      "metadata": {
        "id": "WVIaAmMKU4QM"
      },
      "outputs": [],
      "source": [
        "!grep -xvFf output1.txt output1.txt"
      ]
    },
    {
      "cell_type": "code",
      "execution_count": null,
      "metadata": {
        "id": "MQU8gPPjQuYO",
        "colab": {
          "base_uri": "https://localhost:8080/"
        },
        "outputId": "4570ae83-71eb-4458-8ada-7334c8dd9c64"
      },
      "outputs": [
        {
          "output_type": "stream",
          "name": "stdout",
          "text": [
            "9\n"
          ]
        }
      ],
      "source": [
        "!grep -xvFf output1.txt output2.txt"
      ]
    },
    {
      "cell_type": "code",
      "execution_count": null,
      "metadata": {
        "id": "jYL9OuYBTD_l",
        "colab": {
          "base_uri": "https://localhost:8080/"
        },
        "outputId": "b2f09876-4950-469a-b7b7-927ea2cd1a56"
      },
      "outputs": [
        {
          "output_type": "stream",
          "name": "stdout",
          "text": [
            "12\n"
          ]
        }
      ],
      "source": [
        "!grep -xvFf output2.txt output1.txt"
      ]
    },
    {
      "cell_type": "code",
      "execution_count": null,
      "metadata": {
        "id": "Jlja0Xm4TX9M"
      },
      "outputs": [],
      "source": [
        "!./APlusB < input1.txt> ctest1.txt\n",
        "!grep -xvFf output1.txt ctest1.txt"
      ]
    },
    {
      "cell_type": "code",
      "execution_count": null,
      "metadata": {
        "id": "g9OIUZA_QLCQ"
      },
      "outputs": [],
      "source": [
        "!./APlusB < input2.txt > ctest2.txt\n",
        "!grep -xvFf output2.txt ctest2.txt"
      ]
    },
    {
      "cell_type": "markdown",
      "metadata": {
        "id": "3BgOaDjUVJk6"
      },
      "source": [
        "## Python"
      ]
    },
    {
      "cell_type": "code",
      "execution_count": null,
      "metadata": {
        "id": "DBvl-T0CTN_8",
        "colab": {
          "base_uri": "https://localhost:8080/"
        },
        "outputId": "ff678ae1-fd1e-4cfc-c8b4-c8b1f58520ab"
      },
      "outputs": [
        {
          "output_type": "stream",
          "name": "stdout",
          "text": [
            "Writing sum.py\n"
          ]
        }
      ],
      "source": [
        "%%writefile sum.py\n",
        "# python3\n",
        "\n",
        "def sum_of_two_digits(first_digit, second_digit):\n",
        "    return first_digit + second_digit\n",
        "\n",
        "if __name__ == '__main__':\n",
        "    a, b = map(int, input().split())\n",
        "    print(sum_of_two_digits(a, b))"
      ]
    },
    {
      "cell_type": "code",
      "execution_count": null,
      "metadata": {
        "id": "QKoKM11_WGyF",
        "colab": {
          "base_uri": "https://localhost:8080/"
        },
        "outputId": "616c249b-33e2-4ce6-c463-919764e84925"
      },
      "outputs": [
        {
          "output_type": "stream",
          "name": "stdout",
          "text": [
            "1337 1488\n",
            "2825\n"
          ]
        }
      ],
      "source": [
        "!python sum.py"
      ]
    },
    {
      "cell_type": "code",
      "execution_count": null,
      "metadata": {
        "id": "cocFbPRTWrqt"
      },
      "outputs": [],
      "source": [
        "!python sum.py  < input1.txt> ptest1.txt\n",
        "!grep -xvFf output1.txt ptest1.txt"
      ]
    },
    {
      "cell_type": "code",
      "execution_count": null,
      "metadata": {
        "id": "MorKTa-XXASN"
      },
      "outputs": [],
      "source": [
        "!python sum.py  < input2.txt> ptest2.txt\n",
        "!grep -xvFf output2.txt ptest2.txt"
      ]
    },
    {
      "cell_type": "markdown",
      "metadata": {
        "id": "uvP-mOubW_5F"
      },
      "source": [
        "# II Solving The Maximum Pairwise Product Programming Challenge in C++"
      ]
    },
    {
      "cell_type": "markdown",
      "metadata": {
        "id": "C12yoFR6Xonl"
      },
      "source": [
        "## C++"
      ]
    },
    {
      "cell_type": "code",
      "source": [
        "%%writefile max_pairwise_product_full.cpp\n",
        "#include <iostream>\n",
        "#include <vector>\n",
        "#include <algorithm>\n",
        "\n",
        "int MaxPairwiseProduct(const std::vector<int>& numbers) {\n",
        "    int max_product = 0;\n",
        "    int aux_product = 0;\n",
        "    int n = numbers.size();\n",
        "\n",
        "    for (int first = 0; first < n; ++first) {\n",
        "        for (int second = 0; second < n; ++second) {\n",
        "          if ( first != second ){\n",
        "                aux_product = numbers[first] * numbers[second];\n",
        "                if (aux_product > max_product)  max_product = aux_product;\n",
        "          }\n",
        "        }\n",
        "    }\n",
        "\n",
        "    return max_product;\n",
        "}\n",
        "\n",
        "int main() {\n",
        "    int n;\n",
        "    std::cin >> n;\n",
        "    std::vector<int> numbers(n);\n",
        "    for (int i = 0; i < n; ++i) {\n",
        "        std::cin >> numbers[i];\n",
        "    }\n",
        "\n",
        "    std::cout << MaxPairwiseProduct(numbers) << \"\\n\";\n",
        "    return 0;\n",
        "}"
      ],
      "metadata": {
        "id": "3LpfoGv2Ae81",
        "colab": {
          "base_uri": "https://localhost:8080/"
        },
        "outputId": "12d9b1b2-656c-4e7f-f623-20b7dcfb0c6c"
      },
      "execution_count": null,
      "outputs": [
        {
          "output_type": "stream",
          "name": "stdout",
          "text": [
            "Writing max_pairwise_product_full.cpp\n"
          ]
        }
      ]
    },
    {
      "cell_type": "markdown",
      "source": [
        "##### Time Complexity\n",
        "$$\\left. \\begin{array}{llc}\n",
        " \\text{INSTRUCTION} & \\text{TYPE}& \\text{# EXECUTIONS}\\\\\n",
        "\\text{first != second} &  \\text{comparisons} &n^2 \\\\\n",
        "\\text{numbers[first] * numbers[second]}& \\ \\text{ products}  &n^2 - n \\\\\n",
        "\\text{max_product = aux_product} &  \\text{assigments} & [1, \\frac{n^2 - n}{2})  \n",
        "\\end{array}\\right\\}  =  O(n^2)$$"
      ],
      "metadata": {
        "id": "cah8VSkSGg1I"
      }
    },
    {
      "cell_type": "code",
      "source": [
        "!g++ max_pairwise_product_full.cpp -o max_pairwise_product_full\n",
        "!./max_pairwise_product_full"
      ],
      "metadata": {
        "id": "PCVo1h6nCF9k",
        "colab": {
          "base_uri": "https://localhost:8080/"
        },
        "outputId": "cda7db35-a010-40c3-cb01-40923ee9dda0"
      },
      "execution_count": null,
      "outputs": [
        {
          "output_type": "stream",
          "name": "stdout",
          "text": [
            "10\n",
            "2 3 5 7 11 13 17 19 23 29\n",
            "667\n"
          ]
        }
      ]
    },
    {
      "cell_type": "markdown",
      "metadata": {
        "id": "e7KhxHGNS3i0"
      },
      "source": [
        "### Test 1: Small numbers"
      ]
    },
    {
      "cell_type": "code",
      "source": [
        "%%writefile input0.txt\n",
        "10\n",
        "0 0 0 0 0 0 0 0 0 0"
      ],
      "metadata": {
        "id": "ZOR5P_tgMG4r",
        "colab": {
          "base_uri": "https://localhost:8080/"
        },
        "outputId": "8d634634-e674-427b-c4cc-553ee05ae65d"
      },
      "execution_count": null,
      "outputs": [
        {
          "output_type": "stream",
          "name": "stdout",
          "text": [
            "Writing input0.txt\n"
          ]
        }
      ]
    },
    {
      "cell_type": "code",
      "source": [
        "%%writefile output0.txt\n",
        "0"
      ],
      "metadata": {
        "id": "pYI9Z8WSMHUT",
        "colab": {
          "base_uri": "https://localhost:8080/"
        },
        "outputId": "81d48f6a-3b99-4d83-fc3f-1b2ef2acb2ab"
      },
      "execution_count": null,
      "outputs": [
        {
          "output_type": "stream",
          "name": "stdout",
          "text": [
            "Writing output0.txt\n"
          ]
        }
      ]
    },
    {
      "cell_type": "code",
      "source": [
        "!./max_pairwise_product_full< input0.txt > ctest0.txt\n",
        "!grep -xvFf output0.txt ctest0.txt"
      ],
      "metadata": {
        "id": "csYxTiCOMQHl"
      },
      "execution_count": null,
      "outputs": []
    },
    {
      "cell_type": "code",
      "execution_count": null,
      "metadata": {
        "id": "e1mmTzBgShT-",
        "colab": {
          "base_uri": "https://localhost:8080/"
        },
        "outputId": "61cf4ec3-dbff-4ef8-c78b-4632ec512740"
      },
      "outputs": [
        {
          "output_type": "stream",
          "name": "stdout",
          "text": [
            "Overwriting input1.txt\n"
          ]
        }
      ],
      "source": [
        "%%writefile input1.txt\n",
        "10\n",
        "1 2 3 4 5 6 7 8 9 10"
      ]
    },
    {
      "cell_type": "code",
      "execution_count": null,
      "metadata": {
        "id": "vy_uI0x7TCId",
        "colab": {
          "base_uri": "https://localhost:8080/"
        },
        "outputId": "6771d0be-5d30-41b9-b723-5b0795657c3b"
      },
      "outputs": [
        {
          "output_type": "stream",
          "name": "stdout",
          "text": [
            "90\n"
          ]
        }
      ],
      "source": [
        "!./max_pairwise_product_full < input1.txt"
      ]
    },
    {
      "cell_type": "code",
      "execution_count": null,
      "metadata": {
        "id": "xaj6f9bxC6D6",
        "colab": {
          "base_uri": "https://localhost:8080/"
        },
        "outputId": "3477fce5-33b1-4cf4-c256-82983a149081"
      },
      "outputs": [
        {
          "output_type": "stream",
          "name": "stdout",
          "text": [
            "Overwriting output1.txt\n"
          ]
        }
      ],
      "source": [
        "%%writefile output1.txt\n",
        "90"
      ]
    },
    {
      "cell_type": "code",
      "execution_count": null,
      "metadata": {
        "id": "fYCjAdA_C-wy"
      },
      "outputs": [],
      "source": [
        "!./max_pairwise_product_full< input1.txt > ctest1.txt\n",
        "!grep -xvFf output1.txt ctest1.txt"
      ]
    },
    {
      "cell_type": "code",
      "source": [
        "%%writefile input2.txt\n",
        "10\n",
        "10 9 8 7 6 5 4 3 2 1"
      ],
      "metadata": {
        "id": "ZPe40LY14_6f",
        "colab": {
          "base_uri": "https://localhost:8080/"
        },
        "outputId": "b8ea87bc-03ef-4d9c-9034-8032dd0f4338"
      },
      "execution_count": null,
      "outputs": [
        {
          "output_type": "stream",
          "name": "stdout",
          "text": [
            "Overwriting input2.txt\n"
          ]
        }
      ]
    },
    {
      "cell_type": "code",
      "source": [
        "%%writefile output2.txt\n",
        "90"
      ],
      "metadata": {
        "id": "xiHmF7HA5Faa",
        "colab": {
          "base_uri": "https://localhost:8080/"
        },
        "outputId": "0afcf833-3c47-4845-9e6f-9e8b2267f7bd"
      },
      "execution_count": null,
      "outputs": [
        {
          "output_type": "stream",
          "name": "stdout",
          "text": [
            "Overwriting output2.txt\n"
          ]
        }
      ]
    },
    {
      "cell_type": "code",
      "source": [
        "!./max_pairwise_product_full< input2.txt > ctest2.txt\n",
        "!grep -xvFf output2.txt ctest2.txt"
      ],
      "metadata": {
        "id": "jjwc9kwb5t_k"
      },
      "execution_count": null,
      "outputs": []
    },
    {
      "cell_type": "markdown",
      "metadata": {
        "id": "IeZ3kTjpYmR9"
      },
      "source": [
        "### Test 2: largest input numbers 200000 200000 in the input"
      ]
    },
    {
      "cell_type": "code",
      "execution_count": null,
      "metadata": {
        "id": "LQNlZqaqYt7U",
        "colab": {
          "base_uri": "https://localhost:8080/"
        },
        "outputId": "053c95d4-2136-4f74-b300-845e19a66e3a"
      },
      "outputs": [
        {
          "output_type": "stream",
          "name": "stdout",
          "text": [
            "Writing input3.txt\n"
          ]
        }
      ],
      "source": [
        "%%writefile input3.txt\n",
        "6\n",
        "1 3 200000 9 200000 23"
      ]
    },
    {
      "cell_type": "code",
      "execution_count": null,
      "metadata": {
        "id": "GjQq7QOUCw-9",
        "colab": {
          "base_uri": "https://localhost:8080/"
        },
        "outputId": "5a6f5769-d712-47b6-f6b1-f80bde1afcea"
      },
      "outputs": [
        {
          "output_type": "execute_result",
          "data": {
            "text/plain": [
              "40000000000"
            ]
          },
          "metadata": {},
          "execution_count": 34
        }
      ],
      "source": [
        "200000*200000"
      ]
    },
    {
      "cell_type": "code",
      "execution_count": null,
      "metadata": {
        "id": "EuS6n3jtDK5C",
        "colab": {
          "base_uri": "https://localhost:8080/"
        },
        "outputId": "0a8d1feb-7cb4-4c99-ad7b-8eb7bca83b32"
      },
      "outputs": [
        {
          "output_type": "stream",
          "name": "stdout",
          "text": [
            "Writing output3.txt\n"
          ]
        }
      ],
      "source": [
        "%%writefile output3.txt\n",
        "40000000000"
      ]
    },
    {
      "cell_type": "code",
      "execution_count": null,
      "metadata": {
        "id": "2Wad2VZUZDxR",
        "colab": {
          "base_uri": "https://localhost:8080/"
        },
        "outputId": "b7d93322-e864-4a13-b479-b66219c0cd0a"
      },
      "outputs": [
        {
          "output_type": "stream",
          "name": "stdout",
          "text": [
            "1345294336\n"
          ]
        }
      ],
      "source": [
        "!./max_pairwise_product_full < input3.txt"
      ]
    },
    {
      "cell_type": "code",
      "execution_count": null,
      "metadata": {
        "id": "pEvp1ieyDJGq",
        "colab": {
          "base_uri": "https://localhost:8080/"
        },
        "outputId": "9c66d053-9383-4aca-e3f6-7978dca73d98"
      },
      "outputs": [
        {
          "output_type": "stream",
          "name": "stdout",
          "text": [
            "1345294336\n"
          ]
        }
      ],
      "source": [
        "!./max_pairwise_product_full < input3.txt > ctest3.txt\n",
        "!grep -xvFf output3.txt ctest3.txt"
      ]
    },
    {
      "cell_type": "code",
      "source": [
        " %%writefile run_all_test.sh\n",
        "#!/bin/bash\n",
        "g++ max_pairwise_product_full.cpp -o max_pairwise_product_full\n",
        "for i in {0..3}\n",
        "do\n",
        "    ./max_pairwise_product_full < input$i.txt > ctest$i.txt\n",
        "    grep -xvFf output$i.txt ctest$i.txt\n",
        "done"
      ],
      "metadata": {
        "id": "SrtJrKqM-God",
        "colab": {
          "base_uri": "https://localhost:8080/"
        },
        "outputId": "3f42d465-c8b0-4126-a573-558546f67e30"
      },
      "execution_count": null,
      "outputs": [
        {
          "output_type": "stream",
          "name": "stdout",
          "text": [
            "Writing run_all_test.sh\n"
          ]
        }
      ]
    },
    {
      "cell_type": "code",
      "source": [
        "!chmod u+x run_all_test.sh\n",
        "!./run_all_test.sh"
      ],
      "metadata": {
        "id": "wGWMHtzS-QnA",
        "colab": {
          "base_uri": "https://localhost:8080/"
        },
        "outputId": "b62b67c0-0394-47a4-f3d8-aae214f88860"
      },
      "execution_count": null,
      "outputs": [
        {
          "output_type": "stream",
          "name": "stdout",
          "text": [
            "1345294336\n"
          ]
        }
      ]
    },
    {
      "cell_type": "markdown",
      "metadata": {
        "id": "H2SC0Qt5HCzz"
      },
      "source": [
        "Changing the variables to long long"
      ]
    },
    {
      "cell_type": "code",
      "execution_count": null,
      "metadata": {
        "id": "MPcmsxiQZSfE",
        "colab": {
          "base_uri": "https://localhost:8080/"
        },
        "outputId": "2d95cbf0-18d9-4d98-b30c-0de506d07bb2"
      },
      "outputs": [
        {
          "output_type": "stream",
          "name": "stdout",
          "text": [
            "Writing max_pairwise_product_long_full.cpp\n"
          ]
        }
      ],
      "source": [
        "%%writefile max_pairwise_product_long_full.cpp\n",
        "#include <iostream>\n",
        "#include <vector>\n",
        "#include <algorithm>\n",
        "\n",
        "long long MaxPairwiseProduct(const std::vector<int>& numbers) {\n",
        "    long long max_product = 0LL;\n",
        "\t  long long aux_product = 0LL;\n",
        "    int n = numbers.size();\n",
        "\n",
        "    for (int first = 0; first < n; ++first) {\n",
        "        for (int second = 0; second < n; ++second) {\n",
        "          if ( first != second){\n",
        "                aux_product = (long long) numbers[first] * numbers[second];\n",
        "                if (aux_product > max_product)  max_product = aux_product;\n",
        "          }\n",
        "        }\n",
        "    }\n",
        "\n",
        "\n",
        "    return max_product;\n",
        "}\n",
        "\n",
        "int main() {\n",
        "    int n;\n",
        "    std::cin >> n;\n",
        "    std::vector<int> numbers(n);\n",
        "    for (int i = 0; i < n; ++i) {\n",
        "        std::cin >> numbers[i];\n",
        "    }\n",
        "\n",
        "    std::cout << MaxPairwiseProduct(numbers) << \"\\n\";\n",
        "    return 0;\n",
        "}\n"
      ]
    },
    {
      "cell_type": "code",
      "source": [
        "!g++ max_pairwise_product_long_full.cpp -o max_pairwise_product_long_full"
      ],
      "metadata": {
        "id": "W3xQpFXL6wjO"
      },
      "execution_count": null,
      "outputs": []
    },
    {
      "cell_type": "code",
      "source": [
        "!./max_pairwise_product_long_full < input3.txt"
      ],
      "metadata": {
        "id": "H5dvN9M3R9sV",
        "colab": {
          "base_uri": "https://localhost:8080/"
        },
        "outputId": "813e7820-bc09-4681-e61e-db4af50660b6"
      },
      "execution_count": null,
      "outputs": [
        {
          "output_type": "stream",
          "name": "stdout",
          "text": [
            "40000000000\n"
          ]
        }
      ]
    },
    {
      "cell_type": "markdown",
      "source": [
        "### Runing multuple test with a bash shell"
      ],
      "metadata": {
        "id": "gx-sEYdfQ8f8"
      }
    },
    {
      "cell_type": "code",
      "source": [
        " %%writefile run_all_test.sh\n",
        "#!/bin/bash\n",
        "g++ max_pairwise_product_long_full.cpp -o max_pairwise_product_long_full\n",
        "for i in {0..3}\n",
        "do\n",
        "    ./max_pairwise_product_long_full < input$i.txt > ctest$i.txt\n",
        "    grep -xvFf output$i.txt ctest$i.txt\n",
        "done"
      ],
      "metadata": {
        "id": "O9qsq2nn7elw",
        "colab": {
          "base_uri": "https://localhost:8080/"
        },
        "outputId": "c3d1c6fe-b8f9-43a0-f4ee-ebfb9981d8e8"
      },
      "execution_count": null,
      "outputs": [
        {
          "output_type": "stream",
          "name": "stdout",
          "text": [
            "Overwriting run_all_test.sh\n"
          ]
        }
      ]
    },
    {
      "cell_type": "code",
      "source": [
        "!chmod u+x run_all_test.sh\n",
        "!./run_all_test.sh"
      ],
      "metadata": {
        "id": "0g5kKVph7xIA"
      },
      "execution_count": null,
      "outputs": []
    },
    {
      "cell_type": "markdown",
      "metadata": {
        "id": "XPVHkHxH6_7s"
      },
      "source": [
        "### Test 3  stress tests 6 testing cases files input4.txt/output4.txt .. input10.txt/output10.txt\n",
        "\n",
        "---\n",
        "\n"
      ]
    },
    {
      "cell_type": "code",
      "execution_count": null,
      "metadata": {
        "id": "PwqpBmYr69fu",
        "colab": {
          "base_uri": "https://localhost:8080/"
        },
        "outputId": "63619911-cff8-472c-da90-51baac3a0ded"
      },
      "outputs": [
        {
          "output_type": "stream",
          "name": "stdout",
          "text": [
            "Writing input4.txt\n"
          ]
        }
      ],
      "source": [
        "%%writefile input4.txt\n",
        "10\n",
        "200000 23 200000 0 45 1 4 6 123 32131"
      ]
    },
    {
      "cell_type": "code",
      "source": [
        "200000 * 200000"
      ],
      "metadata": {
        "id": "lrg7o9_hRwfd",
        "colab": {
          "base_uri": "https://localhost:8080/"
        },
        "outputId": "5df19ab7-d452-4fd3-e0aa-6c3ca15b36b2"
      },
      "execution_count": null,
      "outputs": [
        {
          "output_type": "execute_result",
          "data": {
            "text/plain": [
              "40000000000"
            ]
          },
          "metadata": {},
          "execution_count": 46
        }
      ]
    },
    {
      "cell_type": "code",
      "source": [
        "%%writefile output4.txt\n",
        "40000000000"
      ],
      "metadata": {
        "id": "MC6V32sURzzo",
        "colab": {
          "base_uri": "https://localhost:8080/"
        },
        "outputId": "3357057c-b725-4260-982b-9b97fccaabf6"
      },
      "execution_count": null,
      "outputs": [
        {
          "output_type": "stream",
          "name": "stdout",
          "text": [
            "Writing output4.txt\n"
          ]
        }
      ]
    },
    {
      "cell_type": "code",
      "execution_count": null,
      "metadata": {
        "id": "jBCkMeR6Fw4y",
        "colab": {
          "base_uri": "https://localhost:8080/"
        },
        "outputId": "1094e119-dcbf-449d-ebdd-21e2a9aa8e47"
      },
      "outputs": [
        {
          "output_type": "stream",
          "name": "stdout",
          "text": [
            "Writing input5.txt\n"
          ]
        }
      ],
      "source": [
        "%%writefile input5.txt\n",
        "5\n",
        "3 1 200000 45 20000"
      ]
    },
    {
      "cell_type": "code",
      "source": [
        "200000 * 20000"
      ],
      "metadata": {
        "id": "WdbOrctRR8He"
      },
      "execution_count": null,
      "outputs": []
    },
    {
      "cell_type": "code",
      "source": [
        "%%writefile output5.txt\n",
        "4000000000"
      ],
      "metadata": {
        "id": "282kgaHTSBG4",
        "colab": {
          "base_uri": "https://localhost:8080/"
        },
        "outputId": "f66d4228-81a6-4830-8fa6-6ecfa7322cd0"
      },
      "execution_count": null,
      "outputs": [
        {
          "output_type": "stream",
          "name": "stdout",
          "text": [
            "Writing output5.txt\n"
          ]
        }
      ]
    },
    {
      "cell_type": "code",
      "source": [
        "%%writefile input6.txt\n",
        "15\n",
        "199999 234 0 234 3000 124511 400000 4523 7845 121314 89677 453123 523213 7453 0"
      ],
      "metadata": {
        "id": "zED8V8wu-eoM",
        "colab": {
          "base_uri": "https://localhost:8080/"
        },
        "outputId": "f8d85248-2e7d-4ab9-a39b-de0709b8ffec"
      },
      "execution_count": null,
      "outputs": [
        {
          "output_type": "stream",
          "name": "stdout",
          "text": [
            "Writing input6.txt\n"
          ]
        }
      ]
    },
    {
      "cell_type": "code",
      "source": [
        "453123 * 523213"
      ],
      "metadata": {
        "id": "lO08FMtbSUIA",
        "colab": {
          "base_uri": "https://localhost:8080/"
        },
        "outputId": "06e644c5-4f99-4785-d856-5ccd80f29df9"
      },
      "execution_count": null,
      "outputs": [
        {
          "output_type": "execute_result",
          "data": {
            "text/plain": [
              "237079844199"
            ]
          },
          "metadata": {},
          "execution_count": 51
        }
      ]
    },
    {
      "cell_type": "code",
      "source": [
        "%%writefile output6.txt\n",
        "237079844199"
      ],
      "metadata": {
        "id": "CP8V1ujVSVdA",
        "colab": {
          "base_uri": "https://localhost:8080/"
        },
        "outputId": "9dbe13c3-fa98-4a90-cd3c-6f12da0486e2"
      },
      "execution_count": null,
      "outputs": [
        {
          "output_type": "stream",
          "name": "stdout",
          "text": [
            "Writing output6.txt\n"
          ]
        }
      ]
    },
    {
      "cell_type": "code",
      "source": [
        "%%writefile input7.txt\n",
        "2\n",
        "900000 5"
      ],
      "metadata": {
        "id": "ekP_h0bFzW66",
        "colab": {
          "base_uri": "https://localhost:8080/"
        },
        "outputId": "3aa4b1bc-e408-45b5-dfa7-ed0a2da03eef"
      },
      "execution_count": null,
      "outputs": [
        {
          "output_type": "stream",
          "name": "stdout",
          "text": [
            "Writing input7.txt\n"
          ]
        }
      ]
    },
    {
      "cell_type": "code",
      "source": [
        "900000 * 5"
      ],
      "metadata": {
        "id": "6FTVYloISchv",
        "colab": {
          "base_uri": "https://localhost:8080/"
        },
        "outputId": "ef3009fa-584f-411a-e7de-eca8817b94d4"
      },
      "execution_count": null,
      "outputs": [
        {
          "output_type": "execute_result",
          "data": {
            "text/plain": [
              "4500000"
            ]
          },
          "metadata": {},
          "execution_count": 54
        }
      ]
    },
    {
      "cell_type": "code",
      "source": [
        "%%writefile output7.txt\n",
        "4500000"
      ],
      "metadata": {
        "id": "a_NHuhkQSf4E",
        "colab": {
          "base_uri": "https://localhost:8080/"
        },
        "outputId": "b71ab88f-3248-4ab2-ed6e-556a90beaf33"
      },
      "execution_count": null,
      "outputs": [
        {
          "output_type": "stream",
          "name": "stdout",
          "text": [
            "Writing output7.txt\n"
          ]
        }
      ]
    },
    {
      "cell_type": "code",
      "source": [
        "%%writefile input8.txt\n",
        "19\n",
        "28543 11213 7663 35730 28443 14637 19039 25441 20156 16505 30649 23923 25435 18913 29108 25409 17174 143 11733"
      ],
      "metadata": {
        "id": "p4i5M8KNzorY",
        "colab": {
          "base_uri": "https://localhost:8080/"
        },
        "outputId": "6ffb3c96-fb6b-484f-8926-81f2b688b69a"
      },
      "execution_count": null,
      "outputs": [
        {
          "output_type": "stream",
          "name": "stdout",
          "text": [
            "Writing input8.txt\n"
          ]
        }
      ]
    },
    {
      "cell_type": "code",
      "source": [
        "35730 * 30649"
      ],
      "metadata": {
        "id": "fpvjZq3LSmJ1",
        "colab": {
          "base_uri": "https://localhost:8080/"
        },
        "outputId": "65bfde6c-3565-4524-ed41-c540be5f2c8c"
      },
      "execution_count": null,
      "outputs": [
        {
          "output_type": "execute_result",
          "data": {
            "text/plain": [
              "1095088770"
            ]
          },
          "metadata": {},
          "execution_count": 57
        }
      ]
    },
    {
      "cell_type": "code",
      "source": [
        "%%writefile output8.txt\n",
        "1095088770"
      ],
      "metadata": {
        "id": "fYvYh8bNSmoi",
        "colab": {
          "base_uri": "https://localhost:8080/"
        },
        "outputId": "79652978-1b93-4cc1-f321-bef068893404"
      },
      "execution_count": null,
      "outputs": [
        {
          "output_type": "stream",
          "name": "stdout",
          "text": [
            "Writing output8.txt\n"
          ]
        }
      ]
    },
    {
      "cell_type": "code",
      "source": [
        "%%writefile input9.txt\n",
        "50\n",
        "59918 10147 58122 15353 69460 86114 18171 45377 79182 68269\n",
        "33235 50458 37455 14672 78008 28725 41017 56580 49624 29429\n",
        "23106 12679 29952 26702 84626 25185 45291 89627 38901 23801\n",
        "53468 80883 68361 72442 87880 34449 17123 56210 52144 46789\n",
        "62951 12690 46326 85744 11059 36021 49412 11731 21735 33212"
      ],
      "metadata": {
        "id": "ySuwhDI_0VdY",
        "colab": {
          "base_uri": "https://localhost:8080/"
        },
        "outputId": "507ec2e6-cbd8-4512-c174-d2388e0ef71a"
      },
      "execution_count": null,
      "outputs": [
        {
          "output_type": "stream",
          "name": "stdout",
          "text": [
            "Writing input9.txt\n"
          ]
        }
      ]
    },
    {
      "cell_type": "code",
      "source": [
        "89627 * 87880"
      ],
      "metadata": {
        "id": "QvCygbQKS8Q_",
        "colab": {
          "base_uri": "https://localhost:8080/"
        },
        "outputId": "c337d9f1-a801-4bc6-8507-75b24bd69f17"
      },
      "execution_count": null,
      "outputs": [
        {
          "output_type": "execute_result",
          "data": {
            "text/plain": [
              "7876420760"
            ]
          },
          "metadata": {},
          "execution_count": 60
        }
      ]
    },
    {
      "cell_type": "code",
      "source": [
        "%%writefile output9.txt\n",
        "7876420760"
      ],
      "metadata": {
        "id": "wlUc31rsS8pD",
        "colab": {
          "base_uri": "https://localhost:8080/"
        },
        "outputId": "4ec0ff00-2018-48c1-f71d-265d3a39b8f9"
      },
      "execution_count": null,
      "outputs": [
        {
          "output_type": "stream",
          "name": "stdout",
          "text": [
            "Writing output9.txt\n"
          ]
        }
      ]
    },
    {
      "cell_type": "code",
      "source": [
        "%%writefile input10.txt\n",
        "60\n",
        "16695 50605 42530 57855 24236 24347 36570 58107 25949 26939\n",
        "10769 54063 66323 23606 22007 37126 51412 14381 43186 12283\n",
        "34525 55947 52947 66780 14485 41951 63416 32926 27342 64352\n",
        "37077 27768 27124 54245 63911 28044 12350 64340 57079 51652\n",
        "38353 17289 45777 45391 22221 60764 26161 36591 12275 49150\n",
        "123888 129855 116245 96360 107581 124692 133711 82847 116602 103602"
      ],
      "metadata": {
        "id": "4v7E0Tyr18pI",
        "colab": {
          "base_uri": "https://localhost:8080/"
        },
        "outputId": "5e929e38-3fa4-4630-a174-e4cf0a8e26b6"
      },
      "execution_count": null,
      "outputs": [
        {
          "output_type": "stream",
          "name": "stdout",
          "text": [
            "Writing input10.txt\n"
          ]
        }
      ]
    },
    {
      "cell_type": "code",
      "source": [
        "133711 * 129855"
      ],
      "metadata": {
        "id": "fTeKncWjTT3D",
        "colab": {
          "base_uri": "https://localhost:8080/"
        },
        "outputId": "7e7dc200-56a4-4992-b20d-d41c728e745c"
      },
      "execution_count": null,
      "outputs": [
        {
          "output_type": "execute_result",
          "data": {
            "text/plain": [
              "17363041905"
            ]
          },
          "metadata": {},
          "execution_count": 239
        }
      ]
    },
    {
      "cell_type": "code",
      "source": [
        "%%writefile output10.txt\n",
        "17363041905"
      ],
      "metadata": {
        "id": "bJCq7Cw3TUNJ",
        "colab": {
          "base_uri": "https://localhost:8080/"
        },
        "outputId": "fb30fe89-57ba-4258-9bb6-4ba17118dc1d"
      },
      "execution_count": null,
      "outputs": [
        {
          "output_type": "stream",
          "name": "stdout",
          "text": [
            "Writing output10.txt\n"
          ]
        }
      ]
    },
    {
      "cell_type": "code",
      "source": [
        "%%writefile stress_test.sh\n",
        "#!/bin/bash\n",
        "g++ max_pairwise_product_long_full.cpp -o max_pairwise_product_long_full\n",
        "\n",
        "for i in {0..10}\n",
        "do\n",
        "    ./max_pairwise_product_long_full < input$i.txt > ctest$i.txt\n",
        "    grep -xvFf output$i.txt ctest$i.txt\n",
        "done"
      ],
      "metadata": {
        "id": "bCaCS3hh3doJ",
        "colab": {
          "base_uri": "https://localhost:8080/"
        },
        "outputId": "4a14aff0-9676-4ecc-9f96-3becb5b7ad76"
      },
      "execution_count": null,
      "outputs": [
        {
          "output_type": "stream",
          "name": "stdout",
          "text": [
            "Writing stress_test.sh\n"
          ]
        }
      ]
    },
    {
      "cell_type": "code",
      "source": [
        "#Running tests cases. Check \"/files\" for \"outputN.txt\" where N is the Nth output for the Nth \"inputN.txt\" (e.g. input4.txt/output4.txt)\n",
        "!chmod 744 stress_test.sh\n",
        "!./stress_test.sh"
      ],
      "metadata": {
        "id": "jMORQoUV4Qq0"
      },
      "execution_count": null,
      "outputs": []
    },
    {
      "cell_type": "markdown",
      "metadata": {
        "id": "9z9yr5QkeyJF"
      },
      "source": [
        "### Test 4  time test  measure the execution time running with the the largest worst cases input11.txt  (200000 increasing numbers) and inoput12.txt (199998 increasing numbers and  200000, 200000 at the end)"
      ]
    },
    {
      "cell_type": "code",
      "source": [
        "# input11.txt 200000 increasing numbers:  1 2 .. 200000\n",
        "%%writefile WriteTest.cpp\n",
        "\n",
        "#include <iostream>\n",
        "#include <fstream>\n",
        "#include <cstdlib>\n",
        "\n",
        "using namespace std;\n",
        "\n",
        "int main() {\n",
        "  // Create and open a text file\n",
        "  ofstream MyFile(\"input11.txt\");\n",
        "\n",
        " MyFile << 200000 <<\"\\n\";  // n\n",
        " for (int i=1; i <200001; i++){\n",
        "     MyFile << i <<\" \";\n",
        " }\n",
        "\n",
        "  // Close the file\n",
        "  MyFile.close();\n",
        "}"
      ],
      "metadata": {
        "id": "UmB1ipWM_nSk",
        "colab": {
          "base_uri": "https://localhost:8080/"
        },
        "outputId": "f90beffc-6d98-4fda-8c5b-6e630b56a9f1"
      },
      "execution_count": null,
      "outputs": [
        {
          "output_type": "stream",
          "name": "stdout",
          "text": [
            "Writing WriteTest.cpp\n"
          ]
        }
      ]
    },
    {
      "cell_type": "code",
      "execution_count": null,
      "metadata": {
        "id": "EH25TkOkZfD9"
      },
      "outputs": [],
      "source": [
        "!g++ WriteTest.cpp -o WriteTest\n",
        "!./WriteTest"
      ]
    },
    {
      "cell_type": "code",
      "source": [
        "199999 * 200000"
      ],
      "metadata": {
        "id": "j0mokSOnCCtZ",
        "colab": {
          "base_uri": "https://localhost:8080/"
        },
        "outputId": "20821e87-c35b-4db3-dc54-3db1bab4e72d"
      },
      "execution_count": null,
      "outputs": [
        {
          "output_type": "execute_result",
          "data": {
            "text/plain": [
              "39999800000"
            ]
          },
          "metadata": {},
          "execution_count": 69
        }
      ]
    },
    {
      "cell_type": "code",
      "source": [
        "%%writefile output11.txt\n",
        "39999800000"
      ],
      "metadata": {
        "id": "VoDhDV73B5Mo",
        "colab": {
          "base_uri": "https://localhost:8080/"
        },
        "outputId": "1783d299-4fe2-4350-a6e1-faacd9bbf0b1"
      },
      "execution_count": null,
      "outputs": [
        {
          "output_type": "stream",
          "name": "stdout",
          "text": [
            "Writing output11.txt\n"
          ]
        }
      ]
    },
    {
      "cell_type": "code",
      "execution_count": null,
      "metadata": {
        "id": "oLiMjbAIfPlX",
        "colab": {
          "base_uri": "https://localhost:8080/"
        },
        "outputId": "1ba7f73f-170d-4bab-be1a-c011effcfb0f"
      },
      "outputs": [
        {
          "output_type": "stream",
          "name": "stdout",
          "text": [
            "Overwriting WriteTest.cpp\n"
          ]
        }
      ],
      "source": [
        "# input12.txt 200000 decreasing numbers and 200000, 199999 ...  2 1\n",
        "%%writefile WriteTest.cpp\n",
        "\n",
        "#include <iostream>\n",
        "#include <fstream>\n",
        "#include <cstdlib>\n",
        "\n",
        "using namespace std;\n",
        "\n",
        "int main() {\n",
        "  // Create and open a text file\n",
        "  ofstream MyFile(\"input12.txt\");\n",
        "\n",
        " MyFile << 200000 <<\"\\n\";  // n\n",
        " for (int i=1; i <200001; i++){\n",
        "     MyFile << 200001-i <<\" \";\n",
        " }\n",
        "\n",
        "  // Close the file\n",
        "  MyFile.close();\n",
        "}"
      ]
    },
    {
      "cell_type": "code",
      "source": [
        "!g++ WriteTest.cpp -o WriteTest\n",
        "!./WriteTest"
      ],
      "metadata": {
        "id": "oULNBr_zAd9c"
      },
      "execution_count": null,
      "outputs": []
    },
    {
      "cell_type": "code",
      "source": [
        "%%writefile output12.txt\n",
        "39999800000"
      ],
      "metadata": {
        "id": "PQLyocaFB-y4",
        "colab": {
          "base_uri": "https://localhost:8080/"
        },
        "outputId": "d890e4c1-da67-4ebf-ae32-ece5203f24a1"
      },
      "execution_count": null,
      "outputs": [
        {
          "output_type": "stream",
          "name": "stdout",
          "text": [
            "Writing output12.txt\n"
          ]
        }
      ]
    },
    {
      "cell_type": "markdown",
      "metadata": {
        "id": "JB6f03qO-lj9"
      },
      "source": [
        "Measure time\n",
        "\n",
        "https://askubuntu.com/questions/53444/how-can-i-measure-the-execution-time-of-a-terminal-process"
      ]
    },
    {
      "cell_type": "code",
      "execution_count": null,
      "metadata": {
        "id": "6p2QLEr576zk",
        "colab": {
          "base_uri": "https://localhost:8080/"
        },
        "outputId": "23a9b3e8-b665-4fcd-f2b4-e8296cba32c8"
      },
      "outputs": [
        {
          "output_type": "stream",
          "name": "stdout",
          "text": [
            "39999800000\n",
            "\n",
            "real\t5m1.546s\n",
            "user\t4m58.824s\n",
            "sys\t0m0.099s\n"
          ]
        }
      ],
      "source": [
        "!g++ max_pairwise_product_long_full.cpp -o max_pairwise_product_long_full\n",
        "!time ./max_pairwise_product_long_full< input11.txt"
      ]
    },
    {
      "cell_type": "code",
      "source": [
        "!g++ max_pairwise_product_long_full.cpp -o max_pairwise_product_long_full\n",
        "!time ./max_pairwise_product_long_full< input12.txt"
      ],
      "metadata": {
        "id": "cnjCyeUdAnZj",
        "colab": {
          "base_uri": "https://localhost:8080/"
        },
        "outputId": "bb2d77c6-6446-4fef-a15f-a8a210aac60f"
      },
      "execution_count": null,
      "outputs": [
        {
          "output_type": "stream",
          "name": "stdout",
          "text": [
            "39999800000\n",
            "\n",
            "real\t5m0.912s\n",
            "user\t4m57.793s\n",
            "sys\t0m0.135s\n"
          ]
        }
      ]
    },
    {
      "cell_type": "markdown",
      "metadata": {
        "id": "FXClpBsUJuXC"
      },
      "source": [
        "##### Calculate the number or and upper bound to the number of instructions executed by the algorithm as a function of n, add in each line a comment with the number of instructions that are executed in that line."
      ]
    },
    {
      "cell_type": "code",
      "execution_count": null,
      "metadata": {
        "id": "uG6Mv-Pwlkii",
        "colab": {
          "base_uri": "https://localhost:8080/"
        },
        "outputId": "42ace8cd-1da2-4eb6-a447-0a3a0214d073"
      },
      "outputs": [
        {
          "output_type": "stream",
          "name": "stdout",
          "text": [
            "Overwriting max_pairwise_product_long_full.cpp\n"
          ]
        }
      ],
      "source": [
        "%%writefile max_pairwise_product_long_full.cpp\n",
        "#include <iostream>\n",
        "#include <vector>\n",
        "#include <algorithm>\n",
        "\n",
        "long long MaxPairwiseProduct(const std::vector<int>& numbers) {              //INSTRUCTIONS executed by line\n",
        "    long long max_product = 0LL;                                             //1\n",
        "\t  long long aux_product = 0LL;                                             //1\n",
        "    int n = numbers.size();                                                  //1\n",
        "\n",
        "    for (int first = 0; first < n; ++first) {                                //2+2n\n",
        "        for (int second = 0; second < n; ++second) {                         //2n + 2n**2\n",
        "          if ( first != second ){                                            //n**2\n",
        "                aux_product = numbers[first] * numbers[second];              //n**2 -n\n",
        "                if (aux_product > max_product)                               //n**2 -n\n",
        "                    max_product = aux_product;                               //[0, n**2/2 - n/2] upper bound\n",
        "          }\n",
        "        }\n",
        "    }\n",
        "\n",
        "                                                                             // --------------\n",
        "    return max_product;                                                      // 5 + 2*n + [5*n**2, 11*n**2/2  - n/2]  upper bound\n",
        "}\n",
        "\n",
        "int main() {                                              //INSTRUCTIONS executed by line\n",
        "    int n;                                                //1\n",
        "    std::cin >> n;                                        //1\n",
        "    std::vector<int> numbers(n);                          //n\n",
        "    for (int i = 0; i < n; ++i) {                         //2 + 2n\n",
        "        std::cin >> numbers[i];                           //n\n",
        "    }\n",
        "\n",
        "    std::cout << MaxPairwiseProduct(numbers) << \"\\n\";     //1 + 1  + 5 + 2*n + [5*n**2, 11*n**2/2  - n/2]\n",
        "\n",
        "    return 0;                                             // --------------\n",
        "}                                                         //  11 + 6*n + [5*n**2, 11*n**2/2  - n/2]  upper bound"
      ]
    },
    {
      "cell_type": "markdown",
      "metadata": {
        "id": "0vTsUg8OwcHs"
      },
      "source": [
        "Count executed intructions in code"
      ]
    },
    {
      "cell_type": "code",
      "execution_count": null,
      "metadata": {
        "id": "CuRKkqQc137V",
        "colab": {
          "base_uri": "https://localhost:8080/"
        },
        "outputId": "98cf6d53-3daf-4a69-b667-7e8bcad784e9"
      },
      "outputs": [
        {
          "output_type": "stream",
          "name": "stdout",
          "text": [
            "Writing max_pairwise_product_long_full_execints.cpp\n"
          ]
        }
      ],
      "source": [
        "%%writefile max_pairwise_product_long_full_execints.cpp\n",
        "#include <iostream>\n",
        "#include <vector>\n",
        "#include <algorithm>\n",
        "\n",
        "long long MaxPairwiseProduct(const std::vector<int>& numbers, long long &execints) {      //INSTRUCTIONS executed by line\n",
        "\n",
        "    long long max_product = 0LL;                                                          //1\n",
        "    execints++;\n",
        "\n",
        "\t  long long aux_product = 0LL;                                                          //1\n",
        "    execints++;\n",
        "\n",
        "    int n = numbers.size();                                                               //1\n",
        "    execints++;\n",
        "\n",
        "    execints++;\n",
        "    for (int first = 0; first < n; ++first) {                                             //2+2n\n",
        "        execints += 2;\n",
        "\n",
        "        execints++;\n",
        "        for (int second = 0; second < n; ++second) {                                       //2n + 2n**2\n",
        "          execints += 2;\n",
        "\n",
        "          execints++;\n",
        "          if ( first != second ){                                                         //n**2\n",
        "                aux_product = numbers[first] * numbers[second];                           //n**2 -n\n",
        "                execints++;\n",
        "\n",
        "                execints++;\n",
        "                if (aux_product > max_product){                                           //n**2 -n\n",
        "                    max_product = aux_product;                                            //[0,n**2/2 - n/2)  upper bound\n",
        "                    execints++;\n",
        "\n",
        "                }\n",
        "        }\n",
        "\n",
        "      }\n",
        "      execints++;\n",
        "    }\n",
        "    execints++;\n",
        "                                                                                        // --------------\n",
        "    return max_product;                                                                 // 5 + 2*n + [5*n**2, 11*n**2/2  - n/2] upper bound\n",
        "}\n",
        "\n",
        "int main() {                                                 ////INSTRUCTIONS executed by line\n",
        "\n",
        "    long long execints =0LL;\n",
        "\n",
        "    int n;                                                   //1\n",
        "    execints++;\n",
        "\n",
        "    std::cin >> n;                                           //1\n",
        "    execints++;\n",
        "\n",
        "    std::vector<int> numbers(n);                             //n\n",
        "    execints += n;\n",
        "\n",
        "    execints++;\n",
        "    for (int i = 0; i < n; ++i) {                            //2 + 2n\n",
        "        execints += 2;\n",
        "\n",
        "        std::cin >> numbers[i];\n",
        "        execints++;                                          //n\n",
        "\n",
        "    }\n",
        "\n",
        "\n",
        "    //std::cout << MaxPairwiseProduct(numbers) << \"\\n\";      //1 + 1  + 5 + 2*n + [5*n**2, 11*n**2/2  - n/2] upper bound\n",
        "\n",
        "    execints++;\n",
        "    int M = MaxPairwiseProduct(numbers,execints);\n",
        "    execints++;\n",
        "\n",
        "    execints++;\n",
        "    std::cout <<  execints << \"\\n\";\n",
        "    return 0;                                                // --------------\n",
        "}                                                            // 11 + 6*n + [5*n**2, 11*n**2/2  - n/2]"
      ]
    },
    {
      "cell_type": "markdown",
      "source": [
        "The number of instructions executed by the algooirithm with a list of size $n$ is  \n",
        "\n",
        "$$T (n) = 11 + 6n + \\left[5n^2, 11\\frac{n^2}{2}  - \\frac{n}{2}\\right) \\ \\  \\text{upper bound}$$\n",
        "\n",
        "It depends on the size of the lists and  the order of the list.\n",
        "\n",
        "For the input0.txt\n",
        "```\n",
        "10\n",
        "0 0 0 0 0 0 0 0 0 0\n",
        "```\n",
        "$$T = 11 + 6(10) + 5(10)^2   = 561 $$\n",
        "\n",
        "$$T(10) \\in [571, 621)  $$"
      ],
      "metadata": {
        "id": "cUjHtvtdDsmr"
      }
    },
    {
      "cell_type": "code",
      "source": [
        "!g++ max_pairwise_product_long_full_execints.cpp -o max_pairwise_product_long_full_execints\n",
        "!./max_pairwise_product_long_full_execints < input0.txt"
      ],
      "metadata": {
        "id": "r2Thv4qnNYGJ",
        "colab": {
          "base_uri": "https://localhost:8080/"
        },
        "outputId": "a879bf8b-4b24-4e16-b936-1a42fdf1111e"
      },
      "execution_count": null,
      "outputs": [
        {
          "output_type": "stream",
          "name": "stdout",
          "text": [
            "571\n"
          ]
        }
      ]
    },
    {
      "cell_type": "markdown",
      "source": [
        "For the input1.txt\n",
        "```\n",
        "10\n",
        "1 2 3 4 5 6 7 8 9 10\n",
        "```\n",
        "$$T = 11 + 6(10) + 5(10)^2 +  9 + 5 + 4 + 3 + 2 + 2 + 2 + 2 + 1 + 0  = 601 $$\n",
        "\n",
        "$$T(10) \\in [572, 622)  $$"
      ],
      "metadata": {
        "id": "VeHNazHiNgvp"
      }
    },
    {
      "cell_type": "code",
      "source": [
        "#The number of times that  max_product = aux_product; in the worst case is less than (n**2 -n)/2 -  upper bound\n",
        "\n",
        "#     1  2  3  4  5  6  7  8  9  10\n",
        "#  1  x  2  3  4  5  6  7  8  9  10         9\n",
        "#  2  2  x  6  8  10 12 14 16 18 20         5 14\n",
        "#  3  3  6  x  12 15 18 21 24 27 30         4 18\n",
        "#  4  4  8  12 x  20 24 28 32 36 40         3 21\n",
        "#  5  5  10 15 20 x  30 35 40 45 50         2 23\n",
        "#  6  6  12 18 24 30 x  42 48 54 60         2 25\n",
        "#  7  7  14 21 28 35 42 x  56 63 70         2 27\n",
        "#  8  8  18 27 36 45 54 63 72 x  90         1 30\n",
        "#  10 10 20 30 40 50 60 70 60 90 x          0"
      ],
      "metadata": {
        "id": "K59xQMWiBNFj"
      },
      "execution_count": null,
      "outputs": []
    },
    {
      "cell_type": "code",
      "source": [
        "11 + 6*(10) + 5*(10)*(10) +  9 + 5 + 4 + 3 + 2 + 2 + 2 + 2 + 1 + 0"
      ],
      "metadata": {
        "id": "E3O8dzFfEgir",
        "colab": {
          "base_uri": "https://localhost:8080/"
        },
        "outputId": "67040de8-8dde-46dc-fdc8-5822afc3f6cf"
      },
      "execution_count": null,
      "outputs": [
        {
          "output_type": "execute_result",
          "data": {
            "text/plain": [
              "601"
            ]
          },
          "metadata": {},
          "execution_count": 79
        }
      ]
    },
    {
      "cell_type": "code",
      "source": [
        "n = 10\n",
        "print( \"[\", 11 + 6*n + 5*n**2,  \",\", 11 + 6*n  + 5.5*n**2, \")\")"
      ],
      "metadata": {
        "id": "TCpdl5u_Gq1a",
        "colab": {
          "base_uri": "https://localhost:8080/"
        },
        "outputId": "552734de-9653-4c4b-88b4-6bac5ce6763f"
      },
      "execution_count": null,
      "outputs": [
        {
          "output_type": "stream",
          "name": "stdout",
          "text": [
            "[ 571 , 621.0 )\n"
          ]
        }
      ]
    },
    {
      "cell_type": "code",
      "execution_count": null,
      "metadata": {
        "id": "Kuvm1C05ly2a",
        "colab": {
          "base_uri": "https://localhost:8080/"
        },
        "outputId": "c28f1189-296c-484e-df75-ec9d9b23a00f"
      },
      "outputs": [
        {
          "output_type": "stream",
          "name": "stdout",
          "text": [
            "601\n"
          ]
        }
      ],
      "source": [
        "!g++ max_pairwise_product_long_full_execints.cpp -o max_pairwise_product_long_full_execints\n",
        "!./max_pairwise_product_long_full_execints < input1.txt"
      ]
    },
    {
      "cell_type": "markdown",
      "source": [
        "For the input2.txt\n",
        "```\n",
        "10\n",
        "10 9 8 7 6 5 4 3 2 1\n",
        "```\n",
        "$$T = 11 + 6*(10) + 5*(10)**2 +  1  = 571 $$"
      ],
      "metadata": {
        "id": "Yr_Lb7CaHfxB"
      }
    },
    {
      "cell_type": "code",
      "source": [
        "11 + 6*(10) + 5*(10)**2 +  1"
      ],
      "metadata": {
        "id": "HOdqlwJiZUIp",
        "colab": {
          "base_uri": "https://localhost:8080/"
        },
        "outputId": "c87e53a0-3667-4c27-dff9-86cdbe6402aa"
      },
      "execution_count": null,
      "outputs": [
        {
          "output_type": "execute_result",
          "data": {
            "text/plain": [
              "572"
            ]
          },
          "metadata": {},
          "execution_count": 82
        }
      ]
    },
    {
      "cell_type": "code",
      "source": [
        "!g++ max_pairwise_product_long_full_execints.cpp -o max_pairwise_product_long_full_execints\n",
        "!./max_pairwise_product_long_full_execints < input2.txt\n",
        "n= 10"
      ],
      "metadata": {
        "id": "_znzLectjFSe",
        "colab": {
          "base_uri": "https://localhost:8080/"
        },
        "outputId": "52b394b1-aec1-425c-ca7f-b3fb755e48a6"
      },
      "execution_count": null,
      "outputs": [
        {
          "output_type": "stream",
          "name": "stdout",
          "text": [
            "572\n"
          ]
        }
      ]
    },
    {
      "cell_type": "markdown",
      "metadata": {
        "id": "L_uaamxeAHK7"
      },
      "source": [
        "For the input11.txt\n",
        "```\n",
        "200000\n",
        "1 2 ..  199999 200000\n",
        "```\n",
        "$$T = 11 + 6*(200000) + 5.5*(200000)**2  = 200001200012  $$\n",
        "\n"
      ]
    },
    {
      "cell_type": "code",
      "source": [
        "9 + 5*(200000) + 5*(200000)**2 +1"
      ],
      "metadata": {
        "id": "c7X-ewmeXe-h",
        "colab": {
          "base_uri": "https://localhost:8080/"
        },
        "outputId": "3c298825-8a75-47fd-bdab-5d4737950dd5"
      },
      "execution_count": null,
      "outputs": [
        {
          "output_type": "execute_result",
          "data": {
            "text/plain": [
              "200001000010"
            ]
          },
          "metadata": {},
          "execution_count": 84
        }
      ]
    },
    {
      "cell_type": "markdown",
      "metadata": {
        "id": "NXW7QkoBL6xH"
      },
      "source": [
        "Calculate estimated time by instruction and number of instructions by second"
      ]
    },
    {
      "cell_type": "code",
      "source": [
        "!g++ max_pairwise_product_long_full_execints.cpp -o max_pairwise_product_long_full_execints\n",
        "!./max_pairwise_product_long_full_execints < input11.txt"
      ],
      "metadata": {
        "id": "BMH8mF3EKn2w",
        "colab": {
          "base_uri": "https://localhost:8080/"
        },
        "outputId": "0e527bcc-6d55-49f4-cfc7-dd1b632b60fa"
      },
      "execution_count": null,
      "outputs": [
        {
          "output_type": "stream",
          "name": "stdout",
          "text": [
            "200003177092\n"
          ]
        }
      ]
    },
    {
      "cell_type": "code",
      "execution_count": null,
      "metadata": {
        "id": "pKqB3i7dIxnc",
        "colab": {
          "base_uri": "https://localhost:8080/"
        },
        "outputId": "fe4f6649-4d0d-4c48-f81c-3b0c1bde7485"
      },
      "outputs": [
        {
          "output_type": "execute_result",
          "data": {
            "text/plain": [
              "1.4749926248820013e-09"
            ]
          },
          "metadata": {},
          "execution_count": 86
        }
      ],
      "source": [
        "# Estimated time by instruction\n",
        "295/200001000021\n"
      ]
    },
    {
      "cell_type": "code",
      "execution_count": null,
      "metadata": {
        "id": "18N1ouqeMhE1",
        "colab": {
          "base_uri": "https://localhost:8080/"
        },
        "outputId": "9d30ec6e-ba34-4475-9e69-a162919e85ff"
      },
      "outputs": [
        {
          "output_type": "execute_result",
          "data": {
            "text/plain": [
              "677969491.5966102"
            ]
          },
          "metadata": {},
          "execution_count": 87
        }
      ],
      "source": [
        "# Estimated number of instructions by second\n",
        "1 / (295/200001000021)"
      ]
    },
    {
      "cell_type": "markdown",
      "source": [
        "# Estimate the maximun n that can be solved in 1 second\n",
        "\n",
        "$$(5.5n^2 + 5.5n + 11) \\times 1.47*10^{-9} s = 1 s$$\n",
        "\n",
        "$$ n \\approx 11000$$\n"
      ],
      "metadata": {
        "id": "KyuxejFkL5X_"
      }
    },
    {
      "cell_type": "code",
      "source": [
        "# Verify input13.txt\n",
        "%%writefile WriteTest.cpp\n",
        "\n",
        "#include <iostream>\n",
        "#include <fstream>\n",
        "#include <cstdlib>\n",
        "\n",
        "using namespace std;\n",
        "\n",
        "int main() {\n",
        "  // Create and open a text file\n",
        "  ofstream MyFile(\"input13.txt\");\n",
        "\n",
        " MyFile << 11000 <<\"\\n\";  // n\n",
        " for (int i=1; i <11001; i++){\n",
        "     MyFile << i <<\" \";\n",
        " }\n",
        "\n",
        "  // Close the file\n",
        "  MyFile.close();\n",
        "}"
      ],
      "metadata": {
        "id": "WXu5jp-DLTOI",
        "colab": {
          "base_uri": "https://localhost:8080/"
        },
        "outputId": "3f530121-1fa5-4b7f-d9d8-58bc6a85c31c"
      },
      "execution_count": null,
      "outputs": [
        {
          "output_type": "stream",
          "name": "stdout",
          "text": [
            "Overwriting WriteTest.cpp\n"
          ]
        }
      ]
    },
    {
      "cell_type": "code",
      "source": [
        "!g++ WriteTest.cpp -o WriteTest\n",
        "!./WriteTest"
      ],
      "metadata": {
        "id": "AQ8N52pUMCeT"
      },
      "execution_count": null,
      "outputs": []
    },
    {
      "cell_type": "code",
      "source": [
        "!g++ max_pairwise_product_long_full.cpp -o max_pairwise_product_long_full\n",
        "!time ./max_pairwise_product_long_full< input13.txt"
      ],
      "metadata": {
        "id": "ussuAokfM2du",
        "colab": {
          "base_uri": "https://localhost:8080/"
        },
        "outputId": "203e9746-5a64-491b-cee3-a0f9cce036f2"
      },
      "execution_count": null,
      "outputs": [
        {
          "output_type": "stream",
          "name": "stdout",
          "text": [
            "120989000\n",
            "\n",
            "real\t0m0.864s\n",
            "user\t0m0.858s\n",
            "sys\t0m0.002s\n"
          ]
        }
      ]
    },
    {
      "cell_type": "markdown",
      "metadata": {
        "id": "Tm_AVmt-QQH4"
      },
      "source": [
        "## Python"
      ]
    },
    {
      "cell_type": "code",
      "source": [
        "%%writefile max_pairwise_product_py.py\n",
        "#Python3\n",
        "def max_pairwise_product(l):\n",
        "    max_product = 0\n",
        "    aux_product = 0\n",
        "    n = len(l)\n",
        "    for i in range(n):\n",
        "        for j in range(n):\n",
        "            if i != j:\n",
        "                aux_product = l[i] * l[j]\n",
        "                if aux_product > max_product:\n",
        "                    max_product = aux_product\n",
        "    return max_product\n",
        "\n",
        "if __name__ == \"__main__\":\n",
        "    n = int(input())\n",
        "    l = list(map(int, input().split()))\n",
        "    print(max_pairwise_product(l))"
      ],
      "metadata": {
        "id": "uQULnYLvO9wj",
        "colab": {
          "base_uri": "https://localhost:8080/"
        },
        "outputId": "78d7bb78-237b-4bf9-cd9c-567e5b2027cd"
      },
      "execution_count": null,
      "outputs": [
        {
          "output_type": "stream",
          "name": "stdout",
          "text": [
            "Writing max_pairwise_product_py.py\n"
          ]
        }
      ]
    },
    {
      "cell_type": "code",
      "execution_count": null,
      "metadata": {
        "id": "gRCCcd7IQTKZ",
        "colab": {
          "base_uri": "https://localhost:8080/"
        },
        "outputId": "db7dedbc-062e-4dd8-b31f-57491c8b5f8d"
      },
      "outputs": [
        {
          "output_type": "stream",
          "name": "stdout",
          "text": [
            "Overwriting WriteTestPython.py\n"
          ]
        }
      ],
      "source": [
        "%%writefile WriteTestPython.py\n",
        "#Python3\n",
        "if __name__ == \"__main__\":\n",
        "    with open(\"input14.txt\", \"w\") as f:\n",
        "        f.write(\"11000\\n\")\n",
        "        for i in range(1, 11001):\n",
        "            f.write(f\"{i} \")"
      ]
    },
    {
      "cell_type": "code",
      "execution_count": null,
      "metadata": {
        "id": "kAEAoNZEQTCw"
      },
      "outputs": [],
      "source": [
        "!python WriteTestPython.py"
      ]
    },
    {
      "cell_type": "code",
      "execution_count": null,
      "metadata": {
        "id": "hjw7TJrDL0d-",
        "colab": {
          "base_uri": "https://localhost:8080/"
        },
        "outputId": "161c0cfd-694c-4b6f-a1e5-025711464e7e"
      },
      "outputs": [
        {
          "output_type": "stream",
          "name": "stdout",
          "text": [
            "120989000\n",
            "CPU times: user 150 ms, sys: 27 ms, total: 177 ms\n",
            "Wall time: 23.5 s\n"
          ]
        }
      ],
      "source": [
        "# Verify #Not surprising Python version is slower...\n",
        "%%time\n",
        "!python max_pairwise_product_py.py < input14.txt"
      ]
    },
    {
      "cell_type": "markdown",
      "metadata": {
        "id": "MKQKSC-vKePK"
      },
      "source": [
        "## Perform the same analysis for an algorithm in C++ and Python that uses\n",
        "$$\\frac{n^2 - n}{2} = O(n^2)\\ \\ \\text{products}$$"
      ]
    },
    {
      "cell_type": "code",
      "execution_count": null,
      "metadata": {
        "id": "jkkHHoxSK65p",
        "colab": {
          "base_uri": "https://localhost:8080/"
        },
        "outputId": "437836eb-ebc5-4b25-b57b-fa055af6da1e"
      },
      "outputs": [
        {
          "output_type": "stream",
          "name": "stdout",
          "text": [
            "Writing max_pairwise_product.cpp\n"
          ]
        }
      ],
      "source": [
        "%%writefile max_pairwise_product.cpp\n",
        "#include <iostream>\n",
        "#include <vector>\n",
        "#include <algorithm>\n",
        "\n",
        "int MaxPairwiseProduct(const std::vector<int>& numbers) {\n",
        "    int max_product = 0;\n",
        "    int n = numbers.size();\n",
        "\n",
        "    for (int first = 0; first < n; ++first) {\n",
        "        for (int second = first + 1; second < n; ++second) {\n",
        "            max_product = std::max(max_product,\n",
        "                numbers[first] * numbers[second]);\n",
        "        }\n",
        "    }\n",
        "\n",
        "    return max_product;\n",
        "}\n",
        "\n",
        "int main() {\n",
        "    int n;\n",
        "    std::cin >> n;\n",
        "    std::vector<int> numbers(n);\n",
        "    for (int i = 0; i < n; ++i) {\n",
        "        std::cin >> numbers[i];\n",
        "    }\n",
        "\n",
        "    std::cout << MaxPairwiseProduct(numbers) << \"\\n\";\n",
        "    return 0;\n",
        "}"
      ]
    },
    {
      "cell_type": "code",
      "execution_count": null,
      "metadata": {
        "id": "sU8-Ote7K8vz",
        "colab": {
          "base_uri": "https://localhost:8080/"
        },
        "outputId": "ad02925b-2038-43e2-a35c-f0dcc9d988b6"
      },
      "outputs": [
        {
          "output_type": "stream",
          "name": "stdout",
          "text": [
            "Writing max_pairwise_product_long.cpp\n"
          ]
        }
      ],
      "source": [
        "%%writefile max_pairwise_product_long.cpp\n",
        "#include <iostream>\n",
        "#include <vector>\n",
        "#include <algorithm>\n",
        "\n",
        "long long MaxPairwiseProduct(const std::vector<int>& numbers) {              //INSTRUCTIONS executed by line\n",
        "    long long max_product = 0LL;                                             //1\n",
        "\t  long long aux_product = 0LL;                                             //1\n",
        "    int n = numbers.size();                                                  //1\n",
        "\n",
        "    for (int first = 0; first < n; ++first) {                                //2+2n\n",
        "        for (int second = first + 1; second < n; ++second) {                 //2n + (n-1)n\n",
        "\t\t\t       aux_product =  (long long) numbers[first] * numbers[second];    //(n-1)n/2\n",
        "            if (max_product < aux_product)  {                                //(n-1)n/2\n",
        "\t\t\t\t        max_product = aux_product;                                   //[1,(n-1)n/2)  upper bound\n",
        "             }\n",
        "        }\n",
        "    }\n",
        "                                                                             // --------------\n",
        "    return max_product;                                                      // 5 + 4n + [2(n-1)n+1, 2.5 (n-1)n) upper bound\n",
        "}\n",
        "\n",
        "int main() {                                              //INSTRUCTIONS executed by line\n",
        "    int n;                                                //1\n",
        "    std::cin >> n;                                        //1\n",
        "    std::vector<int> numbers(n);                          //n\n",
        "    for (int i = 0; i < n; ++i) {                         //2 + 2n\n",
        "        std::cin >> numbers[i];                           //n\n",
        "    }\n",
        "\n",
        "    std::cout << MaxPairwiseProduct(numbers) << \"\\n\";     //1 + 1  + 5 + 4n + [2(n-1)n+1, 2.5 (n-1)n) upper bound\n",
        "    return 0;                                             // --------------\n",
        "}                                                         // 11 + 7n + [2(n-1)n+1, 2.5 (n-1)n) upper bound"
      ]
    },
    {
      "cell_type": "code",
      "source": [
        "!g++ max_pairwise_product_long.cpp -o max_pairwise_product_long\n",
        "!time ./max_pairwise_product_long < input11.txt"
      ],
      "metadata": {
        "id": "IW437X8igfOu",
        "colab": {
          "base_uri": "https://localhost:8080/"
        },
        "outputId": "976f55aa-97bb-4dbf-c882-1377e6c076ee"
      },
      "execution_count": null,
      "outputs": [
        {
          "output_type": "stream",
          "name": "stdout",
          "text": [
            "39999800000\n",
            "\n",
            "real\t2m21.327s\n",
            "user\t2m19.779s\n",
            "sys\t0m0.068s\n"
          ]
        }
      ]
    },
    {
      "cell_type": "code",
      "source": [
        "%%writefile max_pairwise_product_n2_py.py\n",
        "#Python3\n",
        "def max_pairwise_product(l):\n",
        "    max_product = 0\n",
        "    aux_product = 0\n",
        "    n = len(l)\n",
        "    for i in range(n):\n",
        "        for j in range(i + 1, n):\n",
        "            aux_product = l[i] * l[j]\n",
        "            if max_product < aux_product:\n",
        "                max_product = aux_product\n",
        "\n",
        "    return max_product\n",
        "\n",
        "if __name__ == \"__main__\":\n",
        "    n = int(input())\n",
        "    l = list(map(int, input().split()))\n",
        "    print(max_pairwise_product(l))"
      ],
      "metadata": {
        "id": "sedMqOPBjCQE",
        "colab": {
          "base_uri": "https://localhost:8080/"
        },
        "outputId": "4f4693f8-d3d0-4848-8d2d-ad48d3de001f"
      },
      "execution_count": null,
      "outputs": [
        {
          "output_type": "stream",
          "name": "stdout",
          "text": [
            "Overwriting max_pairwise_product_n2_py.py\n"
          ]
        }
      ]
    },
    {
      "cell_type": "markdown",
      "source": [
        "The number of instructions executed by the algorithm with a list of size $n$ is  \n",
        "\n",
        "$$T (n) = 11 + 7n + \\left[2(n-1)n+1, 2.5(n-1)n\\right] \\ \\  \\text{upper bound}$$\n",
        "\n",
        "It depends on the size of the lists and  the order of the list.\n",
        "\n",
        "For the input1.txt\n",
        "```\n",
        "10\n",
        "1 2 3 4 5 6 7 8 9 10\n",
        "```\n",
        "\n",
        "$$T(10) \\in [262, 306] $$"
      ],
      "metadata": {
        "id": "R2FSS_mcozZ0"
      }
    },
    {
      "cell_type": "code",
      "execution_count": null,
      "metadata": {
        "id": "5QWT3fneK8nw",
        "colab": {
          "base_uri": "https://localhost:8080/"
        },
        "outputId": "d604751a-b598-4c69-cfe7-b8130bcfdf88"
      },
      "outputs": [
        {
          "output_type": "stream",
          "name": "stdout",
          "text": [
            "262 306.0\n"
          ]
        }
      ],
      "source": [
        "n = 10\n",
        "print(11 + 7*(10) + 2*(10)*(9) + 1, 11 + 7*(10) + 2.5*(10)*(9))"
      ]
    },
    {
      "cell_type": "markdown",
      "source": [
        "For the input11.txt\n",
        "```\n",
        "200000\n",
        "1 2 . . . 199999 200000\n",
        "```\n",
        "\n",
        "$$T(200000) \\in [80001000012, 100000900011] $$"
      ],
      "metadata": {
        "id": "viHzSbrgq2iL"
      }
    },
    {
      "cell_type": "code",
      "execution_count": null,
      "metadata": {
        "id": "mxIVvm1RK8dB",
        "colab": {
          "base_uri": "https://localhost:8080/"
        },
        "outputId": "9cff2811-45af-4e33-def7-5a9358ff6630"
      },
      "outputs": [
        {
          "output_type": "stream",
          "name": "stdout",
          "text": [
            "80001000012 100000900011.0\n"
          ]
        }
      ],
      "source": [
        "print(11 + 7*(200000) + 2*(200000)*(199999) + 1, 11 + 7*(200000) + 2.5*(200000)*(199999))"
      ]
    },
    {
      "cell_type": "code",
      "source": [
        "#ins\n",
        "estimated_time = 195 / 100000900009\n",
        "estimated_time"
      ],
      "metadata": {
        "id": "es-PE7C0s3dA",
        "colab": {
          "base_uri": "https://localhost:8080/"
        },
        "outputId": "bdd16e4e-da2c-43fe-aba4-db30e48eeffa"
      },
      "execution_count": null,
      "outputs": [
        {
          "output_type": "execute_result",
          "data": {
            "text/plain": [
              "1.9499824499824516e-09"
            ]
          },
          "metadata": {},
          "execution_count": 101
        }
      ]
    },
    {
      "cell_type": "code",
      "source": [
        "#ins per sec (aprox.)\n",
        "ins_per_sec =  1 / estimated_time\n",
        "ins_per_sec"
      ],
      "metadata": {
        "id": "fvf98KE4tG-5",
        "colab": {
          "base_uri": "https://localhost:8080/"
        },
        "outputId": "ee76a5b1-8309-4af8-98b1-f6936ca188b2"
      },
      "execution_count": null,
      "outputs": [
        {
          "output_type": "execute_result",
          "data": {
            "text/plain": [
              "512825128.2512821"
            ]
          },
          "metadata": {},
          "execution_count": 102
        }
      ]
    },
    {
      "cell_type": "markdown",
      "source": [
        "###Correctness tests"
      ],
      "metadata": {
        "id": "Z20oTicenhn8"
      }
    },
    {
      "cell_type": "code",
      "source": [
        "%%writefile stress_test.sh\n",
        "#!/bin/bash\n",
        "g++ max_pairwise_product_long.cpp -o max_pairwise_product_long\n",
        "\n",
        "for i in {0..10}\n",
        "do\n",
        "    ./max_pairwise_product_long < input$i.txt > ctest$i.txt\n",
        "    grep -xvFf output$i.txt ctest$i.txt\n",
        "done"
      ],
      "metadata": {
        "id": "wccQOvNsnFN7",
        "colab": {
          "base_uri": "https://localhost:8080/"
        },
        "outputId": "e13eb352-bf86-4007-bd1f-5fe27fdd8a8c"
      },
      "execution_count": null,
      "outputs": [
        {
          "output_type": "stream",
          "name": "stdout",
          "text": [
            "Overwriting stress_test.sh\n"
          ]
        }
      ]
    },
    {
      "cell_type": "code",
      "source": [
        "!./stress_test.sh"
      ],
      "metadata": {
        "id": "RQ1o3mpcnq_7"
      },
      "execution_count": null,
      "outputs": []
    },
    {
      "cell_type": "code",
      "source": [
        "%%writefile stress_test.sh\n",
        "#!/bin/bash\n",
        "\n",
        "for i in {0..10}\n",
        "do\n",
        "    python3 max_pairwise_product_n2_py.py < input$i.txt > ptest$i.txt\n",
        "    grep -xvFf output$i.txt ptest$i.txt\n",
        "done"
      ],
      "metadata": {
        "id": "BvXSA7EgnQKa",
        "colab": {
          "base_uri": "https://localhost:8080/"
        },
        "outputId": "4a856d27-e578-457e-aed2-e380b0cc308d"
      },
      "execution_count": null,
      "outputs": [
        {
          "output_type": "stream",
          "name": "stdout",
          "text": [
            "Overwriting stress_test.sh\n"
          ]
        }
      ]
    },
    {
      "cell_type": "code",
      "source": [
        "!./stress_test.sh"
      ],
      "metadata": {
        "id": "yfezcJexn2Yc"
      },
      "execution_count": null,
      "outputs": []
    },
    {
      "cell_type": "markdown",
      "source": [
        "###Estimated maximum that can be solved in 1 second\n",
        "$$(11 + 7n + 2.5(n-1)n)*1.47*10^{-9} = 1s$$\n",
        "$$ n \\approx 16400 $$"
      ],
      "metadata": {
        "id": "O3Z4WhpvkF2i"
      }
    },
    {
      "cell_type": "code",
      "source": [
        "# Verify input13.txt\n",
        "%%writefile WriteTest.cpp\n",
        "\n",
        "#include <iostream>\n",
        "#include <fstream>\n",
        "#include <cstdlib>\n",
        "\n",
        "using namespace std;\n",
        "\n",
        "int main() {\n",
        "  // Create and open a text file\n",
        "  ofstream MyFile(\"input13.txt\");\n",
        "\n",
        " MyFile << 16400 <<\"\\n\";  // n\n",
        " for (int i=1; i <16401; i++){\n",
        "     MyFile << i <<\" \";\n",
        " }\n",
        "\n",
        "  // Close the file\n",
        "  MyFile.close();\n",
        "}"
      ],
      "metadata": {
        "id": "8T3ug0j2lPB5",
        "colab": {
          "base_uri": "https://localhost:8080/"
        },
        "outputId": "109ef147-c12f-447b-eef2-cb38f6af5775"
      },
      "execution_count": null,
      "outputs": [
        {
          "output_type": "stream",
          "name": "stdout",
          "text": [
            "Overwriting WriteTest.cpp\n"
          ]
        }
      ]
    },
    {
      "cell_type": "code",
      "source": [
        "!g++ WriteTest.cpp -o WriteTest\n",
        "!./WriteTest"
      ],
      "metadata": {
        "id": "XDO-TfONlWrz"
      },
      "execution_count": null,
      "outputs": []
    },
    {
      "cell_type": "code",
      "source": [
        "!g++ max_pairwise_product_long.cpp -o max_pairwise_product_long\n",
        "!time ./max_pairwise_product_long < input13.txt"
      ],
      "metadata": {
        "id": "o9h6y4UHlhZg",
        "colab": {
          "base_uri": "https://localhost:8080/"
        },
        "outputId": "2f1312d3-a965-4f59-c7e7-e0d03861c9f2"
      },
      "execution_count": null,
      "outputs": [
        {
          "output_type": "stream",
          "name": "stdout",
          "text": [
            "268943600\n",
            "\n",
            "real\t0m0.894s\n",
            "user\t0m0.880s\n",
            "sys\t0m0.005s\n"
          ]
        }
      ]
    },
    {
      "cell_type": "code",
      "source": [
        "%%writefile WriteTestPython.py\n",
        "#Python3\n",
        "if __name__ == \"__main__\":\n",
        "    with open(\"input14.txt\", \"w\") as f:\n",
        "        f.write(\"16400\\n\")\n",
        "        for i in range(1, 16401):\n",
        "            f.write(f\"{i} \")"
      ],
      "metadata": {
        "id": "HF46Xcpwlwqn",
        "colab": {
          "base_uri": "https://localhost:8080/"
        },
        "outputId": "05d1e13f-f382-4375-fd37-35265baa174b"
      },
      "execution_count": null,
      "outputs": [
        {
          "output_type": "stream",
          "name": "stdout",
          "text": [
            "Overwriting WriteTestPython.py\n"
          ]
        }
      ]
    },
    {
      "cell_type": "code",
      "source": [
        "!python WriteTestPython.py"
      ],
      "metadata": {
        "id": "hJR_E1A3lziq"
      },
      "execution_count": null,
      "outputs": []
    },
    {
      "cell_type": "code",
      "source": [
        "#Slower. Not a surprise.\n",
        "%%time\n",
        "!python max_pairwise_product_n2_py.py < input14.txt"
      ],
      "metadata": {
        "id": "ySya5DKhl7H_",
        "colab": {
          "base_uri": "https://localhost:8080/"
        },
        "outputId": "fac25ef6-322e-422c-9fc7-4cbd4c0e1b20"
      },
      "execution_count": null,
      "outputs": [
        {
          "output_type": "stream",
          "name": "stdout",
          "text": [
            "268943600\n",
            "CPU times: user 140 ms, sys: 11.9 ms, total: 152 ms\n",
            "Wall time: 19.5 s\n"
          ]
        }
      ]
    },
    {
      "cell_type": "markdown",
      "metadata": {
        "id": "1Hsbd-uHOb_j"
      },
      "source": [
        "### Sort solution in C++ and Python\n",
        "\n",
        "$$ O(n \\lg n)$$\n",
        "\n",
        "**Which sorting algorithm is used in GCC?**\n",
        "https://stackoverflow.com/questions/7221257/which-sorting-algorithm-is-used-in-gcc\n",
        "\n",
        "* ...  the algorithm is called introsort, a combination between Insertionsort, Quicksort & Heapsort. ...\n",
        "\n",
        "**Introsort**\n",
        "https://en.wikipedia.org/wiki/Introsort\n",
        "\n",
        "Introsort or introspective sort is a hybrid sorting algorithm that provides both fast average performance and (asymptotically) optimal worst-case performance. It begins with quicksort, it switches to heapsort when the recursion depth exceeds a level based on (the logarithm of) the number of elements being sorted and it switches to insertion sort when the number of elements is below some threshold\n",
        "\n",
        "*   Class\tSorting algorithm\n",
        "*   Data structure\tArray\n",
        "*   Worst-case performance\t$O(n \\lg n)$\n",
        "*   Average performance\t$O(n \\lg n)$\n",
        "\n",
        "**Tinsort**\n",
        "https://en.wikipedia.org/wiki/Timsort\n",
        "\n",
        "Timsort is a hybrid, stable sorting algorithm, derived from merge sort and insertion sort, designed to perform well on many kinds of real-world data. It was implemented by Tim Peters in 2002 for use in the Python programming language.\n",
        "\n",
        "*   Class\tSorting algorithm\n",
        "*   Data structure\tArray\n",
        "*   Worst-case performance\t$O(n \\lg n)$\n",
        "*   Best-case performance $O(n)$\n",
        "*   Average performance\t$O(n \\lg n)$\n",
        "*   Worst-case space complexity $O(n)$"
      ]
    },
    {
      "cell_type": "markdown",
      "metadata": {
        "id": "WMUthAXjOb_k"
      },
      "source": [
        "Add in each line a coment with the number of intstrcution that are executed in that line"
      ]
    },
    {
      "cell_type": "code",
      "execution_count": null,
      "metadata": {
        "id": "2-sXOmqFOb_k",
        "colab": {
          "base_uri": "https://localhost:8080/"
        },
        "outputId": "b2c89148-9f23-4520-b8d0-5ee65e792cf9"
      },
      "outputs": [
        {
          "output_type": "stream",
          "name": "stdout",
          "text": [
            "Writing max_pairwise_product_sort.cpp\n"
          ]
        }
      ],
      "source": [
        "%%writefile max_pairwise_product_sort.cpp\n",
        "#include <iostream>\n",
        "#include <vector>\n",
        "#include <algorithm>\n",
        "\n",
        "int main(int argc, char* argv[]){\n",
        "    int n;                                                   //1\n",
        "    std::cin >> n;                                           //1\n",
        "    std::vector<int> v(n);                                   //n\n",
        "    for(int i = 0; i < n; i++){                              //1 + 2n\n",
        "        std::cin >> v[i];                                    //n\n",
        "    }\n",
        "\n",
        "    std::sort(v.begin(), v.end());                          //nlogn\n",
        "    std::cout << (long long) v[n - 1] * v[n - 2] << '\\n';   //2\n",
        "    return 0;\n",
        "}"
      ]
    },
    {
      "cell_type": "code",
      "source": [
        "%%writefile max_pairwise_product_sort.py\n",
        "#Python3\n",
        "if __name__ == \"__main__\":\n",
        "    n = int(input())                                        #1\n",
        "    l = list(map(int, input().split()))                     #5n\n",
        "    l.sort()                                                #nlogn at least\n",
        "    print(l[-1] * l[-2])                              #2"
      ],
      "metadata": {
        "id": "iBmnMSrYbXBq",
        "colab": {
          "base_uri": "https://localhost:8080/"
        },
        "outputId": "2dd5eb1f-6b6c-4851-cdfd-d062beca1e5b"
      },
      "execution_count": null,
      "outputs": [
        {
          "output_type": "stream",
          "name": "stdout",
          "text": [
            "Overwriting max_pairwise_product_sort.py\n"
          ]
        }
      ]
    },
    {
      "cell_type": "markdown",
      "metadata": {
        "id": "v8pdV9ABOb_k"
      },
      "source": [
        "Test with inputs 1 and 2\n",
        "\n"
      ]
    },
    {
      "cell_type": "code",
      "execution_count": null,
      "metadata": {
        "id": "kdXAyLG4Ob_k",
        "colab": {
          "base_uri": "https://localhost:8080/"
        },
        "outputId": "481ae075-ca0e-4a07-fff7-3f0932c682cc"
      },
      "outputs": [
        {
          "output_type": "stream",
          "name": "stdout",
          "text": [
            "90\n",
            "90\n"
          ]
        }
      ],
      "source": [
        "!g++ max_pairwise_product_sort.cpp -o max_pairwise_product_sort\n",
        "!./max_pairwise_product_sort < input1.txt   #Original array in input1.txt increasing order [1, 2, 3, 4, 5, 6, 7, 8, 9, 10]\n",
        "!./max_pairwise_product_sort < input2.txt   #Original array in input2.txt decreasing order [10, 9, 8, 7, 6, 5, 4, 3, 2, 1]"
      ]
    },
    {
      "cell_type": "code",
      "source": [
        "!python max_pairwise_product_sort.py < input1.txt\n",
        "!python max_pairwise_product_sort.py < input2.txt"
      ],
      "metadata": {
        "id": "mROvPLDGeCn4",
        "colab": {
          "base_uri": "https://localhost:8080/"
        },
        "outputId": "845c47f8-7981-45ca-fb3d-8043ad92a8a5"
      },
      "execution_count": null,
      "outputs": [
        {
          "output_type": "stream",
          "name": "stdout",
          "text": [
            "90\n",
            "90\n"
          ]
        }
      ]
    },
    {
      "cell_type": "markdown",
      "metadata": {
        "id": "Sw-5X1q1Ob_k"
      },
      "source": [
        "Test and time it with input 3"
      ]
    },
    {
      "cell_type": "code",
      "execution_count": null,
      "metadata": {
        "id": "ryHJ30WIOb_k",
        "colab": {
          "base_uri": "https://localhost:8080/"
        },
        "outputId": "0a2f3dc0-8a71-4a44-c6ff-04a4b53133c5"
      },
      "outputs": [
        {
          "output_type": "stream",
          "name": "stdout",
          "text": [
            "40000000000\n",
            "\n",
            "real\t0m0.003s\n",
            "user\t0m0.001s\n",
            "sys\t0m0.002s\n"
          ]
        }
      ],
      "source": [
        "!g++ max_pairwise_product_sort.cpp -o max_pairwise_product_sort\n",
        "!time ./max_pairwise_product_sort < input3.txt"
      ]
    },
    {
      "cell_type": "code",
      "source": [
        "%%time\n",
        "#Given in secs. *10^-3 ms\n",
        "!python max_pairwise_product_sort.py < input3.txt"
      ],
      "metadata": {
        "id": "n7Svevx-eE6t",
        "colab": {
          "base_uri": "https://localhost:8080/"
        },
        "outputId": "7bbd361f-e6c5-4cdc-b7c0-76abc44e3cbd"
      },
      "execution_count": null,
      "outputs": [
        {
          "output_type": "stream",
          "name": "stdout",
          "text": [
            "40000000000\n",
            "CPU times: user 4.75 ms, sys: 808 µs, total: 5.56 ms\n",
            "Wall time: 106 ms\n"
          ]
        }
      ]
    },
    {
      "cell_type": "markdown",
      "metadata": {
        "id": "oJGdPl1HOb_k"
      },
      "source": [
        "20 stress tests"
      ]
    },
    {
      "cell_type": "code",
      "execution_count": null,
      "metadata": {
        "id": "pXHtO1dEOb_k",
        "colab": {
          "base_uri": "https://localhost:8080/"
        },
        "outputId": "e92249d4-26a0-49dc-fcaa-c923714ffb80"
      },
      "outputs": [
        {
          "output_type": "stream",
          "name": "stdout",
          "text": [
            "Writing stress_test_cpp.cpp\n"
          ]
        }
      ],
      "source": [
        "%%writefile stress_test_cpp.cpp\n",
        "#include <iostream>\n",
        "#include <vector>\n",
        "#include <algorithm>\n",
        "\n",
        "int main(int argc, char* argv[]){\n",
        "    for(int i = 0; i < 20; i++){\n",
        "        int n = rand() % 49 + 2;\n",
        "        std::vector<int> v(n);\n",
        "        for(int i = 0; i < n; i++){\n",
        "            v[i] = rand() % 1000 + 2;\n",
        "        }\n",
        "        std::sort(v.begin(), v.end());\n",
        "        std::cout << \"n: \" << n << \" Product: \" << (long long) v[n - 1] * v[n - 2] << '\\n';\n",
        "    }\n",
        "    return 0;\n",
        "}"
      ]
    },
    {
      "cell_type": "code",
      "source": [
        "!g++ stress_test_cpp.cpp -o stress_test_cpp\n",
        "!./stress_test_cpp"
      ],
      "metadata": {
        "id": "NQcy13O-oU80",
        "colab": {
          "base_uri": "https://localhost:8080/"
        },
        "outputId": "b444178c-9b8f-4660-ac4f-1c98c88705af"
      },
      "execution_count": null,
      "outputs": [
        {
          "output_type": "stream",
          "name": "stdout",
          "text": [
            "n: 17 Product: 850976\n",
            "n: 25 Product: 857451\n",
            "n: 43 Product: 980036\n",
            "n: 10 Product: 692094\n",
            "n: 30 Product: 839816\n",
            "n: 48 Product: 956363\n",
            "n: 9 Product: 475580\n",
            "n: 46 Product: 954088\n",
            "n: 44 Product: 902850\n",
            "n: 17 Product: 981034\n",
            "n: 40 Product: 928812\n",
            "n: 7 Product: 267968\n",
            "n: 42 Product: 991020\n",
            "n: 27 Product: 908160\n",
            "n: 23 Product: 990016\n",
            "n: 2 Product: 141372\n",
            "n: 4 Product: 418500\n",
            "n: 11 Product: 557996\n",
            "n: 42 Product: 963270\n",
            "n: 17 Product: 690616\n"
          ]
        }
      ]
    },
    {
      "cell_type": "code",
      "source": [
        "%%writefile stress_tests_sort_py.py\n",
        "#Python3\n",
        "import random\n",
        "if __name__ == \"__main__\":\n",
        "    for i in range(10):\n",
        "        n = random.randint(4, 186)\n",
        "        l = [ random.randint(27, 56734) for i in range(n) ]\n",
        "        l.sort()\n",
        "        print(f\"n: {n} Product: {l[-1] * l[-2]}\")"
      ],
      "metadata": {
        "colab": {
          "base_uri": "https://localhost:8080/"
        },
        "id": "FFMy7NjFV0gX",
        "outputId": "35027b18-7b2c-4a0a-a14c-22fce9290a90"
      },
      "execution_count": null,
      "outputs": [
        {
          "output_type": "stream",
          "name": "stdout",
          "text": [
            "Writing stress_tests_sort_py.py\n"
          ]
        }
      ]
    },
    {
      "cell_type": "code",
      "source": [
        "!python stress_tests_sort_py.py"
      ],
      "metadata": {
        "colab": {
          "base_uri": "https://localhost:8080/"
        },
        "id": "cHcM2-gKV8D5",
        "outputId": "ffcc588c-3b41-4577-db9b-303b8243358d"
      },
      "execution_count": null,
      "outputs": [
        {
          "output_type": "stream",
          "name": "stdout",
          "text": [
            "n: 128 Product: 3050714716\n",
            "n: 77 Product: 3117904825\n",
            "n: 82 Product: 3082037882\n",
            "n: 114 Product: 3144293307\n",
            "n: 142 Product: 3148816518\n",
            "n: 58 Product: 3025599480\n",
            "n: 66 Product: 3150576371\n",
            "n: 168 Product: 3117074317\n",
            "n: 76 Product: 3203502588\n",
            "n: 17 Product: 2986001436\n"
          ]
        }
      ]
    },
    {
      "cell_type": "markdown",
      "metadata": {
        "id": "2beTmWFPOb_k"
      },
      "source": [
        "Count executed instructions in code and verify with inputs 1,2 and 3\n"
      ]
    },
    {
      "cell_type": "code",
      "execution_count": null,
      "metadata": {
        "id": "iuByv4x1Ob_k",
        "colab": {
          "base_uri": "https://localhost:8080/"
        },
        "outputId": "daa5ca38-61d3-4a16-c12b-e70a37da5747"
      },
      "outputs": [
        {
          "output_type": "stream",
          "name": "stdout",
          "text": [
            "Overwriting max_pairwise_product_sort_ins.cpp\n"
          ]
        }
      ],
      "source": [
        "%%writefile max_pairwise_product_sort_ins.cpp\n",
        "#include <iostream>\n",
        "#include <vector>\n",
        "#include <algorithm>\n",
        "#include <cmath>\n",
        "\n",
        "int main(int argc, char* argv[]){\n",
        "    uint64_t ins = 0;\n",
        "    int n;                                                   //1\n",
        "    ins++;\n",
        "    std::cin >> n;                                           //1\n",
        "    ins++;\n",
        "    std::vector<uint64_t> v(n);                                   //n\n",
        "    ins += n;\n",
        "    ins++;\n",
        "    for(int i = 0; i < n; i++){                              //1 + 2n\n",
        "        ins += 2;\n",
        "        std::cin >> v[i];                                    //n\n",
        "        ins++;\n",
        "    }\n",
        "\n",
        "    std::sort(v.begin(), v.end());                           //nlogn at least (nlogn time complexity)\n",
        "    ins += n * log2(n);\n",
        "    std::cout << (long long) v[n - 1] * v[n - 2] << '\\n';    //3\n",
        "    ins += 3;\n",
        "    std::cout << \"Executed instructions: \" << ins << '\\n';   // 7 + 4n + ins(nlogn sort). Where ins(nlogn sort) are, at least, nlogn.\n",
        "    return 0;\n",
        "}"
      ]
    },
    {
      "cell_type": "code",
      "source": [
        "!g++ max_pairwise_product_sort_ins.cpp -o max_pairwise_product_sort_ins\n",
        "!./max_pairwise_product_sort_ins < input1.txt\n",
        "!./max_pairwise_product_sort_ins < input2.txt\n",
        "!./max_pairwise_product_sort_ins < input3.txt"
      ],
      "metadata": {
        "id": "19hkfZG9ookj",
        "colab": {
          "base_uri": "https://localhost:8080/"
        },
        "outputId": "8b5af184-5209-448e-fde2-fe82d66f84ce"
      },
      "execution_count": null,
      "outputs": [
        {
          "output_type": "stream",
          "name": "stdout",
          "text": [
            "90\n",
            "Executed instructions: 79\n",
            "90\n",
            "Executed instructions: 79\n",
            "40000000000\n",
            "Executed instructions: 45\n"
          ]
        }
      ]
    },
    {
      "cell_type": "code",
      "source": [
        "!time ./max_pairwise_product_sort_ins < input11.txt"
      ],
      "metadata": {
        "id": "MzLtK1RDVEvo",
        "colab": {
          "base_uri": "https://localhost:8080/"
        },
        "outputId": "4a7d9baa-8601-4a69-c593-f1c4dd302189"
      },
      "execution_count": null,
      "outputs": [
        {
          "output_type": "stream",
          "name": "stdout",
          "text": [
            "39999800000\n",
            "Executed instructions: 4321934\n",
            "\n",
            "real\t0m0.126s\n",
            "user\t0m0.115s\n",
            "sys\t0m0.006s\n"
          ]
        }
      ]
    },
    {
      "cell_type": "code",
      "source": [
        "%%writefile max_pairwise_product_sort_ins.py\n",
        "#Python3\n",
        "import math\n",
        "\n",
        "if __name__ == \"__main__\":\n",
        "    ins = 0\n",
        "    n = int(input())                       #1\n",
        "    ins += 1\n",
        "    l = list(map(int, input().split()))    #5n (n input read, n mappings to int, n iterable to list, n comparisons, n splits through input)\n",
        "    ins += 5 * n\n",
        "    l.sort()                               #nlogn at least\n",
        "    ins += n * math.log2(n)\n",
        "    print(l[-1] * l[-2])             #2\n",
        "    ins += 2\n",
        "    print(f\"Executed instructions: {int(ins)}\\n\")                             #3 + 5n + ins(nlogn timsort) where ins(nlogn sort) are, at least, nlogn."
      ],
      "metadata": {
        "id": "xFDQvHsDwPGL",
        "colab": {
          "base_uri": "https://localhost:8080/"
        },
        "outputId": "1c712da4-500b-48e0-a13e-28f4e495f51f"
      },
      "execution_count": null,
      "outputs": [
        {
          "output_type": "stream",
          "name": "stdout",
          "text": [
            "Overwriting max_pairwise_product_sort_ins.py\n"
          ]
        }
      ]
    },
    {
      "cell_type": "code",
      "source": [
        "!python max_pairwise_product_sort_ins.py < input1.txt\n",
        "!python max_pairwise_product_sort_ins.py < input2.txt\n",
        "!python max_pairwise_product_sort_ins.py < input3.txt"
      ],
      "metadata": {
        "id": "T7zTUq_tywBk",
        "colab": {
          "base_uri": "https://localhost:8080/"
        },
        "outputId": "18771ccb-5af7-442d-bfd5-7c679467e7bb"
      },
      "execution_count": null,
      "outputs": [
        {
          "output_type": "stream",
          "name": "stdout",
          "text": [
            "90\n",
            "Executed instructions: 86\n",
            "\n",
            "90\n",
            "Executed instructions: 86\n",
            "\n",
            "40000000000\n",
            "Executed instructions: 48\n",
            "\n"
          ]
        }
      ]
    },
    {
      "cell_type": "code",
      "source": [
        "%%time\n",
        "!python max_pairwise_product_sort_ins.py < input11.txt"
      ],
      "metadata": {
        "id": "tDDZwGhxSBLY",
        "colab": {
          "base_uri": "https://localhost:8080/"
        },
        "outputId": "fcefc45b-87bf-403e-bb1e-e7f2d72d9ef2"
      },
      "execution_count": null,
      "outputs": [
        {
          "output_type": "stream",
          "name": "stdout",
          "text": [
            "39999800000\n",
            "Executed instructions: 4521931\n",
            "\n",
            "CPU times: user 6.39 ms, sys: 0 ns, total: 6.39 ms\n",
            "Wall time: 110 ms\n"
          ]
        }
      ]
    },
    {
      "cell_type": "markdown",
      "metadata": {
        "id": "x2CXhkwTOb_l"
      },
      "source": [
        "Calculate estimated time by instruction and number of instructions by second"
      ]
    },
    {
      "cell_type": "code",
      "execution_count": null,
      "metadata": {
        "id": "nTjxyTMtOb_l",
        "colab": {
          "base_uri": "https://localhost:8080/"
        },
        "outputId": "a02c685f-1a92-4a78-d144-94cd3a2c0970"
      },
      "outputs": [
        {
          "output_type": "stream",
          "name": "stdout",
          "text": [
            "1.9903001615902584e-09\n",
            "502436777.77777785\n"
          ]
        }
      ],
      "source": [
        "#following result of input3.txt. #lower bound. Needs to know the exact number of instructions in each sorting algorithm. Just counts the ones in the nlogn step.\n",
        "#Estimaded time by instruction and number of instructions\n",
        "estimated_time = 0.009 / 4521931\n",
        "number_of_ins_per_second = 1 / estimated_time\n",
        "print(estimated_time)\n",
        "print(number_of_ins_per_second)"
      ]
    },
    {
      "cell_type": "markdown",
      "source": [
        "###Estimated maximum that can be solved in 1 second\n",
        "$$(5 + 4n + 5nlog(n))*1.47*10^{-9} = 1s \\ \\ \\ given \\ that \\ nlogn \\ at \\ least$$\n",
        "$$ n \\approx 8'000.000 $$"
      ],
      "metadata": {
        "id": "iZVBA2CRrbId"
      }
    },
    {
      "cell_type": "code",
      "source": [
        "# Verify input13.txt\n",
        "%%writefile WriteTest.cpp\n",
        "#include <iostream>\n",
        "#include <fstream>\n",
        "#include <cstdlib>\n",
        "\n",
        "using namespace std;\n",
        "\n",
        "int main() {\n",
        "  // Create and open a text file\n",
        "  ofstream MyFile(\"input13.txt\");\n",
        "\n",
        " MyFile << 8000000 <<\"\\n\";  // n\n",
        " for (int i=1; i <8000001; i++){\n",
        "     MyFile << i <<\" \";\n",
        " }\n",
        "\n",
        "  // Close the file\n",
        "  MyFile.close();\n",
        "}"
      ],
      "metadata": {
        "id": "_ANyZVzkszDV",
        "colab": {
          "base_uri": "https://localhost:8080/"
        },
        "outputId": "2f90039e-6d1f-46e8-c912-946b7718d386"
      },
      "execution_count": null,
      "outputs": [
        {
          "output_type": "stream",
          "name": "stdout",
          "text": [
            "Overwriting WriteTest.cpp\n"
          ]
        }
      ]
    },
    {
      "cell_type": "code",
      "source": [
        "!g++ WriteTest.cpp -o WriteTest"
      ],
      "metadata": {
        "id": "MOvMM9cos0Cq"
      },
      "execution_count": null,
      "outputs": []
    },
    {
      "cell_type": "code",
      "source": [
        "!g++ max_pairwise_product_sort.cpp -o max_pairwise_product_sort\n",
        "!time ./max_pairwise_product_sort < input13.txt"
      ],
      "metadata": {
        "id": "UVPO7cKFs-vK",
        "colab": {
          "base_uri": "https://localhost:8080/"
        },
        "outputId": "bace7d58-60df-4039-deb1-114fbd1ee85e"
      },
      "execution_count": null,
      "outputs": [
        {
          "output_type": "stream",
          "name": "stdout",
          "text": [
            "268943600\n",
            "\n",
            "real\t0m0.011s\n",
            "user\t0m0.010s\n",
            "sys\t0m0.001s\n"
          ]
        }
      ]
    },
    {
      "cell_type": "code",
      "source": [
        "%%writefile WriteTestPython.py\n",
        "#Python3\n",
        "if __name__ == \"__main__\":\n",
        "    with open(\"input16.txt\", \"w\") as f:\n",
        "        f.write(\"8000000\\n\")\n",
        "        for i in range(1, 8000001):\n",
        "            f.write(f\"{i} \")"
      ],
      "metadata": {
        "id": "0Op_ffhItKtb",
        "colab": {
          "base_uri": "https://localhost:8080/"
        },
        "outputId": "0a32a076-4161-474a-9988-ee239ead1625"
      },
      "execution_count": null,
      "outputs": [
        {
          "output_type": "stream",
          "name": "stdout",
          "text": [
            "Overwriting WriteTestPython.py\n"
          ]
        }
      ]
    },
    {
      "cell_type": "code",
      "source": [
        "!python WriteTestPython.py"
      ],
      "metadata": {
        "id": "DwH9zoPutLEa"
      },
      "execution_count": null,
      "outputs": []
    },
    {
      "cell_type": "code",
      "source": [
        "#Finally..\n",
        "%%time\n",
        "!python max_pairwise_product_sort.py < input13.txt"
      ],
      "metadata": {
        "id": "ZnbJoOtrtUn5",
        "colab": {
          "base_uri": "https://localhost:8080/"
        },
        "outputId": "b57ce195-6f5d-41ce-9635-ff1ed63c79ac"
      },
      "execution_count": null,
      "outputs": [
        {
          "output_type": "stream",
          "name": "stdout",
          "text": [
            "268943600\n",
            "CPU times: user 3.09 ms, sys: 2.01 ms, total: 5.1 ms\n",
            "Wall time: 105 ms\n"
          ]
        }
      ]
    },
    {
      "cell_type": "markdown",
      "source": [
        "###Correctness Tests"
      ],
      "metadata": {
        "id": "HqYGh5YnuJFD"
      }
    },
    {
      "cell_type": "code",
      "source": [
        "%%writefile stress_test.sh\n",
        "#!/bin/bash\n",
        "g++ max_pairwise_product_sort.cpp -o max_pairwise_product_long\n",
        "\n",
        "for i in {0..10}\n",
        "do\n",
        "    ./max_pairwise_product_sort < input$i.txt > ctest$i.txt\n",
        "    grep -xvFf output$i.txt ctest$i.txt\n",
        "done"
      ],
      "metadata": {
        "id": "Dry5_nlFuMQv",
        "colab": {
          "base_uri": "https://localhost:8080/"
        },
        "outputId": "368e4a2d-5e66-4dda-9bfa-839e20f25acf"
      },
      "execution_count": null,
      "outputs": [
        {
          "output_type": "stream",
          "name": "stdout",
          "text": [
            "Overwriting stress_test.sh\n"
          ]
        }
      ]
    },
    {
      "cell_type": "code",
      "source": [
        "!./stress_test.sh"
      ],
      "metadata": {
        "id": "0QKZIQiTuTr1"
      },
      "execution_count": null,
      "outputs": []
    },
    {
      "cell_type": "code",
      "source": [
        "%%writefile stress_test.sh\n",
        "#!/bin/bash\n",
        "\n",
        "for i in {0..10}\n",
        "do\n",
        "    python3 max_pairwise_product_sort.py < input$i.txt > ptest$i.txt\n",
        "    grep -xvFf output$i.txt ctest$i.txt\n",
        "done"
      ],
      "metadata": {
        "id": "rdD08n9_uUAm",
        "colab": {
          "base_uri": "https://localhost:8080/"
        },
        "outputId": "8a4cbf9a-d778-4b09-8ea7-ed27910f4c39"
      },
      "execution_count": null,
      "outputs": [
        {
          "output_type": "stream",
          "name": "stdout",
          "text": [
            "Overwriting stress_test.sh\n"
          ]
        }
      ]
    },
    {
      "cell_type": "code",
      "source": [
        "!./stress_test.sh"
      ],
      "metadata": {
        "id": "FjNADxiFuURV"
      },
      "execution_count": null,
      "outputs": []
    },
    {
      "cell_type": "markdown",
      "metadata": {
        "id": "VMKC5duEOQfk"
      },
      "source": [
        "### Efficient solution largest and second-largest in an list, array or vector in C++ and Python\n",
        " $$2.5 n = O(n)$$\n",
        "\n",
        "\n",
        "\n"
      ]
    },
    {
      "cell_type": "markdown",
      "metadata": {
        "id": "nLcKBwbU0QsE"
      },
      "source": [
        "Add in each line a coment with the number of intstrcution that are executed in that line"
      ]
    },
    {
      "cell_type": "code",
      "execution_count": null,
      "metadata": {
        "id": "knls5Fh3NSt_",
        "colab": {
          "base_uri": "https://localhost:8080/"
        },
        "outputId": "bcd0e5bd-d9b5-4025-ffd2-5cc2b91f326f"
      },
      "outputs": [
        {
          "output_type": "stream",
          "name": "stdout",
          "text": [
            "Writing max_pairwise_product_ef.cpp\n"
          ]
        }
      ],
      "source": [
        "%%writefile max_pairwise_product_ef.cpp\n",
        "#include <iostream>\n",
        "#include <vector>\n",
        "#include <algorithm>\n",
        "\n",
        "long long max_pairwise_product_f(std::vector<int>& v){\n",
        "    int n = v.size();                        //1\n",
        "    long long p_max = 0;                     //1\n",
        "    long long s_max = 0;                     //1\n",
        "    for(int i = 0; i < n; ++i) {             //1 + 2n\n",
        "        if (v[i] > s_max){                    //n\n",
        "            s_max = v[i];                    //[0, n]\n",
        "        }\n",
        "        if (v[i] > p_max){                   //n\n",
        "            s_max = p_max;                   //[0, n]\n",
        "            p_max = v[i];                    //[0, n]\n",
        "        }\n",
        "    }\n",
        "    return (long long) p_max * s_max;       //2 -> 9 + 4n + 3[0, n]           //[0, n] means that, in the worst case, executes n times.\n",
        "}\n",
        "\n",
        "int main(int argc, char* argv[]){\n",
        "    int n;                                  //1\n",
        "    std::cin >> n;                          //1\n",
        "    std::vector<int> v(n);                  //n\n",
        "    for(int i = 0; i < n; i++){             //1 + 2n\n",
        "        std::cin >> v[i];                   //n\n",
        "    }\n",
        "    std::cout << max_pairwise_product_f(v) << '\\n'; //1 -> 4 + 4n\n",
        "    return 0;\n",
        "}"
      ]
    },
    {
      "cell_type": "code",
      "source": [
        "%%writefile max_pairwise_product_ef.py\n",
        "#Python3\n",
        "def max_pairwise_product_f(l):\n",
        "    p_max = 0\n",
        "    s_max = 0\n",
        "    for i in l:\n",
        "        if i > s_max:\n",
        "            s_max = i\n",
        "        if i > p_max:\n",
        "            s_max = p_max\n",
        "            p_max = i\n",
        "\n",
        "    return p_max * s_max\n",
        "\n",
        "if __name__ == \"__main__\":\n",
        "    n = int(input())\n",
        "    l = list(map(int, input().split()))\n",
        "    print(max_pairwise_product_f(l))"
      ],
      "metadata": {
        "id": "dWuqFv4zwL4t",
        "colab": {
          "base_uri": "https://localhost:8080/"
        },
        "outputId": "5768b536-1515-4b3a-f88b-81875695d6e1"
      },
      "execution_count": null,
      "outputs": [
        {
          "output_type": "stream",
          "name": "stdout",
          "text": [
            "Writing max_pairwise_product_ef.py\n"
          ]
        }
      ]
    },
    {
      "cell_type": "markdown",
      "metadata": {
        "id": "-JCijbWxNSii"
      },
      "source": [
        "Test with inputs 1 and 2\n",
        "\n"
      ]
    },
    {
      "cell_type": "code",
      "execution_count": null,
      "metadata": {
        "id": "TrTGAfqlNVXT",
        "colab": {
          "base_uri": "https://localhost:8080/"
        },
        "outputId": "41191823-fad4-404b-abde-c8336056ebce"
      },
      "outputs": [
        {
          "output_type": "stream",
          "name": "stdout",
          "text": [
            "90\n",
            "90\n"
          ]
        }
      ],
      "source": [
        "!g++ max_pairwise_product_ef.cpp -o max_pairwise_product_ef\n",
        "!./max_pairwise_product_ef < input1.txt\n",
        "!./max_pairwise_product_ef < input2.txt"
      ]
    },
    {
      "cell_type": "code",
      "source": [
        "!python max_pairwise_product_ef.py < input1.txt\n",
        "!python max_pairwise_product_ef.py < input2.txt"
      ],
      "metadata": {
        "id": "0gyQXAbHwWfU",
        "colab": {
          "base_uri": "https://localhost:8080/"
        },
        "outputId": "9d15a398-02e4-47b9-dead-ee31d4a13e61"
      },
      "execution_count": null,
      "outputs": [
        {
          "output_type": "stream",
          "name": "stdout",
          "text": [
            "90\n",
            "90\n"
          ]
        }
      ]
    },
    {
      "cell_type": "markdown",
      "metadata": {
        "id": "PRX51wADNR8b"
      },
      "source": [
        "Test and time it with input 3"
      ]
    },
    {
      "cell_type": "code",
      "execution_count": null,
      "metadata": {
        "id": "v4z7-Is_NRt7",
        "colab": {
          "base_uri": "https://localhost:8080/"
        },
        "outputId": "b0ac69f0-70cb-4d77-f645-e320c88b8c49"
      },
      "outputs": [
        {
          "output_type": "stream",
          "name": "stdout",
          "text": [
            "40000000000\n",
            "\n",
            "real\t0m0.003s\n",
            "user\t0m0.003s\n",
            "sys\t0m0.000s\n"
          ]
        }
      ],
      "source": [
        "!g++ max_pairwise_product_ef.cpp -o max_pairwise_product_ef\n",
        "!time ./max_pairwise_product_ef < input3.txt"
      ]
    },
    {
      "cell_type": "code",
      "source": [
        "!g++ max_pairwise_product_ef.cpp -o max_pairwise_product_ef\n",
        "!time ./max_pairwise_product_ef < input11.txt"
      ],
      "metadata": {
        "id": "gjXEfBrpniok",
        "colab": {
          "base_uri": "https://localhost:8080/"
        },
        "outputId": "9a1de3ae-e2ab-4bb0-a9b1-17ce0ae5a19a"
      },
      "execution_count": null,
      "outputs": [
        {
          "output_type": "stream",
          "name": "stdout",
          "text": [
            "39999800000\n",
            "\n",
            "real\t0m0.067s\n",
            "user\t0m0.063s\n",
            "sys\t0m0.003s\n"
          ]
        }
      ]
    },
    {
      "cell_type": "code",
      "source": [
        "%%time\n",
        "!python max_pairwise_product_ef.py < input3.txt"
      ],
      "metadata": {
        "id": "17wK0qEawmHj",
        "colab": {
          "base_uri": "https://localhost:8080/"
        },
        "outputId": "3cd85ec5-e585-46e6-9319-beb303316798"
      },
      "execution_count": null,
      "outputs": [
        {
          "output_type": "stream",
          "name": "stdout",
          "text": [
            "40000000000\n",
            "CPU times: user 5.55 ms, sys: 0 ns, total: 5.55 ms\n",
            "Wall time: 111 ms\n"
          ]
        }
      ]
    },
    {
      "cell_type": "code",
      "source": [
        "%%time\n",
        "!python max_pairwise_product_ef.py < input11.txt"
      ],
      "metadata": {
        "id": "b4OVDDXBwr97",
        "colab": {
          "base_uri": "https://localhost:8080/"
        },
        "outputId": "2eee2054-ccd9-4b25-c06c-02f01d2b5c66"
      },
      "execution_count": null,
      "outputs": [
        {
          "output_type": "stream",
          "name": "stdout",
          "text": [
            "39999800000\n",
            "CPU times: user 5.81 ms, sys: 45 µs, total: 5.85 ms\n",
            "Wall time: 204 ms\n"
          ]
        }
      ]
    },
    {
      "cell_type": "markdown",
      "metadata": {
        "id": "rpdfs0_TNZJf"
      },
      "source": [
        "20 stress tests"
      ]
    },
    {
      "cell_type": "code",
      "execution_count": null,
      "metadata": {
        "id": "Lu4tYcKzNcTT",
        "colab": {
          "base_uri": "https://localhost:8080/"
        },
        "outputId": "5cecc2ae-a5fb-4f25-e216-8b25d37f9604"
      },
      "outputs": [
        {
          "output_type": "stream",
          "name": "stdout",
          "text": [
            "Writing stress_tests_ef_cpp.cpp\n"
          ]
        }
      ],
      "source": [
        "%%writefile stress_tests_ef_cpp.cpp\n",
        "#include <iostream>\n",
        "#include <vector>\n",
        "#include <algorithm>\n",
        "\n",
        "long long ins = 0;\n",
        "\n",
        "long long max_pairwise_product_f(std::vector<int>& v){\n",
        "    int n = v.size();\n",
        "    ins++;\n",
        "    long long p_max = 0;\n",
        "    ins++;\n",
        "    long long s_max = 0;\n",
        "    ins++;\n",
        "    ins++;\n",
        "    for(int i = 0; i < n; ++i) {\n",
        "        ins += 2;\n",
        "        ins++;\n",
        "        if (v[i] > s_max){\n",
        "            s_max = v[i];\n",
        "            ins++;\n",
        "        }\n",
        "        ins++;\n",
        "        if (v[i] > p_max){\n",
        "            s_max = p_max;\n",
        "            ins++;\n",
        "            p_max = v[i];\n",
        "            ins++;\n",
        "        }\n",
        "    }\n",
        "\n",
        "    return (long long) p_max * s_max;\n",
        "}\n",
        "\n",
        "int main(int argc, char* argv[]){\n",
        "    for(int i = 0; i < 20; i++){\n",
        "        int n = rand() % 69 + 2;\n",
        "        std::vector<int> v(n);\n",
        "        for(int i = 0; i < n; i++){\n",
        "            v[i] = rand() % 1000 + 2;\n",
        "        }\n",
        "        std::cout << \"n: \" << n << \" Product: \" << max_pairwise_product_f(v) << '\\n';\n",
        "    }\n",
        "    return 0;\n",
        "}"
      ]
    },
    {
      "cell_type": "code",
      "source": [
        "%%writefile stress_tests_ef_py.py\n",
        "#Python3\n",
        "import random\n",
        "def max_pairwise_product_f(l):\n",
        "    p_max = 0\n",
        "    s_max = 0\n",
        "    for i in l:\n",
        "        if i > s_max:\n",
        "            s_max = i\n",
        "        if i > p_max:\n",
        "            s_max = p_max\n",
        "            p_max = i\n",
        "\n",
        "    return p_max * s_max\n",
        "\n",
        "if __name__ == \"__main__\":\n",
        "    for i in range(20):\n",
        "        n = random.randint(2, 99)\n",
        "        l = [random.randint(17, 24531) for i in range(n)]\n",
        "        print(f\"n: {n} Product: {max_pairwise_product_f(l)}\")"
      ],
      "metadata": {
        "id": "IO6NtSvKw0xa",
        "colab": {
          "base_uri": "https://localhost:8080/"
        },
        "outputId": "2c5aedaa-abbf-4ae6-badf-95d1f37ebf18"
      },
      "execution_count": null,
      "outputs": [
        {
          "output_type": "stream",
          "name": "stdout",
          "text": [
            "Writing stress_tests_ef_py.py\n"
          ]
        }
      ]
    },
    {
      "cell_type": "code",
      "source": [
        "!g++ stress_tests_ef_cpp.cpp -o stress_tests_ef_cpp\n",
        "!./stress_tests_ef_cpp"
      ],
      "metadata": {
        "id": "xURZHzxiUbl_",
        "colab": {
          "base_uri": "https://localhost:8080/"
        },
        "outputId": "341b3cbd-19a6-4a6a-9a32-4119b96632bf"
      },
      "execution_count": null,
      "outputs": [
        {
          "output_type": "stream",
          "name": "stdout",
          "text": [
            "n: 36 Product: 863968\n",
            "n: 57 Product: 980036\n",
            "n: 60 Product: 898343\n",
            "n: 31 Product: 927682\n",
            "n: 13 Product: 762600\n",
            "n: 51 Product: 954088\n",
            "n: 12 Product: 683388\n",
            "n: 26 Product: 981034\n",
            "n: 70 Product: 960364\n",
            "n: 14 Product: 858552\n",
            "n: 61 Product: 993010\n",
            "n: 52 Product: 963270\n",
            "n: 10 Product: 631764\n",
            "n: 32 Product: 994008\n",
            "n: 21 Product: 960319\n",
            "n: 24 Product: 828625\n",
            "n: 2 Product: 74562\n",
            "n: 54 Product: 904397\n",
            "n: 8 Product: 886974\n",
            "n: 23 Product: 911064\n"
          ]
        }
      ]
    },
    {
      "cell_type": "code",
      "source": [
        "!python stress_tests_ef_py.py"
      ],
      "metadata": {
        "id": "z75Tz0Blxkfg",
        "colab": {
          "base_uri": "https://localhost:8080/"
        },
        "outputId": "f7638c5f-edea-4eef-e64d-ce0a5d344b62"
      },
      "execution_count": null,
      "outputs": [
        {
          "output_type": "stream",
          "name": "stdout",
          "text": [
            "n: 90 Product: 585448560\n",
            "n: 13 Product: 552092880\n",
            "n: 71 Product: 573434442\n",
            "n: 6 Product: 391043435\n",
            "n: 58 Product: 590690898\n",
            "n: 48 Product: 546350748\n",
            "n: 14 Product: 566225610\n",
            "n: 29 Product: 540369779\n",
            "n: 77 Product: 591778140\n",
            "n: 20 Product: 530476040\n",
            "n: 37 Product: 524940160\n",
            "n: 45 Product: 536931315\n",
            "n: 8 Product: 417076998\n",
            "n: 6 Product: 475998432\n",
            "n: 52 Product: 582361152\n",
            "n: 26 Product: 489188698\n",
            "n: 93 Product: 599269031\n",
            "n: 20 Product: 465024597\n",
            "n: 42 Product: 571016712\n",
            "n: 55 Product: 600028590\n"
          ]
        }
      ]
    },
    {
      "cell_type": "markdown",
      "metadata": {
        "id": "L8U4151JNbxk"
      },
      "source": [
        "Count executed instructions in code and verify with inputs 1,2 and 3\n"
      ]
    },
    {
      "cell_type": "code",
      "execution_count": null,
      "metadata": {
        "id": "dh85RM8vNhFz",
        "colab": {
          "base_uri": "https://localhost:8080/"
        },
        "outputId": "011e6b92-b4e9-4bb0-d929-4ed604b07a7b"
      },
      "outputs": [
        {
          "output_type": "stream",
          "name": "stdout",
          "text": [
            "Writing max_pairwise_product_ef_ins.cpp\n"
          ]
        }
      ],
      "source": [
        "%%writefile max_pairwise_product_ef_ins.cpp\n",
        "#include <iostream>\n",
        "#include <vector>\n",
        "#include <algorithm>\n",
        "\n",
        "long long ins = 0;\n",
        "\n",
        "long long max_pairwise_product_f(std::vector<int>& v){\n",
        "    int n = v.size();                        //1\n",
        "    ins++;\n",
        "    long long p_max = 0;                     //1\n",
        "    ins++;\n",
        "    long long s_max = 0;                     //1\n",
        "    ins++;\n",
        "    ins++;\n",
        "    for(int i = 0; i < n; ++i) {             //1 + 2n\n",
        "        ins += 2;\n",
        "        ins++;\n",
        "        if (v[i] > s_max){                    //n\n",
        "            s_max = v[i];                     //[0, n]\n",
        "            ins++;\n",
        "        }\n",
        "        ins++;\n",
        "        if (v[i] > p_max){                   //n\n",
        "            s_max = p_max;                   //[0, n]\n",
        "            ins++;\n",
        "            p_max = v[i];                    //[0, n]\n",
        "            ins++;\n",
        "        }\n",
        "    }\n",
        "    ins += 2;\n",
        "    return (long long) p_max * s_max;       //2 -> 6 + 4n + 3[0, n]          //[0, n] means that, in the worst case, executes n times.\n",
        "}\n",
        "\n",
        "int main(int argc, char* argv[]){\n",
        "    int n;                                  //1\n",
        "    ins++;\n",
        "    std::cin >> n;                          //1\n",
        "    ins++;\n",
        "    std::vector<int> v(n);                  //n\n",
        "    ins += n;\n",
        "    ins++;\n",
        "    for(int i = 0; i < n; i++){             //1 + 2n\n",
        "        ins += 2;\n",
        "        std::cin >> v[i];                   //n\n",
        "        ins++;\n",
        "    }\n",
        "\n",
        "    std::cout << max_pairwise_product_f(v) << '\\n'; //1 -> 4 + 4n + 6 + 4n + 3[0, n] -> 10 +8n + 3[0, n] -> 10 + 11n worst case.\n",
        "    std::cout << \"Executed instructions: \" << ins << '\\n';\n",
        "    return 0;\n",
        "}"
      ]
    },
    {
      "cell_type": "code",
      "source": [
        "%%writefile max_pairwise_product_ef_ins_py.py\n",
        "#Python3\n",
        "ins = 0\n",
        "def max_pairwise_product_f(l):\n",
        "    global ins\n",
        "    p_max = 0                               #1\n",
        "    ins += 1\n",
        "    s_max = 0                               #1\n",
        "    ins += 1\n",
        "    ins += 1\n",
        "    for i in l:                             #1 + 2n\n",
        "        ins += 2\n",
        "        if i > s_max:                       #n\n",
        "            s_max = i                       #[0, n]           #[0, n] means that, in the worst case, executes n times\n",
        "            ins += 1\n",
        "        if i > p_max:                       #n\n",
        "            s_max = p_max                   #[0, n]\n",
        "            ins += 1\n",
        "            p_max = i                       #[0, n]\n",
        "            ins += 1\n",
        "\n",
        "    ins += 2\n",
        "    return p_max * s_max                    #2       #5 + 4n + 3[0, n] -> 5 + 7n worst\n",
        "\n",
        "if __name__ == \"__main__\":\n",
        "        n = int(input())                                 #1\n",
        "        ins += 1\n",
        "        l = list(map(int, input().split()))              #5n\n",
        "        ins += 5 * n\n",
        "        ins += 1\n",
        "        print(max_pairwise_product_f(l))                 #1\n",
        "        print(f\"Executed instructions: {ins}\")           #-> 2 + 5n + 5 + 7n -> 7 + 12n"
      ],
      "metadata": {
        "id": "g-onFCxpzGFB",
        "colab": {
          "base_uri": "https://localhost:8080/"
        },
        "outputId": "8a48dfbb-2f30-4f47-d36c-dde503f2d53f"
      },
      "execution_count": null,
      "outputs": [
        {
          "output_type": "stream",
          "name": "stdout",
          "text": [
            "Writing max_pairwise_product_ef_ins_py.py\n"
          ]
        }
      ]
    },
    {
      "cell_type": "code",
      "source": [
        "!g++ max_pairwise_product_ef_ins.cpp -o max_pairwise_product_ef_ins\n",
        "!./max_pairwise_product_ef_ins < input1.txt\n",
        "!./max_pairwise_product_ef_ins < input2.txt\n",
        "!./max_pairwise_product_ef_ins < input3.txt"
      ],
      "metadata": {
        "id": "ozNZsP8QNriY",
        "colab": {
          "base_uri": "https://localhost:8080/"
        },
        "outputId": "65974733-74d4-4772-dddb-3c94b769f6a2"
      },
      "execution_count": null,
      "outputs": [
        {
          "output_type": "stream",
          "name": "stdout",
          "text": [
            "90\n",
            "Executed instructions: 119\n",
            "90\n",
            "Executed instructions: 93\n",
            "40000000000\n",
            "Executed instructions: 68\n"
          ]
        }
      ]
    },
    {
      "cell_type": "code",
      "source": [
        "!time ./max_pairwise_product_ef_ins < input11.txt"
      ],
      "metadata": {
        "id": "Bt8EmEvERn8r",
        "colab": {
          "base_uri": "https://localhost:8080/"
        },
        "outputId": "866ca750-0d59-41e7-c7ca-8ec250766e71"
      },
      "execution_count": null,
      "outputs": [
        {
          "output_type": "stream",
          "name": "stdout",
          "text": [
            "39999800000\n",
            "Executed instructions: 2200009\n",
            "\n",
            "real\t0m0.077s\n",
            "user\t0m0.069s\n",
            "sys\t0m0.002s\n"
          ]
        }
      ]
    },
    {
      "cell_type": "code",
      "source": [
        "!python max_pairwise_product_ef_ins_py.py < input1.txt\n",
        "!python max_pairwise_product_ef_ins_py.py < input2.txt"
      ],
      "metadata": {
        "id": "Qe8pVVz60IL0",
        "colab": {
          "base_uri": "https://localhost:8080/"
        },
        "outputId": "0a22577d-1be3-412c-b715-c167cf0d77f6"
      },
      "execution_count": null,
      "outputs": [
        {
          "output_type": "stream",
          "name": "stdout",
          "text": [
            "90\n",
            "Executed instructions: 107\n",
            "90\n",
            "Executed instructions: 81\n"
          ]
        }
      ]
    },
    {
      "cell_type": "code",
      "source": [
        "%%time\n",
        "!python max_pairwise_product_ef_ins_py.py < input3.txt"
      ],
      "metadata": {
        "id": "i8vflVin0eZt",
        "colab": {
          "base_uri": "https://localhost:8080/"
        },
        "outputId": "2bed753a-28ec-43d8-e3dd-5f583027bc33"
      },
      "execution_count": null,
      "outputs": [
        {
          "output_type": "stream",
          "name": "stdout",
          "text": [
            "40000000000\n",
            "Executed instructions: 60\n",
            "CPU times: user 6.16 ms, sys: 875 µs, total: 7.04 ms\n",
            "Wall time: 106 ms\n"
          ]
        }
      ]
    },
    {
      "cell_type": "code",
      "source": [
        "%%time\n",
        "!python max_pairwise_product_ef_ins_py.py < input11.txt"
      ],
      "metadata": {
        "id": "dzF0FUhK0jXk",
        "colab": {
          "base_uri": "https://localhost:8080/"
        },
        "outputId": "caf464aa-c0d1-4611-fbc8-532d0ca5413f"
      },
      "execution_count": null,
      "outputs": [
        {
          "output_type": "stream",
          "name": "stdout",
          "text": [
            "39999800000\n",
            "Executed instructions: 2000007\n",
            "CPU times: user 5.51 ms, sys: 0 ns, total: 5.51 ms\n",
            "Wall time: 204 ms\n"
          ]
        }
      ]
    },
    {
      "cell_type": "markdown",
      "metadata": {
        "id": "K6ybgCmpNygr"
      },
      "source": [
        "Calculate estimated time by instruction and number of instructions by second"
      ]
    },
    {
      "cell_type": "code",
      "execution_count": null,
      "metadata": {
        "id": "kwe3G1O3Nz1w",
        "colab": {
          "base_uri": "https://localhost:8080/"
        },
        "outputId": "cbc6961a-d6e5-4e55-c473-b836afc44593"
      },
      "outputs": [
        {
          "output_type": "stream",
          "name": "stdout",
          "text": [
            "2.727261570293576e-09\n",
            "366668166.6666667\n"
          ]
        }
      ],
      "source": [
        "estimated_time = 0.006/ 2200009\n",
        "number_of_ins_per_second = 1 / estimated_time\n",
        "print(estimated_time)\n",
        "print(number_of_ins_per_second)"
      ]
    },
    {
      "cell_type": "markdown",
      "source": [
        "###Correctness Tests"
      ],
      "metadata": {
        "id": "uKzayvzd3oXr"
      }
    },
    {
      "cell_type": "code",
      "source": [
        "%%writefile stress_test.sh\n",
        "#!/bin/bash\n",
        "g++ max_pairwise_product_ef.cpp -o max_pairwise_product_ef_cpp\n",
        "\n",
        "for i in {0..10}\n",
        "do\n",
        "    ./max_pairwise_product_ef_cpp < input$i.txt > ctest$i.txt\n",
        "    grep -xvFf output$i.txt ctest$i.txt\n",
        "done"
      ],
      "metadata": {
        "id": "9tO11BNw3n_X",
        "colab": {
          "base_uri": "https://localhost:8080/"
        },
        "outputId": "d7c99f98-0a59-4806-d69d-3976c57dc02e"
      },
      "execution_count": null,
      "outputs": [
        {
          "output_type": "stream",
          "name": "stdout",
          "text": [
            "Overwriting stress_test.sh\n"
          ]
        }
      ]
    },
    {
      "cell_type": "code",
      "source": [
        "!./stress_test.sh"
      ],
      "metadata": {
        "id": "U0WYM__47QFm"
      },
      "execution_count": null,
      "outputs": []
    },
    {
      "cell_type": "code",
      "source": [
        "%%writefile stress_test.sh\n",
        "#!/bin/bash\n",
        "\n",
        "for i in {0..10}\n",
        "do\n",
        "    python3 max_pairwise_product_ef.py < input$i.txt > ptest$i.txt\n",
        "    grep -xvFf output$i.txt ptest$i.txt\n",
        "done"
      ],
      "metadata": {
        "id": "Sg-kN7wF7fXt",
        "colab": {
          "base_uri": "https://localhost:8080/"
        },
        "outputId": "9586ade2-751a-4f0c-999f-986f8257b18e"
      },
      "execution_count": null,
      "outputs": [
        {
          "output_type": "stream",
          "name": "stdout",
          "text": [
            "Overwriting stress_test.sh\n"
          ]
        }
      ]
    },
    {
      "cell_type": "code",
      "source": [
        "!./stress_test.sh"
      ],
      "metadata": {
        "id": "AnTxWWxH72bR"
      },
      "execution_count": null,
      "outputs": []
    },
    {
      "cell_type": "markdown",
      "source": [
        "###Estimated maximum that can be solved in 1 second\n",
        "$$(10 + 11n)*1.47*10^{-9} = 1s$$\n",
        "$$ n \\approx 60'000.000 $$"
      ],
      "metadata": {
        "id": "Guchsf95vyjc"
      }
    },
    {
      "cell_type": "code",
      "source": [
        "%%writefile WriteTest.cpp\n",
        "\n",
        "#include <iostream>\n",
        "#include <fstream>\n",
        "#include <cstdlib>\n",
        "\n",
        "using namespace std;\n",
        "\n",
        "int main() {\n",
        "  // Create and open a text file\n",
        "  ofstream MyFile(\"input15.txt\");\n",
        "\n",
        " MyFile << 60000000 <<\"\\n\";  // n\n",
        " for (int i=1; i <60000001; i++){\n",
        "     MyFile << i <<\" \";\n",
        " }\n",
        "\n",
        "  // Close the file\n",
        "  MyFile.close();\n",
        "}"
      ],
      "metadata": {
        "id": "E_zzE8QcwPO6",
        "colab": {
          "base_uri": "https://localhost:8080/"
        },
        "outputId": "a8852eee-234b-42af-b7e9-9574ecdc7d5a"
      },
      "execution_count": null,
      "outputs": [
        {
          "output_type": "stream",
          "name": "stdout",
          "text": [
            "Overwriting WriteTest.cpp\n"
          ]
        }
      ]
    },
    {
      "cell_type": "code",
      "source": [
        "!g++ WriteTest.cpp -o WriteTest\n",
        "!./WriteTest"
      ],
      "metadata": {
        "id": "n_RkSbUgwZVj"
      },
      "execution_count": null,
      "outputs": []
    },
    {
      "cell_type": "code",
      "source": [
        "!g++ max_pairwise_product_ef.cpp -o max_pairwise_product_ef_cpp"
      ],
      "metadata": {
        "id": "SNexsL8CwaYR"
      },
      "execution_count": null,
      "outputs": []
    },
    {
      "cell_type": "code",
      "source": [
        "!time ./max_pairwise_product_ef_cpp < input15.txt #This gives the \"practical\" time instead of the theoretical one (1s). The \"real\" constants are way bigger."
      ],
      "metadata": {
        "id": "3QN3h6DFwa26",
        "colab": {
          "base_uri": "https://localhost:8080/"
        },
        "outputId": "1bd4689b-8a81-4ec6-b84f-f295191a8cc2"
      },
      "execution_count": null,
      "outputs": [
        {
          "output_type": "stream",
          "name": "stdout",
          "text": [
            "3599999940000000\n",
            "\n",
            "real\t0m26.354s\n",
            "user\t0m25.871s\n",
            "sys\t0m0.307s\n"
          ]
        }
      ]
    },
    {
      "cell_type": "code",
      "source": [
        "%%writefile WriteTestPython.py\n",
        "#Python3\n",
        "if __name__ == \"__main__\":\n",
        "    with open(\"input14.txt\", \"w\") as f:\n",
        "        f.write(\"60000000\\n\")\n",
        "        for i in range(1, 60000001):\n",
        "            f.write(f\"{i} \")"
      ],
      "metadata": {
        "id": "56dpX8cuwbGm",
        "colab": {
          "base_uri": "https://localhost:8080/"
        },
        "outputId": "9389a045-651d-40d8-e32d-cdeff73de67f"
      },
      "execution_count": null,
      "outputs": [
        {
          "output_type": "stream",
          "name": "stdout",
          "text": [
            "Overwriting WriteTestPython.py\n"
          ]
        }
      ]
    },
    {
      "cell_type": "code",
      "source": [
        "!python WriteTestPython.py"
      ],
      "metadata": {
        "id": "RgdDiKLewbeR"
      },
      "execution_count": null,
      "outputs": []
    },
    {
      "cell_type": "code",
      "source": [
        "%%time\n",
        "!python max_pairwise_product_ef.py < input14.txt #This gives the \"practical\" time instead of the theoretical one (1s). The \"real\" constants are way bigger."
      ],
      "metadata": {
        "id": "euQVUVqC1Cd-",
        "colab": {
          "base_uri": "https://localhost:8080/"
        },
        "outputId": "e9ba261b-bc0a-4f9c-b1fd-674f8567051f"
      },
      "execution_count": null,
      "outputs": [
        {
          "output_type": "stream",
          "name": "stdout",
          "text": [
            "3599999940000000\n",
            "CPU times: user 328 ms, sys: 35.7 ms, total: 364 ms\n",
            "Wall time: 39 s\n"
          ]
        }
      ]
    },
    {
      "cell_type": "markdown",
      "metadata": {
        "id": "sUpIWcykOGpT"
      },
      "source": [
        "### Super efficient solution\n",
        "\n",
        "Whitout storing the list in memory, only stpring the largest and second largest and whitout calling a function, add in each line a coment with the number of instructions that are executed in that line\n",
        "\n",
        "in C++ and Python\n",
        " $$2 n = O(n)$$"
      ]
    },
    {
      "cell_type": "code",
      "execution_count": null,
      "metadata": {
        "id": "hBLt_xBQLy8E",
        "colab": {
          "base_uri": "https://localhost:8080/"
        },
        "outputId": "66fc7216-3ea6-48f5-8e9a-7ef9359de552"
      },
      "outputs": [
        {
          "output_type": "stream",
          "name": "stdout",
          "text": [
            "Writing max_pairwise_product_gef_cpp.cpp\n"
          ]
        }
      ],
      "source": [
        "%%writefile max_pairwise_product_gef_cpp.cpp\n",
        "#include <iostream>\n",
        "#include <vector>\n",
        "#include <algorithm>\n",
        "#include <climits>\n",
        "\n",
        "int main(int argc, char* argv[]){\n",
        "    int n;\n",
        "    std::cin >> n;\n",
        "    int p_max = INT_MIN;\n",
        "    int s_max = INT_MIN;\n",
        "\n",
        "    for (int i = 0; i < n; i++){\n",
        "        int x;\n",
        "        std::cin >> x;\n",
        "        if(x > p_max){\n",
        "            s_max = p_max;\n",
        "            p_max = x;\n",
        "        }\n",
        "        else if(x > s_max){\n",
        "            s_max = x;\n",
        "        }\n",
        "    }\n",
        "\n",
        "    std::cout << (long long) p_max * s_max << \"\\n\";\n",
        "    return 0;\n",
        "}"
      ]
    },
    {
      "cell_type": "markdown",
      "metadata": {
        "id": "683gc3roHqzb"
      },
      "source": [
        "Test with inputs 1 and 2\n",
        "\n",
        "\n"
      ]
    },
    {
      "cell_type": "code",
      "execution_count": null,
      "metadata": {
        "id": "b7d4LA8OIc2_",
        "colab": {
          "base_uri": "https://localhost:8080/"
        },
        "outputId": "fabfc076-7873-4b19-8d7f-25039ba06004"
      },
      "outputs": [
        {
          "output_type": "stream",
          "name": "stdout",
          "text": [
            "90\n",
            "90\n"
          ]
        }
      ],
      "source": [
        "!g++ max_pairwise_product_gef_cpp.cpp -o max_pairwise_product_gef_cpp\n",
        "!./max_pairwise_product_gef_cpp < input1.txt\n",
        "!./max_pairwise_product_gef_cpp < input2.txt"
      ]
    },
    {
      "cell_type": "markdown",
      "metadata": {
        "id": "36Ugn1odIeJz"
      },
      "source": [
        "Test and time it with input 3"
      ]
    },
    {
      "cell_type": "code",
      "execution_count": null,
      "metadata": {
        "id": "jDyMbCnxHqSN",
        "colab": {
          "base_uri": "https://localhost:8080/"
        },
        "outputId": "2f8fe037-40b6-4876-d0c9-f57140eb53c2"
      },
      "outputs": [
        {
          "output_type": "stream",
          "name": "stdout",
          "text": [
            "40000000000\n",
            "\n",
            "real\t0m0.003s\n",
            "user\t0m0.001s\n",
            "sys\t0m0.002s\n"
          ]
        }
      ],
      "source": [
        "!g++ max_pairwise_product_gef_cpp.cpp -o max_pairwise_product_gef_cpp\n",
        "!time ./max_pairwise_product_gef_cpp < input3.txt"
      ]
    },
    {
      "cell_type": "code",
      "source": [
        "!time ./max_pairwise_product_gef_cpp < input11.txt"
      ],
      "metadata": {
        "id": "aCpKE1kUbxEj",
        "colab": {
          "base_uri": "https://localhost:8080/"
        },
        "outputId": "e39b0506-acde-44ca-d54f-d7d7ca31f03e"
      },
      "execution_count": null,
      "outputs": [
        {
          "output_type": "stream",
          "name": "stdout",
          "text": [
            "39999800000\n",
            "\n",
            "real\t0m0.133s\n",
            "user\t0m0.110s\n",
            "sys\t0m0.004s\n"
          ]
        }
      ]
    },
    {
      "cell_type": "markdown",
      "metadata": {
        "id": "bhqiKQG6fjKM"
      },
      "source": [
        "20 stress tests"
      ]
    },
    {
      "cell_type": "code",
      "execution_count": null,
      "metadata": {
        "id": "2KsiXKhALzwm",
        "colab": {
          "base_uri": "https://localhost:8080/"
        },
        "outputId": "0421c5e8-e436-430e-e7cc-fb8b5ea892ff"
      },
      "outputs": [
        {
          "output_type": "stream",
          "name": "stdout",
          "text": [
            "Writing stress_tests_gef_cpp.cpp\n"
          ]
        }
      ],
      "source": [
        "%%writefile stress_tests_gef_cpp.cpp\n",
        "#include <iostream>\n",
        "#include <vector>\n",
        "#include <algorithm>\n",
        "#include <climits>\n",
        "\n",
        "int main(int argc, char* argv[]){\n",
        "    for(int i = 0; i < 20; i++){\n",
        "        int n = rand() % 77 + 2;\n",
        "        int p_max = INT_MIN;\n",
        "        int s_max = INT_MIN;\n",
        "\n",
        "        for (int i = 0; i < n; i++){\n",
        "            int x = rand() % 1000 + 2;\n",
        "            if(x > p_max){\n",
        "                s_max = p_max;\n",
        "                p_max = x;\n",
        "            }\n",
        "            else if(x > s_max){\n",
        "                s_max = x;\n",
        "            }\n",
        "        }\n",
        "\n",
        "        std::cout << \"n: \" << n << \" Product: \" << (long long) p_max * s_max << \"\\n\";\n",
        "    }\n",
        "    return 0;\n",
        "}"
      ]
    },
    {
      "cell_type": "code",
      "source": [
        "!g++ stress_tests_gef_cpp.cpp -o stress_tests_gef_cpp\n",
        "!./stress_tests_gef_cpp"
      ],
      "metadata": {
        "id": "l4fgYJdNclLB",
        "colab": {
          "base_uri": "https://localhost:8080/"
        },
        "outputId": "3df9123e-09d9-4325-cc2e-39d8d2aaf81d"
      },
      "execution_count": null,
      "outputs": [
        {
          "output_type": "stream",
          "name": "stdout",
          "text": [
            "n: 52 Product: 863968\n",
            "n: 59 Product: 956084\n",
            "n: 53 Product: 898343\n",
            "n: 22 Product: 927682\n",
            "n: 2 Product: 56643\n",
            "n: 32 Product: 928140\n",
            "n: 48 Product: 885256\n",
            "n: 26 Product: 981034\n",
            "n: 40 Product: 928812\n",
            "n: 23 Product: 876600\n",
            "n: 55 Product: 991020\n",
            "n: 27 Product: 990016\n",
            "n: 11 Product: 557996\n",
            "n: 70 Product: 994008\n",
            "n: 53 Product: 961308\n",
            "n: 58 Product: 926316\n",
            "n: 39 Product: 979080\n",
            "n: 3 Product: 290360\n",
            "n: 23 Product: 876015\n",
            "n: 26 Product: 874290\n"
          ]
        }
      ]
    },
    {
      "cell_type": "markdown",
      "metadata": {
        "id": "fEXj8GHJH5p1"
      },
      "source": [
        "Count executed instructions in code and verify with inputs 1,2 and 3"
      ]
    },
    {
      "cell_type": "code",
      "execution_count": null,
      "metadata": {
        "id": "LF1DHjKXIAsF",
        "colab": {
          "base_uri": "https://localhost:8080/"
        },
        "outputId": "ae365d4b-2e54-4855-e08f-4469a0f5f26e"
      },
      "outputs": [
        {
          "output_type": "stream",
          "name": "stdout",
          "text": [
            "Writing max_pairwise_product_gef_ins_cpp.cpp\n"
          ]
        }
      ],
      "source": [
        "%%writefile max_pairwise_product_gef_ins_cpp.cpp\n",
        "#include <iostream>\n",
        "#include <vector>\n",
        "#include <algorithm>\n",
        "#include <climits>\n",
        "\n",
        "int main(int argc, char* argv[]){\n",
        "    uint64_t ins = 0;\n",
        "    int n;                          //1\n",
        "    ins++;\n",
        "    std::cin >> n;                  //1\n",
        "    ins++;\n",
        "    int p_max = INT_MIN;            //1\n",
        "    ins++;\n",
        "    int s_max = INT_MIN;            //1\n",
        "    ins++;\n",
        "    ins++;\n",
        "    for (int i = 0; i < n; i++){    //1 + 2n\n",
        "        ins += 2;\n",
        "        int x;                      //n\n",
        "        ins++;\n",
        "        std::cin >> x;              //n\n",
        "        ins++;\n",
        "        ins += 2; //both ifs\n",
        "        if(x > p_max){              //[0, n]           //[0, n] means that, in the worst case, executes n times.\n",
        "            s_max = p_max;          //[0, n]\n",
        "            ins++;\n",
        "            p_max = x;              //[0, n]\n",
        "            ins++;\n",
        "        }\n",
        "        else if(x > s_max){         //[0, n]\n",
        "            s_max = x;              //[0, n]\n",
        "            ins++;\n",
        "        }\n",
        "    }\n",
        "\n",
        "    ins += 3;\n",
        "    std::cout << (long long) p_max * s_max << \"\\n\"; //3 -> 8 + 4n + 5[0, n] -> 8 + 9n worst case.\n",
        "    std::cout << \"Executed instructions: \" << ins << '\\n';\n",
        "    return 0;\n",
        "}"
      ]
    },
    {
      "cell_type": "code",
      "source": [
        "!g++ max_pairwise_product_gef_ins_cpp.cpp -o max_pairwise_product_gef_ins_cpp\n",
        "!./max_pairwise_product_gef_ins_cpp < input1.txt\n",
        "!./max_pairwise_product_gef_ins_cpp < input2.txt\n",
        "!./max_pairwise_product_gef_ins_cpp < input3.txt"
      ],
      "metadata": {
        "id": "FGUoldbWc2Se",
        "colab": {
          "base_uri": "https://localhost:8080/"
        },
        "outputId": "ee8db54b-f393-4db9-e9e0-3f1d91d3eb7d"
      },
      "execution_count": null,
      "outputs": [
        {
          "output_type": "stream",
          "name": "stdout",
          "text": [
            "90\n",
            "Executed instructions: 88\n",
            "90\n",
            "Executed instructions: 71\n",
            "40000000000\n",
            "Executed instructions: 52\n"
          ]
        }
      ]
    },
    {
      "cell_type": "code",
      "source": [
        "!time ./max_pairwise_product_gef_ins_cpp < input11.txt"
      ],
      "metadata": {
        "id": "zcmt1xMOerVO",
        "colab": {
          "base_uri": "https://localhost:8080/"
        },
        "outputId": "195841e9-537e-4368-d70f-9af80dab4836"
      },
      "execution_count": null,
      "outputs": [
        {
          "output_type": "stream",
          "name": "stdout",
          "text": [
            "39999800000\n",
            "Executed instructions: 1600008\n",
            "\n",
            "real\t0m0.075s\n",
            "user\t0m0.066s\n",
            "sys\t0m0.001s\n"
          ]
        }
      ]
    },
    {
      "cell_type": "markdown",
      "metadata": {
        "id": "yae7sSm2IG9U"
      },
      "source": [
        "Calculate estimated time by instruction and number of instructions by second"
      ]
    },
    {
      "cell_type": "code",
      "execution_count": null,
      "metadata": {
        "id": "suouY7BYL2dz",
        "colab": {
          "base_uri": "https://localhost:8080/"
        },
        "outputId": "135007ad-3985-46f5-950b-28e7bb97b8f2"
      },
      "outputs": [
        {
          "output_type": "stream",
          "name": "stdout",
          "text": [
            "4.437477812610937e-09\n",
            "225353239.4366197\n"
          ]
        }
      ],
      "source": [
        "estimated_time = 0.0071 / 1600008\n",
        "number_of_ins_per_second = 1 / estimated_time\n",
        "print(estimated_time)\n",
        "print(number_of_ins_per_second)"
      ]
    },
    {
      "cell_type": "markdown",
      "metadata": {
        "id": "sy33CNNfPxcE"
      },
      "source": [
        "### Super efficient solution in Python\n",
        "\n",
        "Whitout storing the list in memory and whitout calling a function, add in each line a coment with the number of intstrcution that are executed in that line"
      ]
    },
    {
      "cell_type": "code",
      "execution_count": null,
      "metadata": {
        "id": "_mOjJwKrPxcJ",
        "colab": {
          "base_uri": "https://localhost:8080/"
        },
        "outputId": "7ec5f906-f6d1-4e3a-b3ba-a096ae8bcba6"
      },
      "outputs": [
        {
          "output_type": "stream",
          "name": "stdout",
          "text": [
            "Overwriting max_pairwise_product_gef_py.py\n"
          ]
        }
      ],
      "source": [
        "%%writefile max_pairwise_product_gef_py.py\n",
        "#Python3\n",
        "if __name__ == \"__main__\":\n",
        "    n = int(input())\n",
        "    p_max = -1\n",
        "    s_max = -1\n",
        "    for i in input().split():\n",
        "        x = int(i)\n",
        "        if(x > p_max):\n",
        "            s_max = p_max\n",
        "            p_max = x\n",
        "        elif x > s_max:\n",
        "            s_max = x\n",
        "    print(p_max * s_max)"
      ]
    },
    {
      "cell_type": "markdown",
      "metadata": {
        "id": "K08Eow0hPxcJ"
      },
      "source": [
        "Test with inputs 1 and 2\n",
        "\n",
        "\n"
      ]
    },
    {
      "cell_type": "code",
      "execution_count": null,
      "metadata": {
        "id": "1_mUee2cPxcJ",
        "colab": {
          "base_uri": "https://localhost:8080/"
        },
        "outputId": "a5f669bb-b62b-4d26-aea7-56a25e1ccb76"
      },
      "outputs": [
        {
          "output_type": "stream",
          "name": "stdout",
          "text": [
            "90\n",
            "90\n"
          ]
        }
      ],
      "source": [
        "!python max_pairwise_product_gef_py.py < input1.txt\n",
        "!python max_pairwise_product_gef_py.py < input2.txt"
      ]
    },
    {
      "cell_type": "markdown",
      "metadata": {
        "id": "CE5DB3CmPxcJ"
      },
      "source": [
        "Test and time it with input 3"
      ]
    },
    {
      "cell_type": "code",
      "execution_count": null,
      "metadata": {
        "id": "lyLhFOoePxcJ",
        "colab": {
          "base_uri": "https://localhost:8080/"
        },
        "outputId": "910377e2-7884-429d-92e2-fa2dc58afe4e"
      },
      "outputs": [
        {
          "output_type": "stream",
          "name": "stdout",
          "text": [
            "40000000000\n",
            "CPU times: user 5.11 ms, sys: 743 µs, total: 5.85 ms\n",
            "Wall time: 106 ms\n"
          ]
        }
      ],
      "source": [
        "%%time\n",
        "!python max_pairwise_product_gef_py.py < input3.txt"
      ]
    },
    {
      "cell_type": "code",
      "source": [
        "%%time\n",
        "!python max_pairwise_product_gef_py.py < input11.txt"
      ],
      "metadata": {
        "id": "y5W3hHvEitoF",
        "colab": {
          "base_uri": "https://localhost:8080/"
        },
        "outputId": "05e01912-dad4-4c1e-c60a-81cfb49fc3e8"
      },
      "execution_count": null,
      "outputs": [
        {
          "output_type": "stream",
          "name": "stdout",
          "text": [
            "39999800000\n",
            "CPU times: user 5.96 ms, sys: 1.17 ms, total: 7.13 ms\n",
            "Wall time: 207 ms\n"
          ]
        }
      ]
    },
    {
      "cell_type": "markdown",
      "metadata": {
        "id": "HZEI236lPxcK"
      },
      "source": [
        "20 stress tests"
      ]
    },
    {
      "cell_type": "code",
      "execution_count": null,
      "metadata": {
        "id": "_LoV-p4zPxcK",
        "colab": {
          "base_uri": "https://localhost:8080/"
        },
        "outputId": "54cbea0f-e926-48b5-9caf-55f08d09e560"
      },
      "outputs": [
        {
          "output_type": "stream",
          "name": "stdout",
          "text": [
            "Writing stress_tests_gef_py.py\n"
          ]
        }
      ],
      "source": [
        "%%writefile stress_tests_gef_py.py\n",
        "import random\n",
        "#Python3\n",
        "if __name__ == \"__main__\":\n",
        "    for i in range(20):\n",
        "        n = random.randint(2, 99)\n",
        "        p_max = -1\n",
        "        s_max = -1\n",
        "        for x in range(n):\n",
        "            i = random.randint(19, 133700)\n",
        "            if(i > p_max):\n",
        "                s_max = p_max\n",
        "                p_max = i\n",
        "            elif i > s_max:\n",
        "                s_max = i\n",
        "        print(f\"n: {n} Product: {p_max * s_max}\")"
      ]
    },
    {
      "cell_type": "code",
      "source": [
        "!python stress_tests_gef_py.py"
      ],
      "metadata": {
        "id": "Gsq8-CpokPfv",
        "colab": {
          "base_uri": "https://localhost:8080/"
        },
        "outputId": "02990b09-e60f-49ba-aaff-63782065bc60"
      },
      "execution_count": null,
      "outputs": [
        {
          "output_type": "stream",
          "name": "stdout",
          "text": [
            "n: 6 Product: 14819845374\n",
            "n: 80 Product: 17391671990\n",
            "n: 74 Product: 16348413741\n",
            "n: 42 Product: 17608502010\n",
            "n: 65 Product: 16822345512\n",
            "n: 86 Product: 17596983860\n",
            "n: 80 Product: 17487831627\n",
            "n: 57 Product: 14836426849\n",
            "n: 58 Product: 17598723288\n",
            "n: 26 Product: 16109126484\n",
            "n: 43 Product: 17532080021\n",
            "n: 38 Product: 14326478782\n",
            "n: 73 Product: 16361114625\n",
            "n: 66 Product: 16893119871\n",
            "n: 49 Product: 17118182952\n",
            "n: 88 Product: 17310134399\n",
            "n: 9 Product: 7272889974\n",
            "n: 16 Product: 17401091508\n",
            "n: 73 Product: 17496624096\n",
            "n: 11 Product: 11475979267\n"
          ]
        }
      ]
    },
    {
      "cell_type": "markdown",
      "metadata": {
        "id": "IRVdP3iuPxcK"
      },
      "source": [
        "Count executed instructions in code and verify with inputs 1,2 and 3"
      ]
    },
    {
      "cell_type": "code",
      "execution_count": null,
      "metadata": {
        "id": "RghJOg78PxcK",
        "colab": {
          "base_uri": "https://localhost:8080/"
        },
        "outputId": "edd56ea5-03ae-4f33-8147-1d02a87a7d25"
      },
      "outputs": [
        {
          "output_type": "stream",
          "name": "stdout",
          "text": [
            "Writing max_pairwise_product_gef_ins_py.py\n"
          ]
        }
      ],
      "source": [
        "%%writefile max_pairwise_product_gef_ins_py.py\n",
        "import random\n",
        "#Python3\n",
        "if __name__ == \"__main__\":\n",
        "        ins = 0\n",
        "        n = int(input())                 #1\n",
        "        ins += 1\n",
        "        p_max = -1                       #1\n",
        "        ins += 1\n",
        "        s_max = -1                       #1\n",
        "        ins += 1\n",
        "        ins += 1\n",
        "        for i in input().split():        #1 + 3n (n reads, 2n comparisons unitl end of input)\n",
        "            ins += 2\n",
        "            i = int(i)                   #n\n",
        "            ins += 1\n",
        "            ins += 2\n",
        "            if(i > p_max):               #[0, n]\n",
        "                s_max = p_max            #[0, n]\n",
        "                ins += 1\n",
        "                p_max = i                #[0, n]\n",
        "                ins += 1\n",
        "            elif i > s_max:              #[0, n]\n",
        "                s_max = i                #[0, n]\n",
        "                ins += 1\n",
        "        print(p_max * s_max)             #2\n",
        "        print(f\"Executed instructions: {ins}\") #->6 + 4n + 5[0, n] -> 6 + 9n worst case"
      ]
    },
    {
      "cell_type": "code",
      "source": [
        "!python max_pairwise_product_gef_ins_py.py < input1.txt\n",
        "!python max_pairwise_product_gef_ins_py.py < input2.txt\n",
        "!python max_pairwise_product_gef_ins_py.py < input3.txt"
      ],
      "metadata": {
        "id": "jgv2FaIVmqe9",
        "colab": {
          "base_uri": "https://localhost:8080/"
        },
        "outputId": "38fe3b12-510f-4a37-b1d7-6e2e50984823"
      },
      "execution_count": null,
      "outputs": [
        {
          "output_type": "stream",
          "name": "stdout",
          "text": [
            "90\n",
            "Executed instructions: 74\n",
            "90\n",
            "Executed instructions: 57\n",
            "40000000000\n",
            "Executed instructions: 42\n"
          ]
        }
      ]
    },
    {
      "cell_type": "code",
      "source": [
        "%%time\n",
        "!python max_pairwise_product_gef_ins_py.py < input11.txt"
      ],
      "metadata": {
        "id": "lfLeWiHXm3ri",
        "colab": {
          "base_uri": "https://localhost:8080/"
        },
        "outputId": "809288c1-872f-45a6-db39-6ac1244168e3"
      },
      "execution_count": null,
      "outputs": [
        {
          "output_type": "stream",
          "name": "stdout",
          "text": [
            "39999800000\n",
            "Executed instructions: 1400004\n",
            "CPU times: user 6.61 ms, sys: 0 ns, total: 6.61 ms\n",
            "Wall time: 305 ms\n"
          ]
        }
      ]
    },
    {
      "cell_type": "markdown",
      "metadata": {
        "id": "R6qeUjPaPxcK"
      },
      "source": [
        "Calculate estimated time by instruction and number of instructions by second"
      ]
    },
    {
      "cell_type": "code",
      "execution_count": null,
      "metadata": {
        "id": "iLdXYvn3PxcK",
        "colab": {
          "base_uri": "https://localhost:8080/"
        },
        "outputId": "8d9319c7-3b82-4ab2-8e8e-def091c372d5"
      },
      "outputs": [
        {
          "output_type": "stream",
          "name": "stdout",
          "text": [
            "4.714272244936443e-09\n",
            "212121818.1818182\n"
          ]
        }
      ],
      "source": [
        "estimated_time = 0.0066 / 1400004\n",
        "number_of_ins_per_second = 1 / estimated_time\n",
        "print(estimated_time)\n",
        "print(number_of_ins_per_second)"
      ]
    },
    {
      "cell_type": "markdown",
      "source": [
        "###Correctness tests"
      ],
      "metadata": {
        "id": "7FzwL22_-q8u"
      }
    },
    {
      "cell_type": "code",
      "source": [
        "%%writefile stress_test.sh\n",
        "#!/bin/bash\n",
        "g++ max_pairwise_product_gef_cpp.cpp -o max_pairwise_product_gef_cpp\n",
        "\n",
        "for i in {0..10}\n",
        "do\n",
        "    ./max_pairwise_product_gef_cpp < input$i.txt > ctest$i.txt\n",
        "    grep -xvFf output$i.txt ctest$i.txt\n",
        "done"
      ],
      "metadata": {
        "id": "zKkwLl5U-uOt",
        "colab": {
          "base_uri": "https://localhost:8080/"
        },
        "outputId": "df920e7a-b7a6-4ea7-bd16-d66bb17909d9"
      },
      "execution_count": null,
      "outputs": [
        {
          "output_type": "stream",
          "name": "stdout",
          "text": [
            "Overwriting stress_test.sh\n"
          ]
        }
      ]
    },
    {
      "cell_type": "code",
      "source": [
        "!./stress_test.sh"
      ],
      "metadata": {
        "id": "sBjCuICn--o9"
      },
      "execution_count": null,
      "outputs": []
    },
    {
      "cell_type": "code",
      "source": [
        "%%writefile stress_test.sh\n",
        "#!/bin/bash\n",
        "\n",
        "for i in {0..10}\n",
        "do\n",
        "    python3 max_pairwise_product_gef_py.py < input$i.txt > ptest$i.txt\n",
        "    grep -xvFf output$i.txt ptest$i.txt\n",
        "done"
      ],
      "metadata": {
        "id": "nQKfS5-d_IBz",
        "colab": {
          "base_uri": "https://localhost:8080/"
        },
        "outputId": "1a654192-f776-42ce-aac2-5ab943859715"
      },
      "execution_count": null,
      "outputs": [
        {
          "output_type": "stream",
          "name": "stdout",
          "text": [
            "Overwriting stress_test.sh\n"
          ]
        }
      ]
    },
    {
      "cell_type": "code",
      "source": [
        "!./stress_test.sh"
      ],
      "metadata": {
        "id": "ba9Qt8TZ_U5-"
      },
      "execution_count": null,
      "outputs": []
    },
    {
      "cell_type": "markdown",
      "source": [
        "###Estimated maximum that can be solved in 1 second\n",
        "$$(6 + 9n)*1.47*10^{-9} = 1s$$\n",
        "$$ n \\approx 75'000.000 $$"
      ],
      "metadata": {
        "id": "wQPdvc8u6g2V"
      }
    },
    {
      "cell_type": "code",
      "source": [
        "# Verify input13.txt\n",
        "%%writefile WriteTest.cpp\n",
        "\n",
        "#include <iostream>\n",
        "#include <fstream>\n",
        "#include <cstdlib>\n",
        "\n",
        "using namespace std;\n",
        "\n",
        "int main() {\n",
        "  // Create and open a text file\n",
        "  ofstream MyFile(\"input15.txt\");\n",
        "\n",
        " MyFile << 75000000 <<\"\\n\";  // n\n",
        " for (int i=1; i <75000001; i++){\n",
        "     MyFile << i <<\" \";\n",
        " }\n",
        "\n",
        "  // Close the file\n",
        "  MyFile.close();\n",
        "}"
      ],
      "metadata": {
        "id": "3IE7tCoc65r6",
        "colab": {
          "base_uri": "https://localhost:8080/"
        },
        "outputId": "915265d9-2aa8-4a3e-ba8a-eef7c22e9385"
      },
      "execution_count": null,
      "outputs": [
        {
          "output_type": "stream",
          "name": "stdout",
          "text": [
            "Overwriting WriteTest.cpp\n"
          ]
        }
      ]
    },
    {
      "cell_type": "code",
      "source": [
        "!g++ WriteTest.cpp -o WriteTest"
      ],
      "metadata": {
        "id": "1QNunsY98N9j"
      },
      "execution_count": null,
      "outputs": []
    },
    {
      "cell_type": "code",
      "source": [
        "!./WriteTest"
      ],
      "metadata": {
        "id": "87UlBxvo8Tm6"
      },
      "execution_count": null,
      "outputs": []
    },
    {
      "cell_type": "code",
      "source": [
        "!g++ max_pairwise_product_gef_cpp.cpp -o max_pairwise_product_gef_cpp\n",
        "!time ./max_pairwise_product_gef_cpp < input15.txt #The theoretical max in 1 sec is 75M. The constants are larger in practice."
      ],
      "metadata": {
        "id": "hVqzJVfK8afP",
        "colab": {
          "base_uri": "https://localhost:8080/"
        },
        "outputId": "7f9c5c3b-1e1f-480f-c387-f0a0732a7680"
      },
      "execution_count": null,
      "outputs": [
        {
          "output_type": "stream",
          "name": "stdout",
          "text": [
            "5624999925000000\n",
            "\n",
            "real\t0m33.823s\n",
            "user\t0m33.082s\n",
            "sys\t0m0.238s\n"
          ]
        }
      ]
    },
    {
      "cell_type": "code",
      "source": [
        "%%writefile WriteTestPython.py\n",
        "#Python3\n",
        "if __name__ == \"__main__\":\n",
        "    with open(\"input14.txt\", \"w\") as f:\n",
        "        f.write(\"75000000\\n\")\n",
        "        for i in range(1, 75000001):\n",
        "            f.write(f\"{i} \")"
      ],
      "metadata": {
        "id": "1h_QVi0D9OJN",
        "colab": {
          "base_uri": "https://localhost:8080/"
        },
        "outputId": "434bb650-f0af-4f41-8861-78e8e90dc21c"
      },
      "execution_count": null,
      "outputs": [
        {
          "output_type": "stream",
          "name": "stdout",
          "text": [
            "Overwriting WriteTestPython.py\n"
          ]
        }
      ]
    },
    {
      "cell_type": "code",
      "source": [
        "!python WriteTestPython.py"
      ],
      "metadata": {
        "id": "WNtJhv8y9fgO"
      },
      "execution_count": null,
      "outputs": []
    },
    {
      "cell_type": "code",
      "source": [
        "%%time\n",
        "!python max_pairwise_product_gef_py.py < input14.txt #Again, the theoretical holds. The constans are larger in practice."
      ],
      "metadata": {
        "id": "o5urK2uy9rpn",
        "colab": {
          "base_uri": "https://localhost:8080/"
        },
        "outputId": "572bd11f-77f0-49e1-9f7c-b0c8be5c7f36"
      },
      "execution_count": null,
      "outputs": [
        {
          "output_type": "stream",
          "name": "stdout",
          "text": [
            "5624999925000000\n",
            "CPU times: user 262 ms, sys: 52.3 ms, total: 314 ms\n",
            "Wall time: 38.6 s\n"
          ]
        }
      ]
    },
    {
      "cell_type": "markdown",
      "source": [
        "## Perform 100 randomized automated tests in C++ and Python between the super efficient solution $(T(n) < 10 n = O(n))$ against the sorting solution  $(T(n)  = O(n ln g))$."
      ],
      "metadata": {
        "id": "h5fntOp9vr7x"
      }
    },
    {
      "cell_type": "markdown",
      "source": [
        "100 stress tests sorting solution $(T(n)  = O(n ln g))$"
      ],
      "metadata": {
        "id": "NKf9CUGzJzA_"
      }
    },
    {
      "cell_type": "code",
      "source": [
        "%%writefile stress_tests_sort_hundred_cpp.cpp\n",
        "#include <iostream>\n",
        "#include <vector>\n",
        "#include <algorithm>\n",
        "\n",
        "int main(int argc, char* argv[]){\n",
        "    for(int i = 0; i < 100; i++){\n",
        "        int n = rand() % 69 + 2;\n",
        "        std::vector<int64_t> v(n);\n",
        "        for(int i = 0; i < n; i++){\n",
        "            v[i] = rand() % 10000 + 2;\n",
        "        }\n",
        "        std::sort(v.begin(), v.end());\n",
        "        std::cout << \"Test: \" << i + 1 << \" n: \" << n << \" Product: \" << (long long) v[n - 1] * v[n - 2] << '\\n';\n",
        "    }\n",
        "    return 0;\n",
        "}"
      ],
      "metadata": {
        "colab": {
          "base_uri": "https://localhost:8080/"
        },
        "id": "xBw_W70QJ-So",
        "outputId": "9400855a-1921-4721-84a8-2f35eaedd625"
      },
      "execution_count": null,
      "outputs": [
        {
          "output_type": "stream",
          "name": "stdout",
          "text": [
            "Writing stress_tests_sort_hundred_cpp.cpp\n"
          ]
        }
      ]
    },
    {
      "cell_type": "code",
      "source": [
        "!g++ stress_tests_sort_hundred_cpp.cpp -o hundred_cpp\n",
        "!./hundred_cpp"
      ],
      "metadata": {
        "colab": {
          "base_uri": "https://localhost:8080/"
        },
        "id": "kigPtQsxZk1G",
        "outputId": "2fd7aab3-4fd3-4a81-ff24-e81123b46013"
      },
      "execution_count": null,
      "outputs": [
        {
          "output_type": "stream",
          "name": "stdout",
          "text": [
            "Test: 1 n: 36 Product: 89941896\n",
            "Test: 2 n: 57 Product: 98922772\n",
            "Test: 3 n: 60 Product: 94099610\n",
            "Test: 4 n: 31 Product: 97061823\n",
            "Test: 5 n: 13 Product: 83663118\n",
            "Test: 6 n: 51 Product: 97087172\n",
            "Test: 7 n: 12 Product: 88055612\n",
            "Test: 8 n: 26 Product: 90714270\n",
            "Test: 9 n: 70 Product: 97207578\n",
            "Test: 10 n: 14 Product: 82659976\n",
            "Test: 11 n: 61 Product: 98703600\n",
            "Test: 12 n: 52 Product: 77473704\n",
            "Test: 13 n: 10 Product: 73179975\n",
            "Test: 14 n: 32 Product: 92630928\n",
            "Test: 15 n: 21 Product: 91131372\n",
            "Test: 16 n: 24 Product: 79372320\n",
            "Test: 17 n: 2 Product: 6315562\n",
            "Test: 18 n: 54 Product: 92974560\n",
            "Test: 19 n: 8 Product: 97712784\n",
            "Test: 20 n: 23 Product: 98495568\n",
            "Test: 21 n: 36 Product: 75369105\n",
            "Test: 22 n: 47 Product: 95000409\n",
            "Test: 23 n: 10 Product: 53909000\n",
            "Test: 24 n: 46 Product: 97859750\n",
            "Test: 25 n: 30 Product: 85945648\n",
            "Test: 26 n: 63 Product: 99349934\n",
            "Test: 27 n: 69 Product: 90139400\n",
            "Test: 28 n: 67 Product: 95317922\n",
            "Test: 29 n: 14 Product: 92507982\n",
            "Test: 30 n: 27 Product: 70234203\n",
            "Test: 31 n: 26 Product: 93158292\n",
            "Test: 32 n: 38 Product: 90454320\n",
            "Test: 33 n: 68 Product: 96369715\n",
            "Test: 34 n: 67 Product: 97494027\n",
            "Test: 35 n: 15 Product: 91131048\n",
            "Test: 36 n: 70 Product: 94300326\n",
            "Test: 37 n: 9 Product: 68624178\n",
            "Test: 38 n: 50 Product: 93753250\n",
            "Test: 39 n: 59 Product: 94212853\n",
            "Test: 40 n: 49 Product: 97940406\n",
            "Test: 41 n: 30 Product: 93784710\n",
            "Test: 42 n: 49 Product: 96697260\n",
            "Test: 43 n: 41 Product: 92869465\n",
            "Test: 44 n: 19 Product: 96536910\n",
            "Test: 45 n: 2 Product: 12699434\n",
            "Test: 46 n: 50 Product: 91269230\n",
            "Test: 47 n: 33 Product: 96485853\n",
            "Test: 48 n: 8 Product: 43927891\n",
            "Test: 49 n: 48 Product: 97799240\n",
            "Test: 50 n: 55 Product: 94519524\n",
            "Test: 51 n: 58 Product: 93388754\n",
            "Test: 52 n: 61 Product: 98604171\n",
            "Test: 53 n: 7 Product: 82786392\n",
            "Test: 54 n: 8 Product: 89592848\n",
            "Test: 55 n: 24 Product: 76079992\n",
            "Test: 56 n: 52 Product: 97594640\n",
            "Test: 57 n: 27 Product: 75763895\n",
            "Test: 58 n: 35 Product: 94851737\n",
            "Test: 59 n: 20 Product: 81790088\n",
            "Test: 60 n: 29 Product: 92068704\n",
            "Test: 61 n: 47 Product: 92301986\n",
            "Test: 62 n: 16 Product: 84355884\n",
            "Test: 63 n: 36 Product: 91889544\n",
            "Test: 64 n: 36 Product: 89233170\n",
            "Test: 65 n: 47 Product: 97877920\n",
            "Test: 66 n: 29 Product: 92570076\n",
            "Test: 67 n: 25 Product: 87868786\n",
            "Test: 68 n: 16 Product: 88639085\n",
            "Test: 69 n: 66 Product: 94189692\n",
            "Test: 70 n: 33 Product: 89761822\n",
            "Test: 71 n: 37 Product: 97593800\n",
            "Test: 72 n: 60 Product: 99470682\n",
            "Test: 73 n: 10 Product: 61311296\n",
            "Test: 74 n: 55 Product: 91914368\n",
            "Test: 75 n: 48 Product: 97669720\n",
            "Test: 76 n: 53 Product: 80583226\n",
            "Test: 77 n: 30 Product: 74370345\n",
            "Test: 78 n: 24 Product: 90047240\n",
            "Test: 79 n: 41 Product: 91241958\n",
            "Test: 80 n: 10 Product: 75371094\n",
            "Test: 81 n: 60 Product: 95325472\n",
            "Test: 82 n: 5 Product: 63955048\n",
            "Test: 83 n: 17 Product: 75838315\n",
            "Test: 84 n: 19 Product: 88914064\n",
            "Test: 85 n: 33 Product: 93187082\n",
            "Test: 86 n: 41 Product: 93753928\n",
            "Test: 87 n: 22 Product: 58179597\n",
            "Test: 88 n: 68 Product: 97958154\n",
            "Test: 89 n: 52 Product: 96963213\n",
            "Test: 90 n: 61 Product: 95413703\n",
            "Test: 91 n: 43 Product: 93200800\n",
            "Test: 92 n: 57 Product: 91182560\n",
            "Test: 93 n: 69 Product: 96286692\n",
            "Test: 94 n: 68 Product: 87661008\n",
            "Test: 95 n: 19 Product: 87589857\n",
            "Test: 96 n: 28 Product: 93214038\n",
            "Test: 97 n: 5 Product: 55799380\n",
            "Test: 98 n: 12 Product: 79595848\n",
            "Test: 99 n: 67 Product: 97249440\n",
            "Test: 100 n: 65 Product: 94315578\n"
          ]
        }
      ]
    },
    {
      "cell_type": "code",
      "source": [
        "%%writefile stress_tests_sort_hundred_py.py\n",
        "#Python3\n",
        "import random\n",
        "if __name__ == \"__main__\":\n",
        "    for i in range(100):\n",
        "        n = random.randint(4, 186)\n",
        "        l = [ random.randint(27, 56734) for i in range(n) ]\n",
        "        l.sort()\n",
        "        print(f\"Test: {i + 1} n: {n} Product: {l[-1] * l[-2]}\")"
      ],
      "metadata": {
        "colab": {
          "base_uri": "https://localhost:8080/"
        },
        "id": "0of-hp0XKlBt",
        "outputId": "758c59ec-4a76-443f-8b72-266f576442d9"
      },
      "execution_count": null,
      "outputs": [
        {
          "output_type": "stream",
          "name": "stdout",
          "text": [
            "Writing stress_tests_sort_hundred_py.py\n"
          ]
        }
      ]
    },
    {
      "cell_type": "code",
      "source": [
        "!python stress_tests_sort_hundred_py.py"
      ],
      "metadata": {
        "colab": {
          "base_uri": "https://localhost:8080/"
        },
        "id": "twwu0Js3Z3zL",
        "outputId": "21febcc0-d5cf-46e9-ad88-60dffd3f11a3"
      },
      "execution_count": null,
      "outputs": [
        {
          "output_type": "stream",
          "name": "stdout",
          "text": [
            "Test: 1 n: 12 Product: 2667432826\n",
            "Test: 2 n: 161 Product: 3205257136\n",
            "Test: 3 n: 152 Product: 3210694125\n",
            "Test: 4 n: 56 Product: 3166559928\n",
            "Test: 5 n: 134 Product: 3158963609\n",
            "Test: 6 n: 137 Product: 3165037445\n",
            "Test: 7 n: 55 Product: 2902371984\n",
            "Test: 8 n: 139 Product: 3184231897\n",
            "Test: 9 n: 65 Product: 3020854085\n",
            "Test: 10 n: 83 Product: 3130961098\n",
            "Test: 11 n: 134 Product: 3193606128\n",
            "Test: 12 n: 78 Product: 3183426459\n",
            "Test: 13 n: 97 Product: 3052044684\n",
            "Test: 14 n: 90 Product: 3143077812\n",
            "Test: 15 n: 131 Product: 3078388670\n",
            "Test: 16 n: 10 Product: 1965848421\n",
            "Test: 17 n: 101 Product: 3157183840\n",
            "Test: 18 n: 104 Product: 3180223060\n",
            "Test: 19 n: 152 Product: 3177971500\n",
            "Test: 20 n: 43 Product: 3132604036\n",
            "Test: 21 n: 60 Product: 3072829150\n",
            "Test: 22 n: 77 Product: 3142606636\n",
            "Test: 23 n: 40 Product: 2781426944\n",
            "Test: 24 n: 114 Product: 3178164420\n",
            "Test: 25 n: 13 Product: 3126437688\n",
            "Test: 26 n: 54 Product: 2900777875\n",
            "Test: 27 n: 110 Product: 3185245908\n",
            "Test: 28 n: 37 Product: 2934317400\n",
            "Test: 29 n: 40 Product: 2835129492\n",
            "Test: 30 n: 75 Product: 3097090692\n",
            "Test: 31 n: 59 Product: 3184235340\n",
            "Test: 32 n: 129 Product: 3035383438\n",
            "Test: 33 n: 20 Product: 3019176491\n",
            "Test: 34 n: 168 Product: 3195218796\n",
            "Test: 35 n: 142 Product: 3182242326\n",
            "Test: 36 n: 165 Product: 3142318740\n",
            "Test: 37 n: 128 Product: 3033695880\n",
            "Test: 38 n: 154 Product: 3166097604\n",
            "Test: 39 n: 53 Product: 2945004588\n",
            "Test: 40 n: 150 Product: 3147736274\n",
            "Test: 41 n: 110 Product: 3133651750\n",
            "Test: 42 n: 114 Product: 3095886240\n",
            "Test: 43 n: 161 Product: 3195696438\n",
            "Test: 44 n: 175 Product: 3193604623\n",
            "Test: 45 n: 140 Product: 3158715208\n",
            "Test: 46 n: 124 Product: 3069507612\n",
            "Test: 47 n: 100 Product: 3187031915\n",
            "Test: 48 n: 169 Product: 3200549130\n",
            "Test: 49 n: 37 Product: 2939535294\n",
            "Test: 50 n: 21 Product: 3167982181\n",
            "Test: 51 n: 73 Product: 3075420842\n",
            "Test: 52 n: 170 Product: 3185539392\n",
            "Test: 53 n: 22 Product: 2592906372\n",
            "Test: 54 n: 65 Product: 3099690741\n",
            "Test: 55 n: 153 Product: 3157220508\n",
            "Test: 56 n: 60 Product: 3016989325\n",
            "Test: 57 n: 184 Product: 3062950000\n",
            "Test: 58 n: 62 Product: 3143338128\n",
            "Test: 59 n: 157 Product: 3137674749\n",
            "Test: 60 n: 75 Product: 2907444225\n",
            "Test: 61 n: 105 Product: 3191830950\n",
            "Test: 62 n: 87 Product: 3147995349\n",
            "Test: 63 n: 171 Product: 3149342161\n",
            "Test: 64 n: 178 Product: 3111657360\n",
            "Test: 65 n: 56 Product: 2784797820\n",
            "Test: 66 n: 7 Product: 1497949846\n",
            "Test: 67 n: 100 Product: 3180632424\n",
            "Test: 68 n: 17 Product: 2572865080\n",
            "Test: 69 n: 44 Product: 3087470268\n",
            "Test: 70 n: 41 Product: 2903962060\n",
            "Test: 71 n: 174 Product: 3142834277\n",
            "Test: 72 n: 146 Product: 3157390320\n",
            "Test: 73 n: 24 Product: 2054798452\n",
            "Test: 74 n: 111 Product: 3119150916\n",
            "Test: 75 n: 183 Product: 3050912130\n",
            "Test: 76 n: 98 Product: 3053275092\n",
            "Test: 77 n: 74 Product: 3073466083\n",
            "Test: 78 n: 20 Product: 2998700357\n",
            "Test: 79 n: 57 Product: 3149649808\n",
            "Test: 80 n: 13 Product: 3124462005\n",
            "Test: 81 n: 165 Product: 3127595016\n",
            "Test: 82 n: 65 Product: 3187502442\n",
            "Test: 83 n: 66 Product: 3074272766\n",
            "Test: 84 n: 26 Product: 2470932101\n",
            "Test: 85 n: 166 Product: 3160251864\n",
            "Test: 86 n: 99 Product: 3106374180\n",
            "Test: 87 n: 161 Product: 3196941220\n",
            "Test: 88 n: 23 Product: 3078855174\n",
            "Test: 89 n: 165 Product: 3164675730\n",
            "Test: 90 n: 77 Product: 2892391733\n",
            "Test: 91 n: 62 Product: 2994087600\n",
            "Test: 92 n: 97 Product: 3200596740\n",
            "Test: 93 n: 123 Product: 3144847200\n",
            "Test: 94 n: 119 Product: 3129227060\n",
            "Test: 95 n: 103 Product: 3177720252\n",
            "Test: 96 n: 146 Product: 3085302575\n",
            "Test: 97 n: 92 Product: 3172336542\n",
            "Test: 98 n: 14 Product: 1958497600\n",
            "Test: 99 n: 115 Product: 3151471075\n",
            "Test: 100 n: 61 Product: 2619727086\n"
          ]
        }
      ]
    },
    {
      "cell_type": "markdown",
      "source": [
        "100 stress tests super efficient solution $(T(n) < 10 n = O(n))$"
      ],
      "metadata": {
        "id": "z9Rqih7dMkN1"
      }
    },
    {
      "cell_type": "code",
      "source": [
        "%%writefile stress_tests_gef_hundred_cpp.cpp\n",
        "#include <iostream>\n",
        "#include <vector>\n",
        "#include <algorithm>\n",
        "#include <climits>\n",
        "\n",
        "int main(int argc, char* argv[]){\n",
        "    for(int i = 0; i < 100; i++){\n",
        "        int n = rand() % 93 + 2;\n",
        "        int p_max = INT_MIN;\n",
        "        int s_max = INT_MIN;\n",
        "\n",
        "        for (int i = 0; i < n; i++){\n",
        "            int64_t x = rand() % 16004 + 2;\n",
        "            if(x > p_max){\n",
        "                s_max = p_max;\n",
        "                p_max = x;\n",
        "            }\n",
        "            else if(x > s_max){\n",
        "                s_max = x;\n",
        "            }\n",
        "        }\n",
        "\n",
        "        std::cout << \"Test: \" << i + 1 << \" n: \" << n << \" Product: \" << (long long) p_max * s_max << \"\\n\";\n",
        "    }\n",
        "    return 0;\n",
        "}"
      ],
      "metadata": {
        "colab": {
          "base_uri": "https://localhost:8080/"
        },
        "id": "41_Z834LMsKs",
        "outputId": "a855ddd5-2da8-44f5-9894-fc067b5f958a"
      },
      "execution_count": null,
      "outputs": [
        {
          "output_type": "stream",
          "name": "stdout",
          "text": [
            "Writing stress_tests_gef_hundred_cpp.cpp\n"
          ]
        }
      ]
    },
    {
      "cell_type": "code",
      "source": [
        "!g++ stress_tests_gef_hundred_cpp.cpp -o hundred_gef_cpp\n",
        "!./hundred_gef_cpp"
      ],
      "metadata": {
        "colab": {
          "base_uri": "https://localhost:8080/"
        },
        "id": "Fom9FLjyZ-yo",
        "outputId": "eed9b9d2-3273-41a0-c901-302304cc383b"
      },
      "execution_count": null,
      "outputs": [
        {
          "output_type": "stream",
          "name": "stdout",
          "text": [
            "Test: 1 n: 12 Product: 236744356\n",
            "Test: 2 n: 39 Product: 204588032\n",
            "Test: 3 n: 22 Product: 241548723\n",
            "Test: 4 n: 10 Product: 170150412\n",
            "Test: 5 n: 73 Product: 248927946\n",
            "Test: 6 n: 78 Product: 248229138\n",
            "Test: 7 n: 79 Product: 246900555\n",
            "Test: 8 n: 11 Product: 171471131\n",
            "Test: 9 n: 67 Product: 248089160\n",
            "Test: 10 n: 5 Product: 155684700\n",
            "Test: 11 n: 92 Product: 254322726\n",
            "Test: 12 n: 37 Product: 244301265\n",
            "Test: 13 n: 62 Product: 221214448\n",
            "Test: 14 n: 6 Product: 203766624\n",
            "Test: 15 n: 30 Product: 218059776\n",
            "Test: 16 n: 19 Product: 207585968\n",
            "Test: 17 n: 59 Product: 247228600\n",
            "Test: 18 n: 78 Product: 252868563\n",
            "Test: 19 n: 78 Product: 251076116\n",
            "Test: 20 n: 60 Product: 220715592\n",
            "Test: 21 n: 81 Product: 246637421\n",
            "Test: 22 n: 56 Product: 247481183\n",
            "Test: 23 n: 64 Product: 236522858\n",
            "Test: 24 n: 45 Product: 220676568\n",
            "Test: 25 n: 28 Product: 215968320\n",
            "Test: 26 n: 85 Product: 246050547\n",
            "Test: 27 n: 78 Product: 253365246\n",
            "Test: 28 n: 88 Product: 244093696\n",
            "Test: 29 n: 89 Product: 254450296\n",
            "Test: 30 n: 90 Product: 251705348\n",
            "Test: 31 n: 15 Product: 220419485\n",
            "Test: 32 n: 92 Product: 250003190\n",
            "Test: 33 n: 40 Product: 247740300\n",
            "Test: 34 n: 94 Product: 252585685\n",
            "Test: 35 n: 57 Product: 227135734\n",
            "Test: 36 n: 72 Product: 248534384\n",
            "Test: 37 n: 18 Product: 230735360\n",
            "Test: 38 n: 65 Product: 249012405\n",
            "Test: 39 n: 7 Product: 193801355\n",
            "Test: 40 n: 30 Product: 215128382\n",
            "Test: 41 n: 3 Product: 178895729\n",
            "Test: 42 n: 60 Product: 248016360\n",
            "Test: 43 n: 35 Product: 245809725\n",
            "Test: 44 n: 38 Product: 190882839\n",
            "Test: 45 n: 71 Product: 245280240\n",
            "Test: 46 n: 10 Product: 192566100\n",
            "Test: 47 n: 76 Product: 248669820\n",
            "Test: 48 n: 16 Product: 236028408\n",
            "Test: 49 n: 92 Product: 223982782\n",
            "Test: 50 n: 44 Product: 251917468\n",
            "Test: 51 n: 47 Product: 251205720\n",
            "Test: 52 n: 80 Product: 249213240\n",
            "Test: 53 n: 62 Product: 247005720\n",
            "Test: 54 n: 43 Product: 251285543\n",
            "Test: 55 n: 67 Product: 246387014\n",
            "Test: 56 n: 30 Product: 233347484\n",
            "Test: 57 n: 56 Product: 251870685\n",
            "Test: 58 n: 61 Product: 254689656\n",
            "Test: 59 n: 70 Product: 253205304\n",
            "Test: 60 n: 54 Product: 248724405\n",
            "Test: 61 n: 82 Product: 252743488\n",
            "Test: 62 n: 51 Product: 245011448\n",
            "Test: 63 n: 17 Product: 201642840\n",
            "Test: 64 n: 77 Product: 252305998\n",
            "Test: 65 n: 16 Product: 205484202\n",
            "Test: 66 n: 37 Product: 237356592\n",
            "Test: 67 n: 71 Product: 247621527\n",
            "Test: 68 n: 86 Product: 254258100\n",
            "Test: 69 n: 59 Product: 244182672\n",
            "Test: 70 n: 17 Product: 240554168\n",
            "Test: 71 n: 17 Product: 215590652\n",
            "Test: 72 n: 7 Product: 181879506\n",
            "Test: 73 n: 57 Product: 228220425\n",
            "Test: 74 n: 24 Product: 237493427\n",
            "Test: 75 n: 16 Product: 216989150\n",
            "Test: 76 n: 77 Product: 245950581\n",
            "Test: 77 n: 50 Product: 218521046\n",
            "Test: 78 n: 90 Product: 245021958\n",
            "Test: 79 n: 12 Product: 184477944\n",
            "Test: 80 n: 14 Product: 164170813\n",
            "Test: 81 n: 15 Product: 188759337\n",
            "Test: 82 n: 64 Product: 240096493\n",
            "Test: 83 n: 72 Product: 236878695\n",
            "Test: 84 n: 3 Product: 99625552\n",
            "Test: 85 n: 54 Product: 243647152\n",
            "Test: 86 n: 69 Product: 251982027\n",
            "Test: 87 n: 92 Product: 252411900\n",
            "Test: 88 n: 30 Product: 216360144\n",
            "Test: 89 n: 55 Product: 254402016\n",
            "Test: 90 n: 71 Product: 253379124\n",
            "Test: 91 n: 20 Product: 202548804\n",
            "Test: 92 n: 55 Product: 247857762\n",
            "Test: 93 n: 17 Product: 234057782\n",
            "Test: 94 n: 53 Product: 245770206\n",
            "Test: 95 n: 54 Product: 241412266\n",
            "Test: 96 n: 68 Product: 253840896\n",
            "Test: 97 n: 93 Product: 254338679\n",
            "Test: 98 n: 21 Product: 238031424\n",
            "Test: 99 n: 88 Product: 247180443\n",
            "Test: 100 n: 8 Product: 227955437\n"
          ]
        }
      ]
    },
    {
      "cell_type": "code",
      "source": [
        "%%writefile stress_tests_gef_hundred_py.py\n",
        "import random\n",
        "#Python3\n",
        "if __name__ == \"__main__\":\n",
        "    for i in range(100):\n",
        "        n = random.randint(5, 456)\n",
        "        p_max = -1\n",
        "        s_max = -1\n",
        "        for j in range(n):\n",
        "            x = random.randint(19, 13376)\n",
        "            if(x > p_max):\n",
        "                s_max = p_max\n",
        "                p_max = x\n",
        "            elif x > s_max:\n",
        "                s_max = x\n",
        "        print(f\"Test: {i + 1} n: {n} Product: {p_max * s_max}\")"
      ],
      "metadata": {
        "colab": {
          "base_uri": "https://localhost:8080/"
        },
        "id": "a-j35qWlNIu-",
        "outputId": "1aa40b80-acab-4486-e798-339af0372fa3"
      },
      "execution_count": null,
      "outputs": [
        {
          "output_type": "stream",
          "name": "stdout",
          "text": [
            "Writing stress_tests_gef_hundred_py.py\n"
          ]
        }
      ]
    },
    {
      "cell_type": "code",
      "source": [
        "!python stress_tests_gef_hundred_py.py"
      ],
      "metadata": {
        "colab": {
          "base_uri": "https://localhost:8080/"
        },
        "id": "DF6uoTAIaRQM",
        "outputId": "85e81952-e540-4cd2-86ec-ab62cfebe4e9"
      },
      "execution_count": null,
      "outputs": [
        {
          "output_type": "stream",
          "name": "stdout",
          "text": [
            "Test: 1 n: 187 Product: 174617754\n",
            "Test: 2 n: 268 Product: 178556394\n",
            "Test: 3 n: 299 Product: 177421311\n",
            "Test: 4 n: 285 Product: 176810145\n",
            "Test: 5 n: 62 Product: 175159141\n",
            "Test: 6 n: 311 Product: 178810375\n",
            "Test: 7 n: 387 Product: 177502313\n",
            "Test: 8 n: 312 Product: 177622256\n",
            "Test: 9 n: 436 Product: 177528976\n",
            "Test: 10 n: 227 Product: 176592192\n",
            "Test: 11 n: 153 Product: 178502888\n",
            "Test: 12 n: 411 Product: 176782460\n",
            "Test: 13 n: 195 Product: 174290955\n",
            "Test: 14 n: 228 Product: 177794880\n",
            "Test: 15 n: 380 Product: 177036058\n",
            "Test: 16 n: 113 Product: 172114800\n",
            "Test: 17 n: 167 Product: 173923800\n",
            "Test: 18 n: 278 Product: 178596415\n",
            "Test: 19 n: 28 Product: 174055248\n",
            "Test: 20 n: 253 Product: 177675108\n",
            "Test: 21 n: 386 Product: 178262546\n",
            "Test: 22 n: 363 Product: 176690176\n",
            "Test: 23 n: 388 Product: 176514660\n",
            "Test: 24 n: 331 Product: 177715512\n",
            "Test: 25 n: 250 Product: 177741740\n",
            "Test: 26 n: 386 Product: 178034688\n",
            "Test: 27 n: 85 Product: 157557782\n",
            "Test: 28 n: 141 Product: 176902958\n",
            "Test: 29 n: 64 Product: 174820800\n",
            "Test: 30 n: 309 Product: 178128642\n",
            "Test: 31 n: 97 Product: 175310084\n",
            "Test: 32 n: 313 Product: 178289214\n",
            "Test: 33 n: 386 Product: 176663966\n",
            "Test: 34 n: 378 Product: 178583112\n",
            "Test: 35 n: 408 Product: 178342208\n",
            "Test: 36 n: 193 Product: 178436155\n",
            "Test: 37 n: 88 Product: 172344335\n",
            "Test: 38 n: 139 Product: 169466336\n",
            "Test: 39 n: 96 Product: 173242950\n",
            "Test: 40 n: 158 Product: 173769750\n",
            "Test: 41 n: 176 Product: 170018799\n",
            "Test: 42 n: 397 Product: 177955596\n",
            "Test: 43 n: 92 Product: 163979484\n",
            "Test: 44 n: 274 Product: 176119000\n",
            "Test: 45 n: 258 Product: 176995455\n",
            "Test: 46 n: 22 Product: 161224614\n",
            "Test: 47 n: 32 Product: 139715520\n",
            "Test: 48 n: 408 Product: 177808470\n",
            "Test: 49 n: 272 Product: 178008948\n",
            "Test: 50 n: 7 Product: 171639796\n",
            "Test: 51 n: 363 Product: 178061711\n",
            "Test: 52 n: 100 Product: 176823486\n",
            "Test: 53 n: 258 Product: 178890625\n",
            "Test: 54 n: 364 Product: 177167604\n",
            "Test: 55 n: 246 Product: 178797000\n",
            "Test: 56 n: 436 Product: 177246930\n",
            "Test: 57 n: 299 Product: 178075408\n",
            "Test: 58 n: 367 Product: 178355829\n",
            "Test: 59 n: 323 Product: 177381512\n",
            "Test: 60 n: 25 Product: 143739522\n",
            "Test: 61 n: 181 Product: 177662177\n",
            "Test: 62 n: 152 Product: 177474843\n",
            "Test: 63 n: 266 Product: 178877248\n",
            "Test: 64 n: 166 Product: 173304904\n",
            "Test: 65 n: 201 Product: 177608829\n",
            "Test: 66 n: 223 Product: 171228418\n",
            "Test: 67 n: 397 Product: 174576144\n",
            "Test: 68 n: 325 Product: 176782527\n",
            "Test: 69 n: 197 Product: 175903805\n",
            "Test: 70 n: 386 Product: 177568860\n",
            "Test: 71 n: 293 Product: 177915472\n",
            "Test: 72 n: 303 Product: 178169095\n",
            "Test: 73 n: 153 Product: 171504316\n",
            "Test: 74 n: 104 Product: 169034712\n",
            "Test: 75 n: 455 Product: 176942880\n",
            "Test: 76 n: 52 Product: 174591571\n",
            "Test: 77 n: 410 Product: 177874048\n",
            "Test: 78 n: 416 Product: 177287856\n",
            "Test: 79 n: 125 Product: 177875505\n",
            "Test: 80 n: 297 Product: 176688576\n",
            "Test: 81 n: 111 Product: 163438200\n",
            "Test: 82 n: 227 Product: 177502229\n",
            "Test: 83 n: 18 Product: 151916265\n",
            "Test: 84 n: 432 Product: 175558275\n",
            "Test: 85 n: 132 Product: 177928560\n",
            "Test: 86 n: 10 Product: 151748562\n",
            "Test: 87 n: 81 Product: 173922719\n",
            "Test: 88 n: 81 Product: 173738277\n",
            "Test: 89 n: 263 Product: 176118480\n",
            "Test: 90 n: 356 Product: 176663840\n",
            "Test: 91 n: 322 Product: 177541308\n",
            "Test: 92 n: 171 Product: 177875568\n",
            "Test: 93 n: 69 Product: 167811238\n",
            "Test: 94 n: 371 Product: 175851205\n",
            "Test: 95 n: 130 Product: 171378024\n",
            "Test: 96 n: 245 Product: 175866122\n",
            "Test: 97 n: 449 Product: 177754366\n",
            "Test: 98 n: 423 Product: 177102720\n",
            "Test: 99 n: 83 Product: 164567678\n",
            "Test: 100 n: 447 Product: 178476084\n"
          ]
        }
      ]
    },
    {
      "cell_type": "markdown",
      "source": [
        "## Perform 100 randomized automated tests in C++ and Python with a porgram  compares the answers,for the same 100 random input instances, of the super efficient solution $(T(n) < 10 n = O(n))$ against the sorting solution  $(T(n)  = O(n \\lg{n}))$,  if the answers are not the same stops and displays \"Error\" listing  the input and the two answers; if the 100 tests are completed without stoping displays \"Pass\"."
      ],
      "metadata": {
        "id": "cUZQgm3fljWS"
      }
    },
    {
      "cell_type": "markdown",
      "source": [
        "#Random tests input"
      ],
      "metadata": {
        "id": "3pMlBgh_y_Wd"
      }
    },
    {
      "cell_type": "code",
      "source": [
        "%%writefile rgt.cpp\n",
        "#include <bits/stdc++.h>\n",
        "\n",
        "int main(int argc, char* argv[]){\n",
        "    std::random_device rd;\n",
        "    std::mt19937_64 rng(rd());\n",
        "    std::uniform_int_distribution<> ls_dst(2, 100);\n",
        "\n",
        "    std::ofstream input(\"hundred_rtests.txt\");\n",
        "    for(int i = 0; i < 100; i++){\n",
        "        int64_t n = ls_dst(rng);\n",
        "        input << n << ' ';\n",
        "        while(n--){\n",
        "            std::uniform_int_distribution<> dst(1337, 400000);\n",
        "            input << dst(rng) << ' ';\n",
        "        }\n",
        "        input << '\\n';\n",
        "    }\n",
        "    return 0;\n",
        "}"
      ],
      "metadata": {
        "colab": {
          "base_uri": "https://localhost:8080/"
        },
        "id": "LX2VHjK1yyJM",
        "outputId": "52c78857-b378-4cf5-bd76-22a5972d87f2"
      },
      "execution_count": null,
      "outputs": [
        {
          "output_type": "stream",
          "name": "stdout",
          "text": [
            "Overwriting rgt.cpp\n"
          ]
        }
      ]
    },
    {
      "cell_type": "code",
      "source": [
        "!g++ rgt.cpp -o rgt\n",
        "!./rgt"
      ],
      "metadata": {
        "id": "pJqFQTI94IwB"
      },
      "execution_count": null,
      "outputs": []
    },
    {
      "cell_type": "markdown",
      "source": [
        "#C++. O(nlogn) - O(n)"
      ],
      "metadata": {
        "id": "uWBrsEFLlr41"
      }
    },
    {
      "cell_type": "markdown",
      "source": [
        "#O(nlogn)"
      ],
      "metadata": {
        "id": "PjZSWTx-zJ2Y"
      }
    },
    {
      "cell_type": "code",
      "source": [
        "%%writefile hundred_rtests_sort_cpp.cpp\n",
        "#include <bits/stdc++.h>\n",
        "\n",
        "int main(int argc, char* argv[]){\n",
        "    std::ifstream input(\"hundred_rtests.txt\");\n",
        "    std::ofstream output(\"hundred_rtest_sort.txt\");\n",
        "    std::string l;\n",
        "    int64_t n;\n",
        "    clock_t s = std::clock();\n",
        "    while(std::getline(input, l)){\n",
        "        std::istringstream iss(l);\n",
        "        iss >> n;\n",
        "        int64_t x;\n",
        "        std::vector<int64_t> v;\n",
        "        while(iss >> x){ v.push_back(x); }\n",
        "        std::sort(v.begin(), v.end());\n",
        "        int64_t ans = v[n - 1] * v[n - 2];\n",
        "        output << ans << '\\n';\n",
        "    }\n",
        "    clock_t e = std::clock();\n",
        "    std::cout << \"Time elapsed: \" << (double)(e - s) / CLOCKS_PER_SEC << '\\n';\n",
        "    return 0;\n",
        "}"
      ],
      "metadata": {
        "colab": {
          "base_uri": "https://localhost:8080/"
        },
        "id": "yAysUu-umNfx",
        "outputId": "ee13479e-aadf-4618-9ec3-20c0ee79afa8"
      },
      "execution_count": null,
      "outputs": [
        {
          "output_type": "stream",
          "name": "stdout",
          "text": [
            "Overwriting hundred_rtests_sort_cpp.cpp\n"
          ]
        }
      ]
    },
    {
      "cell_type": "code",
      "source": [
        "!g++ hundred_rtests_sort_cpp.cpp -o hundred_rtests_sort_cpp\n",
        "!./hundred_rtests_sort_cpp"
      ],
      "metadata": {
        "colab": {
          "base_uri": "https://localhost:8080/"
        },
        "id": "Q3MU1Qzc4d-w",
        "outputId": "7430dc23-2e4f-4f01-ef55-cc5448a630e4"
      },
      "execution_count": null,
      "outputs": [
        {
          "output_type": "stream",
          "name": "stdout",
          "text": [
            "Time elapsed: 0.002131\n"
          ]
        }
      ]
    },
    {
      "cell_type": "markdown",
      "source": [
        "#O(n)"
      ],
      "metadata": {
        "id": "4gUwAWUVzoXn"
      }
    },
    {
      "cell_type": "code",
      "source": [
        "%%writefile hundred_rtests_gef_cpp.cpp\n",
        "#include <bits/stdc++.h>\n",
        "\n",
        "int main(int argc, char* argv[]){\n",
        "    std::ifstream input(\"hundred_rtests.txt\");\n",
        "    std::ofstream output(\"hundred_rtest_gef.txt\");\n",
        "    std::string l;\n",
        "    int64_t n;\n",
        "    clock_t s = std::clock();\n",
        "    while(std::getline(input, l)){\n",
        "        std::istringstream iss(l);\n",
        "        iss >> n;\n",
        "        int64_t x;\n",
        "        int64_t p_max = INT_MIN;\n",
        "        int64_t s_max = INT_MIN;\n",
        "        while(iss >> x){\n",
        "            if(x > p_max){\n",
        "                s_max = p_max;\n",
        "                p_max = x;\n",
        "            }\n",
        "            else if(x > s_max){\n",
        "                s_max = x;\n",
        "            }\n",
        "        }\n",
        "        int64_t ans = p_max * s_max;\n",
        "        output << ans << '\\n';\n",
        "    }\n",
        "    clock_t e = std::clock();\n",
        "    std::cout << \"Time elapsed: \" << (double)(e - s) / CLOCKS_PER_SEC << '\\n';\n",
        "    return 0;\n",
        "}"
      ],
      "metadata": {
        "colab": {
          "base_uri": "https://localhost:8080/"
        },
        "id": "WSG1eRAVzr8e",
        "outputId": "b9dc2a9e-b691-4b54-8b11-c14be682ab98"
      },
      "execution_count": null,
      "outputs": [
        {
          "output_type": "stream",
          "name": "stdout",
          "text": [
            "Overwriting hundred_rtests_gef_cpp.cpp\n"
          ]
        }
      ]
    },
    {
      "cell_type": "code",
      "source": [
        "!g++ hundred_rtests_gef_cpp.cpp -o hundred_rtests_gef_cpp\n",
        "!./hundred_rtests_gef_cpp"
      ],
      "metadata": {
        "colab": {
          "base_uri": "https://localhost:8080/"
        },
        "id": "IGVLj37A4qig",
        "outputId": "4ed2b0b4-9f3f-4d72-a98a-3c13420d0950"
      },
      "execution_count": null,
      "outputs": [
        {
          "output_type": "stream",
          "name": "stdout",
          "text": [
            "Time elapsed: 0.000823\n"
          ]
        }
      ]
    },
    {
      "cell_type": "markdown",
      "source": [
        "Checking for consistency in each algorithm output"
      ],
      "metadata": {
        "id": "E4ekV0A024BM"
      }
    },
    {
      "cell_type": "code",
      "source": [
        "%%writefile cpp_hundred.sh\n",
        "#!/bin/bash\n",
        "grep -xvFf hundred_rtest_sort.txt hundred_rtest_gef.txt"
      ],
      "metadata": {
        "colab": {
          "base_uri": "https://localhost:8080/"
        },
        "id": "2SHS9X6R3Cc_",
        "outputId": "e9a497a5-9d6f-479d-e324-fe743cbfe6a8"
      },
      "execution_count": null,
      "outputs": [
        {
          "output_type": "stream",
          "name": "stdout",
          "text": [
            "Overwriting cpp_hundred.sh\n"
          ]
        }
      ]
    },
    {
      "cell_type": "code",
      "source": [
        "#if no output from grep, same values in each txt file i.e. same results in each test case\n",
        "!chmod 744 cpp_hundred.sh\n",
        "!./cpp_hundred.sh"
      ],
      "metadata": {
        "id": "xyz1jLSv37QR"
      },
      "execution_count": null,
      "outputs": []
    },
    {
      "cell_type": "markdown",
      "source": [
        "#Python. O(nlogn) - O(n)"
      ],
      "metadata": {
        "id": "lWm9EHy36sz1"
      }
    },
    {
      "cell_type": "markdown",
      "source": [
        "#O(nlogn)"
      ],
      "metadata": {
        "id": "e3QyKziM6yyg"
      }
    },
    {
      "cell_type": "code",
      "source": [
        "%%writefile hundred_rtests_sort_py.py\n",
        "if __name__ == \"__main__\":\n",
        "    with open(\"hundred_rtests_sort_py.txt\", 'w') as output:\n",
        "        with open(\"hundred_rtests.txt\", 'r') as inp:\n",
        "            for l in inp:\n",
        "                v = []\n",
        "                v = [ int(i) for i in l.split() ]\n",
        "                v.pop(0)\n",
        "                v.sort()\n",
        "                ans = v[-1] * v[-2]\n",
        "                output.write(f\"{ans}\\n\")"
      ],
      "metadata": {
        "colab": {
          "base_uri": "https://localhost:8080/"
        },
        "id": "azKzo5Ny61vO",
        "outputId": "3b7800ea-b345-4f12-c963-e1d4b6a3fbf1"
      },
      "execution_count": null,
      "outputs": [
        {
          "output_type": "stream",
          "name": "stdout",
          "text": [
            "Overwriting hundred_rtests_sort_py.py\n"
          ]
        }
      ]
    },
    {
      "cell_type": "code",
      "source": [
        "%%time\n",
        "#in ms\n",
        "!python hundred_rtests_sort_py.py"
      ],
      "metadata": {
        "colab": {
          "base_uri": "https://localhost:8080/"
        },
        "id": "hNQQ5QjCBkWb",
        "outputId": "99090051-db7a-4e47-df46-cde49d0e0585"
      },
      "execution_count": null,
      "outputs": [
        {
          "output_type": "stream",
          "name": "stdout",
          "text": [
            "CPU times: user 6.59 ms, sys: 0 ns, total: 6.59 ms\n",
            "Wall time: 109 ms\n"
          ]
        }
      ]
    },
    {
      "cell_type": "markdown",
      "source": [
        "#O(n)"
      ],
      "metadata": {
        "id": "nVGquXyJ_G-H"
      }
    },
    {
      "cell_type": "code",
      "source": [
        "%%writefile hundred_rtests_gef_py.py\n",
        "if __name__ == \"__main__\":\n",
        "    with open(\"hundred_rtests_gef_py.txt\", 'w') as output:\n",
        "        with open(\"hundred_rtests.txt\", 'r') as inp:\n",
        "            for l in inp:\n",
        "                l = list(map(int, l.split()))\n",
        "                n = l[0]\n",
        "                p_max = -1\n",
        "                s_max = -1\n",
        "                for x in l[1:]:\n",
        "                    if(x > p_max):\n",
        "                        s_max = p_max\n",
        "                        p_max = x\n",
        "                    elif x > s_max:\n",
        "                        s_max = x\n",
        "                ans = p_max * s_max\n",
        "                output.write(f\"{ans}\\n\")"
      ],
      "metadata": {
        "colab": {
          "base_uri": "https://localhost:8080/"
        },
        "id": "MeZ0eILr_Vj2",
        "outputId": "07130751-4468-4f9a-c628-22599c402a2d"
      },
      "execution_count": null,
      "outputs": [
        {
          "output_type": "stream",
          "name": "stdout",
          "text": [
            "Overwriting hundred_rtests_gef_py.py\n"
          ]
        }
      ]
    },
    {
      "cell_type": "code",
      "source": [
        "%%time\n",
        "#in ms\n",
        "!python hundred_rtests_gef_py.py"
      ],
      "metadata": {
        "colab": {
          "base_uri": "https://localhost:8080/"
        },
        "id": "3MJwseApCIiE",
        "outputId": "0c413470-1f6f-4a32-987a-886c62125ed0"
      },
      "execution_count": null,
      "outputs": [
        {
          "output_type": "stream",
          "name": "stdout",
          "text": [
            "CPU times: user 6.22 ms, sys: 0 ns, total: 6.22 ms\n",
            "Wall time: 106 ms\n"
          ]
        }
      ]
    },
    {
      "cell_type": "markdown",
      "source": [
        "Checking for consistency in each algorithm output"
      ],
      "metadata": {
        "id": "WqK8WFs_CSH0"
      }
    },
    {
      "cell_type": "code",
      "source": [
        "#if no output from grep, same values in each txt file i.e. same results in each test case\n",
        "%%writefile py_hundred.sh\n",
        "#!/bin/bash\n",
        "grep -xvFf hundred_rtests_sort_py.txt hundred_rtests_gef_py.txt"
      ],
      "metadata": {
        "colab": {
          "base_uri": "https://localhost:8080/"
        },
        "id": "2Q7yImZ-CWof",
        "outputId": "bd2b2fa7-48a9-47f4-fe23-501d6f104cde"
      },
      "execution_count": null,
      "outputs": [
        {
          "output_type": "stream",
          "name": "stdout",
          "text": [
            "Overwriting py_hundred.sh\n"
          ]
        }
      ]
    },
    {
      "cell_type": "code",
      "source": [
        "!chmod 744 py_hundred.sh\n",
        "!./py_hundred.sh"
      ],
      "metadata": {
        "id": "rT62jVqrFfd8"
      },
      "execution_count": null,
      "outputs": []
    },
    {
      "cell_type": "markdown",
      "source": [
        "#Cross checking\n",
        "Python O(nlogn) - C++ O(nlogn)<br />\n",
        "Python O(nlogn) - C++ O(n)<br />\n",
        "Python O(n) - C++ O(nlogn)<br />\n",
        "Python O(n) - C++ O(n)"
      ],
      "metadata": {
        "id": "qlyeScFVFvF3"
      }
    },
    {
      "cell_type": "code",
      "source": [
        "#if no output from grep, same values in each txt file i.e. same results in each test case\n",
        "%%writefile hundred_cross_checking.sh\n",
        "#!/bin/bash\n",
        "grep -xvFf hundred_rtests_sort_py.txt hundred_rtest_sort.txt\n",
        "grep -xvFf hundred_rtests_sort_py.txt hundred_rtest_gef.txt\n",
        "grep -xvFf hundred_rtests_gef_py.txt hundred_rtest_sort.txt\n",
        "grep -xvFf hundred_rtests_gef_py.txt hundred_rtest_gef.txt"
      ],
      "metadata": {
        "colab": {
          "base_uri": "https://localhost:8080/"
        },
        "id": "NJuCGm37Fx7j",
        "outputId": "bad80861-dc3f-444b-d06b-a6259f9c100f"
      },
      "execution_count": null,
      "outputs": [
        {
          "output_type": "stream",
          "name": "stdout",
          "text": [
            "Overwriting hundred_cross_checking.sh\n"
          ]
        }
      ]
    },
    {
      "cell_type": "code",
      "source": [
        "!chmod 744 hundred_cross_checking.sh\n",
        "!./hundred_cross_checking.sh"
      ],
      "metadata": {
        "id": "L6j8w5x1GefM"
      },
      "execution_count": null,
      "outputs": []
    }
  ],
  "metadata": {
    "colab": {
      "provenance": []
    },
    "kernelspec": {
      "display_name": "Python 3",
      "name": "python3"
    },
    "language_info": {
      "name": "python"
    }
  },
  "nbformat": 4,
  "nbformat_minor": 0
}